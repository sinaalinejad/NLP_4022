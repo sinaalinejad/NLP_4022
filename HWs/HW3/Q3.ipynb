{
  "cells": [
    {
      "cell_type": "markdown",
      "metadata": {
        "id": "NgQDc4v3TfsF"
      },
      "source": [
        "# Q3"
      ]
    },
    {
      "cell_type": "markdown",
      "metadata": {
        "id": "r3BJFGcYT-LV"
      },
      "source": [
        "*   We will develop a NER system specific to the category of names of the top 1000 movie titles from IMDB.\n",
        "\n",
        "*   We will evaluate the system on a collection of text likely to contain instances of these named entities."
      ]
    },
    {
      "cell_type": "code",
      "execution_count": 1,
      "metadata": {
        "colab": {
          "base_uri": "https://localhost:8080/"
        },
        "id": "GnwTjXyH5Xls",
        "outputId": "7f459f29-c863-43c6-c1e4-fee7d4e1e6e7"
      },
      "outputs": [
        {
          "name": "stderr",
          "output_type": "stream",
          "text": [
            "[nltk_data] Downloading package punkt to /root/nltk_data...\n",
            "[nltk_data]   Unzipping tokenizers/punkt.zip.\n"
          ]
        },
        {
          "data": {
            "text/plain": [
              "True"
            ]
          },
          "execution_count": 1,
          "metadata": {},
          "output_type": "execute_result"
        }
      ],
      "source": [
        "import nltk\n",
        "nltk.download('punkt')"
      ]
    },
    {
      "cell_type": "code",
      "execution_count": 2,
      "metadata": {
        "colab": {
          "base_uri": "https://localhost:8080/"
        },
        "id": "o3DlFdNPT95l",
        "outputId": "4b1a6d83-107a-47cf-86df-d199e2fd2321"
      },
      "outputs": [
        {
          "name": "stderr",
          "output_type": "stream",
          "text": [
            "[nltk_data] Downloading package brown to /root/nltk_data...\n",
            "[nltk_data]   Unzipping corpora/brown.zip.\n",
            "[nltk_data] Downloading package movie_reviews to /root/nltk_data...\n",
            "[nltk_data]   Unzipping corpora/movie_reviews.zip.\n"
          ]
        }
      ],
      "source": [
        "import re\n",
        "import csv\n",
        "import math\n",
        "import nltk\n",
        "nltk.download('brown')\n",
        "nltk.download('movie_reviews')\n",
        "from nltk.corpus import brown, movie_reviews\n",
        "from nltk.tokenize import word_tokenize"
      ]
    },
    {
      "cell_type": "code",
      "execution_count": 9,
      "metadata": {
        "id": "5hHLacEwzP3q"
      },
      "outputs": [],
      "source": [
        "def get_top_1000_list():\n",
        "    \"\"\"\n",
        "    Function to extract movie titles from a IMDB-top-1000.csv file.\n",
        "\n",
        "    Returns:\n",
        "        list: A list of unique titles of the top 1000 movies\n",
        "    \"\"\"\n",
        "\n",
        "    collected_titles = set()\n",
        "    file_path = f\"IMDB-top-1000.csv\"  # Construct the complete file path\n",
        "    with open(file_path, 'r') as file:\n",
        "        reader = csv.reader(file)\n",
        "        next(reader)\n",
        "        for row in reader:\n",
        "            title = row[1]\n",
        "            collected_titles.add(title)\n",
        "\n",
        "    return list(collected_titles)"
      ]
    },
    {
      "cell_type": "code",
      "execution_count": 10,
      "metadata": {
        "id": "Mem-wyqU1z0f"
      },
      "outputs": [],
      "source": [
        "def label_BIO(_tokens, _NE):\n",
        "    \"\"\"\n",
        "    Generates BIO (Beginning, Inside, Outside) tags for movie titles in the given tokens.\n",
        "\n",
        "    Args:\n",
        "        _tokens (list): List of tokens representing words in a sentence.\n",
        "        _NE (list): List of named entities, where each entity is represented as a list of tokens.\n",
        "\n",
        "    Returns:\n",
        "        list: List of tuples containing tokens and their corresponding BIO tags.\n",
        "\n",
        "    Comments:\n",
        "        - This function searches for movie titles in the tokens and labels them using BIO notation.\n",
        "        - A movie title is considered to be a named entity, where the first word is labeled as 'B-MOV'\n",
        "          (Beginning of a movie title) and subsequent words are labeled as 'I-MOV' (Inside a movie title).\n",
        "        - Non-movie title tokens are labeled as 'O' (Outside any named entity).\n",
        "        - The function iterates through each token in the tokens list, searching for matches in the named entity list.\n",
        "          If a match is found, the corresponding tokens are labeled accordingly in the BIO format.\n",
        "        - It returns a list of tuples, each containing a token and its corresponding BIO tag.\n",
        "    \"\"\"\n",
        "    BIO_for_samples = []\n",
        "\n",
        "    for i, token in enumerate(_tokens):\n",
        "      # Check if token is present in any named entity (movie title)\n",
        "      is_movie_title = any(token in entity for entity in _NE)\n",
        "\n",
        "      if is_movie_title:\n",
        "        # Check if this is the first token of the movie title\n",
        "        if any(token == entity[0] for entity in _NE):\n",
        "          BIO_for_samples.append((token, \"B-MOV\"))  # Beginning of Movie Title\n",
        "        else:\n",
        "          BIO_for_samples.append((token, \"I-MOV\"))  # Inside Movie Title\n",
        "      else:\n",
        "        BIO_for_samples.append((token, \"O\"))  # Outside any named entity\n",
        "\n",
        "    return BIO_for_samples"
      ]
    },
    {
      "cell_type": "code",
      "execution_count": 11,
      "metadata": {
        "id": "1UA4HbNA5Fj6"
      },
      "outputs": [],
      "source": [
        "# Don't change this cell\n",
        "def print_BIO_res(_BIO):\n",
        "    for i in range(len(_BIO)):\n",
        "        if _BIO[i][1] == 'B-MOV':\n",
        "            for j in range(i - 7, i + 7):\n",
        "                if _BIO[j][1] == 'O':\n",
        "                    print(_BIO[j][0], end=\" \")\n",
        "                else:\n",
        "                    print(_BIO[j], end=\" \")\n",
        "            print(\"\")"
      ]
    },
    {
      "cell_type": "code",
      "execution_count": 12,
      "metadata": {
        "id": "vrQqvG947sb4"
      },
      "outputs": [],
      "source": [
        "# Don't change this cell\n",
        "def get_data_from_file(_fn):\n",
        "    with open(_fn, 'r') as file:\n",
        "        data = file.read().replace('\\n', ' ')\n",
        "    return data"
      ]
    },
    {
      "cell_type": "code",
      "execution_count": 14,
      "metadata": {
        "colab": {
          "base_uri": "https://localhost:8080/"
        },
        "id": "CdzyVGJ25IBc",
        "outputId": "28c1bc22-32ad-48ae-ef0d-c601603105f2"
      },
      "outputs": [
        {
          "name": "stdout",
          "output_type": "stream",
          "text": [
            "('the', 'I-MOV') biggest film ('of', 'I-MOV') ('the', 'I-MOV') pandemic ('.', 'I-MOV') ('A', 'B-MOV') ('hit', 'I-MOV') ('with', 'I-MOV') critics ('and', 'I-MOV') audience alike \n"
          ]
        }
      ],
      "source": [
        "\n",
        "\n",
        "titles_top_1000 = get_top_1000_list()\n",
        "# get text data from a text file\n",
        "data = get_data_from_file(\"article-about-a-genre.txt\")\n",
        "# tokenize text data\n",
        "tokens = word_tokenize(data)\n",
        "# tag with BIO using the IMDB top 1000 movie title list\n",
        "BIO = label_BIO(tokens, titles_top_1000)\n",
        "\n",
        "print_BIO_res(BIO)"
      ]
    }
  ],
  "metadata": {
    "colab": {
      "provenance": []
    },
    "kernelspec": {
      "display_name": "Python 3",
      "name": "python3"
    },
    "language_info": {
      "codemirror_mode": {
        "name": "ipython",
        "version": 3
      },
      "file_extension": ".py",
      "mimetype": "text/x-python",
      "name": "python",
      "nbconvert_exporter": "python",
      "pygments_lexer": "ipython3",
      "version": "3.9.0"
    }
  },
  "nbformat": 4,
  "nbformat_minor": 0
}
