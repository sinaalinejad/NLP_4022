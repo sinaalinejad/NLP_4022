{
  "cells": [
    {
      "cell_type": "markdown",
      "metadata": {
        "id": "jY4bE9_OqCer"
      },
      "source": [
        "# Simple Sentiment Analyser"
      ]
    },
    {
      "cell_type": "code",
      "execution_count": null,
      "metadata": {
        "id": "SAU04IeenwBt"
      },
      "outputs": [],
      "source": [
        "import numpy as np\n",
        "from sklearn.model_selection import train_test_split\n",
        "from sklearn.decomposition import TruncatedSVD\n",
        "from sklearn.feature_extraction.text import CountVectorizer\n",
        "from sklearn.pipeline import make_pipeline\n",
        "from sklearn.svm import SVC\n",
        "from sklearn.metrics import accuracy_score\n",
        "from nltk.corpus import movie_reviews\n",
        "from tqdm import tqdm\n",
        "import nltk\n",
        "import spacy"
      ]
    },
    {
      "cell_type": "code",
      "execution_count": null,
      "metadata": {
        "id": "P5g23Inwnzec",
        "colab": {
          "base_uri": "https://localhost:8080/"
        },
        "outputId": "9a95e363-71b3-4d8f-c73e-031ff10b40b3"
      },
      "outputs": [
        {
          "output_type": "stream",
          "name": "stderr",
          "text": [
            "[nltk_data] Downloading package movie_reviews to /root/nltk_data...\n",
            "[nltk_data]   Package movie_reviews is already up-to-date!\n"
          ]
        }
      ],
      "source": [
        "nltk.download('movie_reviews')\n",
        "\n",
        "# Load spaCy English model\n",
        "nlp = spacy.load(\"en_core_web_sm\")\n",
        "\n",
        "# Load IMDB Movie Reviews dataset from NLTK\n",
        "movie_reviews_data = [(movie_reviews.raw(fileid), category) for category in movie_reviews.categories() for fileid in movie_reviews.fileids(category)]\n",
        "\n",
        "# Extract texts and labels\n",
        "texts, labels = zip(*movie_reviews_data)\n",
        "# Convert labels to binary (0 for negative, 1 for positive)\n",
        "labels = [1 if item=='pos' else 0 for item in labels]\n",
        "\n",
        "# Split the dataset into training and testing sets\n",
        "X_train, X_test, y_train, y_test = train_test_split(texts, labels, test_size=0.2, random_state=42)"
      ]
    },
    {
      "cell_type": "code",
      "execution_count": null,
      "metadata": {
        "id": "O-TII6_Xmhre",
        "colab": {
          "base_uri": "https://localhost:8080/"
        },
        "outputId": "9260c967-6e8e-4c04-f31b-83e2e5147a4a"
      },
      "outputs": [
        {
          "output_type": "stream",
          "name": "stderr",
          "text": [
            "100%|██████████| 1600/1600 [02:54<00:00,  9.18it/s]\n",
            "100%|██████████| 400/400 [00:54<00:00,  7.30it/s]\n"
          ]
        }
      ],
      "source": [
        "# Function to calculate document embeddings using spaCy\n",
        "def calculate_embeddings(texts):\n",
        "    embeddings = []\n",
        "    for text in tqdm(texts):\n",
        "        doc = nlp(text)\n",
        "        doc_vector = np.mean([token.vector for token in doc], axis=0)\n",
        "        embeddings.append(doc_vector)\n",
        "    return np.array(embeddings)\n",
        "\n",
        "# Calculate embeddings for training and testing sets\n",
        "X_train_embeddings = calculate_embeddings(X_train)\n",
        "X_test_embeddings = calculate_embeddings(X_test)"
      ]
    },
    {
      "cell_type": "code",
      "execution_count": null,
      "metadata": {
        "id": "KJtzWBY4n3Xv",
        "colab": {
          "base_uri": "https://localhost:8080/"
        },
        "outputId": "e0015e24-ea79-4fe2-996f-65a8051b161d"
      },
      "outputs": [
        {
          "output_type": "stream",
          "name": "stdout",
          "text": [
            "Accuracy: 0.585 with n_components: 5\n",
            "Accuracy: 0.6475 with n_components: 10\n",
            "Accuracy: 0.66 with n_components: 20\n",
            "Accuracy: 0.68 with n_components: 50\n",
            "Accuracy: 0.6925 with n_components: 96\n"
          ]
        }
      ],
      "source": [
        "# Build a pipeline with TruncatedSVD and SVM classifier\n",
        "# Specify the best n_components hyperparameter.\n",
        "for n in [5,10,20,50,96]:\n",
        "  model = make_pipeline(TruncatedSVD(n_components=n), SVC())\n",
        "\n",
        "  # Fit the model on training data\n",
        "  model.fit(X_train_embeddings, y_train)\n",
        "\n",
        "  # Make predictions on test data\n",
        "  predictions = model.predict(X_test_embeddings)\n",
        "\n",
        "  # Evaluate the accuracy\n",
        "  accuracy = accuracy_score(y_test, predictions)\n",
        "  print(f\"Accuracy: {accuracy} with n_components: {n}\")"
      ]
    },
    {
      "cell_type": "markdown",
      "metadata": {
        "id": "p0KqRUkVqKea"
      },
      "source": [
        "#More accurate one"
      ]
    },
    {
      "cell_type": "code",
      "execution_count": null,
      "metadata": {
        "id": "jroFbuNrqNU0"
      },
      "outputs": [],
      "source": [
        "import numpy as np\n",
        "from sklearn.model_selection import train_test_split\n",
        "from sklearn.decomposition import TruncatedSVD\n",
        "from sklearn.pipeline import make_pipeline\n",
        "from sklearn.svm import SVC\n",
        "from sklearn.metrics import accuracy_score\n",
        "from nltk.corpus import movie_reviews\n",
        "from transformers import AutoTokenizer, AutoModel\n",
        "import torch"
      ]
    },
    {
      "cell_type": "code",
      "source": [
        "device = torch.device('cuda' if torch.cuda.is_available() else 'cpu')"
      ],
      "metadata": {
        "id": "mfdSZjWA50vS"
      },
      "execution_count": null,
      "outputs": []
    },
    {
      "cell_type": "code",
      "execution_count": null,
      "metadata": {
        "id": "FX3DNIONqn6Z"
      },
      "outputs": [],
      "source": [
        "# Load BERT tokenizer and model\n",
        "tokenizer = AutoTokenizer.from_pretrained(\"bert-base-uncased\")\n",
        "bert_model = AutoModel.from_pretrained(\"bert-base-uncased\").to(device)"
      ]
    },
    {
      "cell_type": "code",
      "execution_count": null,
      "metadata": {
        "id": "vElOSRMTqtHP",
        "colab": {
          "base_uri": "https://localhost:8080/"
        },
        "outputId": "80f84b21-0b05-4bdf-ce29-764b59cc5760"
      },
      "outputs": [
        {
          "output_type": "stream",
          "name": "stderr",
          "text": [
            "100%|██████████| 1600/1600 [01:01<00:00, 26.20it/s]\n",
            "100%|██████████| 400/400 [00:14<00:00, 27.67it/s]\n"
          ]
        }
      ],
      "source": [
        "def calculate_embeddings(texts):\n",
        "    embeddings = []\n",
        "    for text in tqdm(texts):\n",
        "        # Tokenize the text\n",
        "        # tokenizer.to(device)\n",
        "        tokens = tokenizer(text, return_tensors=\"pt\", truncation=True, padding=True).to(device)\n",
        "\n",
        "        # Get BERT model output\n",
        "        with torch.no_grad():\n",
        "            model_output = bert_model(**tokens)\n",
        "        # print(model_output.last_hidden_state.shape)\n",
        "        # break\n",
        "        # Use mean pooling to get sentence embeddings\n",
        "        doc_vector = model_output.last_hidden_state.mean(dim = 1)\n",
        "        embeddings.append(doc_vector.cpu())\n",
        "\n",
        "    return np.array(embeddings)\n",
        "\n",
        "\n",
        "# Calculate embeddings for training and testing sets\n",
        "X_train_embeddings = calculate_embeddings(X_train)\n",
        "X_test_embeddings = calculate_embeddings(X_test)"
      ]
    },
    {
      "cell_type": "code",
      "source": [
        "X_train_embeddings = X_train_embeddings.squeeze()\n",
        "X_test_embeddings = X_test_embeddings.squeeze()"
      ],
      "metadata": {
        "id": "Rdjm_9lc7LUV"
      },
      "execution_count": null,
      "outputs": []
    },
    {
      "cell_type": "code",
      "execution_count": null,
      "metadata": {
        "id": "Bl8uJ9nmq2vX",
        "colab": {
          "base_uri": "https://localhost:8080/"
        },
        "outputId": "60c20612-3321-4cea-a878-93fd092d5d89"
      },
      "outputs": [
        {
          "output_type": "stream",
          "name": "stdout",
          "text": [
            "Accuracy: 0.7775 with n_components: 50\n",
            "Accuracy: 0.8 with n_components: 100\n",
            "Accuracy: 0.7975 with n_components: 200\n",
            "Accuracy: 0.8 with n_components: 300\n",
            "Accuracy: 0.8025 with n_components: 400\n",
            "Accuracy: 0.8 with n_components: 500\n",
            "Accuracy: 0.8 with n_components: 600\n",
            "Accuracy: 0.8 with n_components: 700\n",
            "Accuracy: 0.8 with n_components: 768\n"
          ]
        }
      ],
      "source": [
        "# Build a pipeline with TruncatedSVD and SVM classifier\n",
        "# Specify the best n_components hyperparameter.\n",
        "for n in [50,100,200,300,400,500,600,700,768]:\n",
        "  model = make_pipeline(TruncatedSVD(n_components=n), SVC())\n",
        "\n",
        "  # Fit the model on training data\n",
        "  model.fit(X_train_embeddings, y_train)\n",
        "\n",
        "  # Make predictions on test data\n",
        "  predictions = model.predict(X_test_embeddings)\n",
        "\n",
        "  # Evaluate the accuracy\n",
        "  accuracy = accuracy_score(y_test, predictions)\n",
        "  print(f\"Accuracy: {accuracy} with n_components: {n}\")"
      ]
    }
  ],
  "metadata": {
    "accelerator": "GPU",
    "colab": {
      "gpuType": "T4",
      "provenance": []
    },
    "kernelspec": {
      "display_name": "Python 3",
      "name": "python3"
    },
    "language_info": {
      "codemirror_mode": {
        "name": "ipython",
        "version": 3
      },
      "file_extension": ".py",
      "mimetype": "text/x-python",
      "name": "python",
      "nbconvert_exporter": "python",
      "pygments_lexer": "ipython3",
      "version": "3.9.0"
    }
  },
  "nbformat": 4,
  "nbformat_minor": 0
}