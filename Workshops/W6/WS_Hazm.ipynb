{
  "nbformat": 4,
  "nbformat_minor": 0,
  "metadata": {
    "colab": {
      "provenance": []
    },
    "kernelspec": {
      "name": "python3",
      "display_name": "Python 3"
    },
    "language_info": {
      "name": "python"
    },
    "widgets": {
      "application/vnd.jupyter.widget-state+json": {
        "5ae813e64c44438aa00ef7afa3a2f5d5": {
          "model_module": "@jupyter-widgets/controls",
          "model_name": "HBoxModel",
          "model_module_version": "1.5.0",
          "state": {
            "_dom_classes": [],
            "_model_module": "@jupyter-widgets/controls",
            "_model_module_version": "1.5.0",
            "_model_name": "HBoxModel",
            "_view_count": null,
            "_view_module": "@jupyter-widgets/controls",
            "_view_module_version": "1.5.0",
            "_view_name": "HBoxView",
            "box_style": "",
            "children": [
              "IPY_MODEL_543deb8dda0f40b9b31edc40261f2122",
              "IPY_MODEL_24f64e6d0604413d8b929a2a6824470c",
              "IPY_MODEL_595c28ab0b9b41c48f2e269fc0b49679"
            ],
            "layout": "IPY_MODEL_8320f76eb4db460b9f7bc5a9daf59870"
          }
        },
        "543deb8dda0f40b9b31edc40261f2122": {
          "model_module": "@jupyter-widgets/controls",
          "model_name": "HTMLModel",
          "model_module_version": "1.5.0",
          "state": {
            "_dom_classes": [],
            "_model_module": "@jupyter-widgets/controls",
            "_model_module_version": "1.5.0",
            "_model_name": "HTMLModel",
            "_view_count": null,
            "_view_module": "@jupyter-widgets/controls",
            "_view_module_version": "1.5.0",
            "_view_name": "HTMLView",
            "description": "",
            "description_tooltip": null,
            "layout": "IPY_MODEL_280e73c8420147b6abe8b251ceeea679",
            "placeholder": "​",
            "style": "IPY_MODEL_7f1eb731b5a3466f90e19ceff709cf27",
            "value": "Downloading builder script: 100%"
          }
        },
        "24f64e6d0604413d8b929a2a6824470c": {
          "model_module": "@jupyter-widgets/controls",
          "model_name": "FloatProgressModel",
          "model_module_version": "1.5.0",
          "state": {
            "_dom_classes": [],
            "_model_module": "@jupyter-widgets/controls",
            "_model_module_version": "1.5.0",
            "_model_name": "FloatProgressModel",
            "_view_count": null,
            "_view_module": "@jupyter-widgets/controls",
            "_view_module_version": "1.5.0",
            "_view_name": "ProgressView",
            "bar_style": "success",
            "description": "",
            "description_tooltip": null,
            "layout": "IPY_MODEL_24db6abc8bbd4e14bb4e7bce30e5149e",
            "max": 4485,
            "min": 0,
            "orientation": "horizontal",
            "style": "IPY_MODEL_7aedc22004de425f97e26fe9eadd971d",
            "value": 4485
          }
        },
        "595c28ab0b9b41c48f2e269fc0b49679": {
          "model_module": "@jupyter-widgets/controls",
          "model_name": "HTMLModel",
          "model_module_version": "1.5.0",
          "state": {
            "_dom_classes": [],
            "_model_module": "@jupyter-widgets/controls",
            "_model_module_version": "1.5.0",
            "_model_name": "HTMLModel",
            "_view_count": null,
            "_view_module": "@jupyter-widgets/controls",
            "_view_module_version": "1.5.0",
            "_view_name": "HTMLView",
            "description": "",
            "description_tooltip": null,
            "layout": "IPY_MODEL_570eeefc2f4448eb81010149ff451dd1",
            "placeholder": "​",
            "style": "IPY_MODEL_4ddd6ddcd8864c04ac96a451e2507fc7",
            "value": " 4.49k/4.49k [00:00&lt;00:00, 136kB/s]"
          }
        },
        "8320f76eb4db460b9f7bc5a9daf59870": {
          "model_module": "@jupyter-widgets/base",
          "model_name": "LayoutModel",
          "model_module_version": "1.2.0",
          "state": {
            "_model_module": "@jupyter-widgets/base",
            "_model_module_version": "1.2.0",
            "_model_name": "LayoutModel",
            "_view_count": null,
            "_view_module": "@jupyter-widgets/base",
            "_view_module_version": "1.2.0",
            "_view_name": "LayoutView",
            "align_content": null,
            "align_items": null,
            "align_self": null,
            "border": null,
            "bottom": null,
            "display": null,
            "flex": null,
            "flex_flow": null,
            "grid_area": null,
            "grid_auto_columns": null,
            "grid_auto_flow": null,
            "grid_auto_rows": null,
            "grid_column": null,
            "grid_gap": null,
            "grid_row": null,
            "grid_template_areas": null,
            "grid_template_columns": null,
            "grid_template_rows": null,
            "height": null,
            "justify_content": null,
            "justify_items": null,
            "left": null,
            "margin": null,
            "max_height": null,
            "max_width": null,
            "min_height": null,
            "min_width": null,
            "object_fit": null,
            "object_position": null,
            "order": null,
            "overflow": null,
            "overflow_x": null,
            "overflow_y": null,
            "padding": null,
            "right": null,
            "top": null,
            "visibility": null,
            "width": null
          }
        },
        "280e73c8420147b6abe8b251ceeea679": {
          "model_module": "@jupyter-widgets/base",
          "model_name": "LayoutModel",
          "model_module_version": "1.2.0",
          "state": {
            "_model_module": "@jupyter-widgets/base",
            "_model_module_version": "1.2.0",
            "_model_name": "LayoutModel",
            "_view_count": null,
            "_view_module": "@jupyter-widgets/base",
            "_view_module_version": "1.2.0",
            "_view_name": "LayoutView",
            "align_content": null,
            "align_items": null,
            "align_self": null,
            "border": null,
            "bottom": null,
            "display": null,
            "flex": null,
            "flex_flow": null,
            "grid_area": null,
            "grid_auto_columns": null,
            "grid_auto_flow": null,
            "grid_auto_rows": null,
            "grid_column": null,
            "grid_gap": null,
            "grid_row": null,
            "grid_template_areas": null,
            "grid_template_columns": null,
            "grid_template_rows": null,
            "height": null,
            "justify_content": null,
            "justify_items": null,
            "left": null,
            "margin": null,
            "max_height": null,
            "max_width": null,
            "min_height": null,
            "min_width": null,
            "object_fit": null,
            "object_position": null,
            "order": null,
            "overflow": null,
            "overflow_x": null,
            "overflow_y": null,
            "padding": null,
            "right": null,
            "top": null,
            "visibility": null,
            "width": null
          }
        },
        "7f1eb731b5a3466f90e19ceff709cf27": {
          "model_module": "@jupyter-widgets/controls",
          "model_name": "DescriptionStyleModel",
          "model_module_version": "1.5.0",
          "state": {
            "_model_module": "@jupyter-widgets/controls",
            "_model_module_version": "1.5.0",
            "_model_name": "DescriptionStyleModel",
            "_view_count": null,
            "_view_module": "@jupyter-widgets/base",
            "_view_module_version": "1.2.0",
            "_view_name": "StyleView",
            "description_width": ""
          }
        },
        "24db6abc8bbd4e14bb4e7bce30e5149e": {
          "model_module": "@jupyter-widgets/base",
          "model_name": "LayoutModel",
          "model_module_version": "1.2.0",
          "state": {
            "_model_module": "@jupyter-widgets/base",
            "_model_module_version": "1.2.0",
            "_model_name": "LayoutModel",
            "_view_count": null,
            "_view_module": "@jupyter-widgets/base",
            "_view_module_version": "1.2.0",
            "_view_name": "LayoutView",
            "align_content": null,
            "align_items": null,
            "align_self": null,
            "border": null,
            "bottom": null,
            "display": null,
            "flex": null,
            "flex_flow": null,
            "grid_area": null,
            "grid_auto_columns": null,
            "grid_auto_flow": null,
            "grid_auto_rows": null,
            "grid_column": null,
            "grid_gap": null,
            "grid_row": null,
            "grid_template_areas": null,
            "grid_template_columns": null,
            "grid_template_rows": null,
            "height": null,
            "justify_content": null,
            "justify_items": null,
            "left": null,
            "margin": null,
            "max_height": null,
            "max_width": null,
            "min_height": null,
            "min_width": null,
            "object_fit": null,
            "object_position": null,
            "order": null,
            "overflow": null,
            "overflow_x": null,
            "overflow_y": null,
            "padding": null,
            "right": null,
            "top": null,
            "visibility": null,
            "width": null
          }
        },
        "7aedc22004de425f97e26fe9eadd971d": {
          "model_module": "@jupyter-widgets/controls",
          "model_name": "ProgressStyleModel",
          "model_module_version": "1.5.0",
          "state": {
            "_model_module": "@jupyter-widgets/controls",
            "_model_module_version": "1.5.0",
            "_model_name": "ProgressStyleModel",
            "_view_count": null,
            "_view_module": "@jupyter-widgets/base",
            "_view_module_version": "1.2.0",
            "_view_name": "StyleView",
            "bar_color": null,
            "description_width": ""
          }
        },
        "570eeefc2f4448eb81010149ff451dd1": {
          "model_module": "@jupyter-widgets/base",
          "model_name": "LayoutModel",
          "model_module_version": "1.2.0",
          "state": {
            "_model_module": "@jupyter-widgets/base",
            "_model_module_version": "1.2.0",
            "_model_name": "LayoutModel",
            "_view_count": null,
            "_view_module": "@jupyter-widgets/base",
            "_view_module_version": "1.2.0",
            "_view_name": "LayoutView",
            "align_content": null,
            "align_items": null,
            "align_self": null,
            "border": null,
            "bottom": null,
            "display": null,
            "flex": null,
            "flex_flow": null,
            "grid_area": null,
            "grid_auto_columns": null,
            "grid_auto_flow": null,
            "grid_auto_rows": null,
            "grid_column": null,
            "grid_gap": null,
            "grid_row": null,
            "grid_template_areas": null,
            "grid_template_columns": null,
            "grid_template_rows": null,
            "height": null,
            "justify_content": null,
            "justify_items": null,
            "left": null,
            "margin": null,
            "max_height": null,
            "max_width": null,
            "min_height": null,
            "min_width": null,
            "object_fit": null,
            "object_position": null,
            "order": null,
            "overflow": null,
            "overflow_x": null,
            "overflow_y": null,
            "padding": null,
            "right": null,
            "top": null,
            "visibility": null,
            "width": null
          }
        },
        "4ddd6ddcd8864c04ac96a451e2507fc7": {
          "model_module": "@jupyter-widgets/controls",
          "model_name": "DescriptionStyleModel",
          "model_module_version": "1.5.0",
          "state": {
            "_model_module": "@jupyter-widgets/controls",
            "_model_module_version": "1.5.0",
            "_model_name": "DescriptionStyleModel",
            "_view_count": null,
            "_view_module": "@jupyter-widgets/base",
            "_view_module_version": "1.2.0",
            "_view_name": "StyleView",
            "description_width": ""
          }
        },
        "60f1e7f4735c4917abf3e9c1beb38e49": {
          "model_module": "@jupyter-widgets/controls",
          "model_name": "HBoxModel",
          "model_module_version": "1.5.0",
          "state": {
            "_dom_classes": [],
            "_model_module": "@jupyter-widgets/controls",
            "_model_module_version": "1.5.0",
            "_model_name": "HBoxModel",
            "_view_count": null,
            "_view_module": "@jupyter-widgets/controls",
            "_view_module_version": "1.5.0",
            "_view_name": "HBoxView",
            "box_style": "",
            "children": [
              "IPY_MODEL_8e5a88eb60de430792bfafde288a6e57",
              "IPY_MODEL_055dfb14704e4cbcb4e3944caa47183e",
              "IPY_MODEL_806d7ccf822f492b9c211bd9e545d6e3"
            ],
            "layout": "IPY_MODEL_62f258751215459da12080b22a8e4889"
          }
        },
        "8e5a88eb60de430792bfafde288a6e57": {
          "model_module": "@jupyter-widgets/controls",
          "model_name": "HTMLModel",
          "model_module_version": "1.5.0",
          "state": {
            "_dom_classes": [],
            "_model_module": "@jupyter-widgets/controls",
            "_model_module_version": "1.5.0",
            "_model_name": "HTMLModel",
            "_view_count": null,
            "_view_module": "@jupyter-widgets/controls",
            "_view_module_version": "1.5.0",
            "_view_name": "HTMLView",
            "description": "",
            "description_tooltip": null,
            "layout": "IPY_MODEL_a5e09bf0af5d4746a46a972139b96501",
            "placeholder": "​",
            "style": "IPY_MODEL_3064395e2aca4520bcc791b6b8839e19",
            "value": "Downloading builder script: 100%"
          }
        },
        "055dfb14704e4cbcb4e3944caa47183e": {
          "model_module": "@jupyter-widgets/controls",
          "model_name": "FloatProgressModel",
          "model_module_version": "1.5.0",
          "state": {
            "_dom_classes": [],
            "_model_module": "@jupyter-widgets/controls",
            "_model_module_version": "1.5.0",
            "_model_name": "FloatProgressModel",
            "_view_count": null,
            "_view_module": "@jupyter-widgets/controls",
            "_view_module_version": "1.5.0",
            "_view_name": "ProgressView",
            "bar_style": "success",
            "description": "",
            "description_tooltip": null,
            "layout": "IPY_MODEL_34d384d4d772458cbb259198226a23be",
            "max": 5599,
            "min": 0,
            "orientation": "horizontal",
            "style": "IPY_MODEL_73ac5f6b276a459484801d3e7eeb5793",
            "value": 5599
          }
        },
        "806d7ccf822f492b9c211bd9e545d6e3": {
          "model_module": "@jupyter-widgets/controls",
          "model_name": "HTMLModel",
          "model_module_version": "1.5.0",
          "state": {
            "_dom_classes": [],
            "_model_module": "@jupyter-widgets/controls",
            "_model_module_version": "1.5.0",
            "_model_name": "HTMLModel",
            "_view_count": null,
            "_view_module": "@jupyter-widgets/controls",
            "_view_module_version": "1.5.0",
            "_view_name": "HTMLView",
            "description": "",
            "description_tooltip": null,
            "layout": "IPY_MODEL_fc9e969a5b6b448f8b145de95fb7d8a9",
            "placeholder": "​",
            "style": "IPY_MODEL_44d8dd5316284d03a42f55d2236b699f",
            "value": " 5.60k/5.60k [00:00&lt;00:00, 321kB/s]"
          }
        },
        "62f258751215459da12080b22a8e4889": {
          "model_module": "@jupyter-widgets/base",
          "model_name": "LayoutModel",
          "model_module_version": "1.2.0",
          "state": {
            "_model_module": "@jupyter-widgets/base",
            "_model_module_version": "1.2.0",
            "_model_name": "LayoutModel",
            "_view_count": null,
            "_view_module": "@jupyter-widgets/base",
            "_view_module_version": "1.2.0",
            "_view_name": "LayoutView",
            "align_content": null,
            "align_items": null,
            "align_self": null,
            "border": null,
            "bottom": null,
            "display": null,
            "flex": null,
            "flex_flow": null,
            "grid_area": null,
            "grid_auto_columns": null,
            "grid_auto_flow": null,
            "grid_auto_rows": null,
            "grid_column": null,
            "grid_gap": null,
            "grid_row": null,
            "grid_template_areas": null,
            "grid_template_columns": null,
            "grid_template_rows": null,
            "height": null,
            "justify_content": null,
            "justify_items": null,
            "left": null,
            "margin": null,
            "max_height": null,
            "max_width": null,
            "min_height": null,
            "min_width": null,
            "object_fit": null,
            "object_position": null,
            "order": null,
            "overflow": null,
            "overflow_x": null,
            "overflow_y": null,
            "padding": null,
            "right": null,
            "top": null,
            "visibility": null,
            "width": null
          }
        },
        "a5e09bf0af5d4746a46a972139b96501": {
          "model_module": "@jupyter-widgets/base",
          "model_name": "LayoutModel",
          "model_module_version": "1.2.0",
          "state": {
            "_model_module": "@jupyter-widgets/base",
            "_model_module_version": "1.2.0",
            "_model_name": "LayoutModel",
            "_view_count": null,
            "_view_module": "@jupyter-widgets/base",
            "_view_module_version": "1.2.0",
            "_view_name": "LayoutView",
            "align_content": null,
            "align_items": null,
            "align_self": null,
            "border": null,
            "bottom": null,
            "display": null,
            "flex": null,
            "flex_flow": null,
            "grid_area": null,
            "grid_auto_columns": null,
            "grid_auto_flow": null,
            "grid_auto_rows": null,
            "grid_column": null,
            "grid_gap": null,
            "grid_row": null,
            "grid_template_areas": null,
            "grid_template_columns": null,
            "grid_template_rows": null,
            "height": null,
            "justify_content": null,
            "justify_items": null,
            "left": null,
            "margin": null,
            "max_height": null,
            "max_width": null,
            "min_height": null,
            "min_width": null,
            "object_fit": null,
            "object_position": null,
            "order": null,
            "overflow": null,
            "overflow_x": null,
            "overflow_y": null,
            "padding": null,
            "right": null,
            "top": null,
            "visibility": null,
            "width": null
          }
        },
        "3064395e2aca4520bcc791b6b8839e19": {
          "model_module": "@jupyter-widgets/controls",
          "model_name": "DescriptionStyleModel",
          "model_module_version": "1.5.0",
          "state": {
            "_model_module": "@jupyter-widgets/controls",
            "_model_module_version": "1.5.0",
            "_model_name": "DescriptionStyleModel",
            "_view_count": null,
            "_view_module": "@jupyter-widgets/base",
            "_view_module_version": "1.2.0",
            "_view_name": "StyleView",
            "description_width": ""
          }
        },
        "34d384d4d772458cbb259198226a23be": {
          "model_module": "@jupyter-widgets/base",
          "model_name": "LayoutModel",
          "model_module_version": "1.2.0",
          "state": {
            "_model_module": "@jupyter-widgets/base",
            "_model_module_version": "1.2.0",
            "_model_name": "LayoutModel",
            "_view_count": null,
            "_view_module": "@jupyter-widgets/base",
            "_view_module_version": "1.2.0",
            "_view_name": "LayoutView",
            "align_content": null,
            "align_items": null,
            "align_self": null,
            "border": null,
            "bottom": null,
            "display": null,
            "flex": null,
            "flex_flow": null,
            "grid_area": null,
            "grid_auto_columns": null,
            "grid_auto_flow": null,
            "grid_auto_rows": null,
            "grid_column": null,
            "grid_gap": null,
            "grid_row": null,
            "grid_template_areas": null,
            "grid_template_columns": null,
            "grid_template_rows": null,
            "height": null,
            "justify_content": null,
            "justify_items": null,
            "left": null,
            "margin": null,
            "max_height": null,
            "max_width": null,
            "min_height": null,
            "min_width": null,
            "object_fit": null,
            "object_position": null,
            "order": null,
            "overflow": null,
            "overflow_x": null,
            "overflow_y": null,
            "padding": null,
            "right": null,
            "top": null,
            "visibility": null,
            "width": null
          }
        },
        "73ac5f6b276a459484801d3e7eeb5793": {
          "model_module": "@jupyter-widgets/controls",
          "model_name": "ProgressStyleModel",
          "model_module_version": "1.5.0",
          "state": {
            "_model_module": "@jupyter-widgets/controls",
            "_model_module_version": "1.5.0",
            "_model_name": "ProgressStyleModel",
            "_view_count": null,
            "_view_module": "@jupyter-widgets/base",
            "_view_module_version": "1.2.0",
            "_view_name": "StyleView",
            "bar_color": null,
            "description_width": ""
          }
        },
        "fc9e969a5b6b448f8b145de95fb7d8a9": {
          "model_module": "@jupyter-widgets/base",
          "model_name": "LayoutModel",
          "model_module_version": "1.2.0",
          "state": {
            "_model_module": "@jupyter-widgets/base",
            "_model_module_version": "1.2.0",
            "_model_name": "LayoutModel",
            "_view_count": null,
            "_view_module": "@jupyter-widgets/base",
            "_view_module_version": "1.2.0",
            "_view_name": "LayoutView",
            "align_content": null,
            "align_items": null,
            "align_self": null,
            "border": null,
            "bottom": null,
            "display": null,
            "flex": null,
            "flex_flow": null,
            "grid_area": null,
            "grid_auto_columns": null,
            "grid_auto_flow": null,
            "grid_auto_rows": null,
            "grid_column": null,
            "grid_gap": null,
            "grid_row": null,
            "grid_template_areas": null,
            "grid_template_columns": null,
            "grid_template_rows": null,
            "height": null,
            "justify_content": null,
            "justify_items": null,
            "left": null,
            "margin": null,
            "max_height": null,
            "max_width": null,
            "min_height": null,
            "min_width": null,
            "object_fit": null,
            "object_position": null,
            "order": null,
            "overflow": null,
            "overflow_x": null,
            "overflow_y": null,
            "padding": null,
            "right": null,
            "top": null,
            "visibility": null,
            "width": null
          }
        },
        "44d8dd5316284d03a42f55d2236b699f": {
          "model_module": "@jupyter-widgets/controls",
          "model_name": "DescriptionStyleModel",
          "model_module_version": "1.5.0",
          "state": {
            "_model_module": "@jupyter-widgets/controls",
            "_model_module_version": "1.5.0",
            "_model_name": "DescriptionStyleModel",
            "_view_count": null,
            "_view_module": "@jupyter-widgets/base",
            "_view_module_version": "1.2.0",
            "_view_name": "StyleView",
            "description_width": ""
          }
        }
      }
    }
  },
  "cells": [
    {
      "cell_type": "markdown",
      "source": [
        "## Q4"
      ],
      "metadata": {
        "id": "6aPh6iQJaWV2"
      }
    },
    {
      "cell_type": "code",
      "execution_count": 1,
      "metadata": {
        "id": "Ezs9Om11yDa8"
      },
      "outputs": [],
      "source": [
        "with open(\"./real.txt\") as f:\n",
        "  reference = f.read()"
      ]
    },
    {
      "cell_type": "code",
      "source": [
        "reference"
      ],
      "metadata": {
        "colab": {
          "base_uri": "https://localhost:8080/",
          "height": 109
        },
        "id": "hk-Qz8zuyTHS",
        "outputId": "3df08732-8e11-49f0-d910-f775b8dba4ad"
      },
      "execution_count": 2,
      "outputs": [
        {
          "output_type": "execute_result",
          "data": {
            "text/plain": [
              "'در دوران جنگ جهانی دوم یکی از برگه\\nبرنده\\u200cهای متفقین رمزگشایی از پیام\\u200cهای\\n\\nسری نازی\\u200cها بود که کمک بزرگی به شکست\\nآلمان\\u200cها کرد این کار به همین راحتیا نبو\\n\\nو شکستن رمز ماشین انیگما به یک نبوغ بالا\\nنیاز داشت نبوغی که فقط یک شخص داشت کسی\\n\\nکه ازش به عنوان پدر هوش مصنوعی یاد میشه\\nو نقش بسیار پررنگی در شکل\\u200cگیری علوم\\n\\nکامپیوتری داشت اما عمر کوتاهش اجازه نداد\\nکه دستاوردها شو تکمیل کنه آلن تورین کی\\n\\nبود چطور تونست کد دستگاه رمزنگاری\\nقدرتمند آلمان\\u200cها رو باز کنه ماجرای تست\\n\\nمشهور تورینگ چیه و مرگ مشکوک چطور رقم\\n[موسیقی]\\n\\nخورد آلن تورینگ دانشمند علوم کامپیوتر\\nریاضیدان و نابغ بریتانیایی که به عنوان\\n\\nپدر علم کامپیوتر و هوش مصنوعی شناخته\\nمیشه دستاوردهای برجسته اون در طول زندگی\\n\\nکوتاهش به قدری ارزشمند بوده که حتی\\nامروزه قابل لمسه آلن تورینگ یکی از\\n\\nبرجسته\\u200cترین چهره\\u200cهای رمزگشایی از\\nپیام\\u200cهای سری آلمان\\u200cها در دوران جنگ جهانی\\n\\nدوم بود که نقش بسیار مهمی در کوتاه\\u200cتر\\nشدن جنگ\\n\\nداشت آلند متولد بیست سوم ژوئن ۱۹۱۲ در\\nلندنه پدرش جولیا متیوس تورینگ یکی از\\n\\nکارگران شرکت ایندین سیویل سرویس در هند\\nبود و به خاطر ماهیت شغلش بین هند و\\n\\nانگلستان در رفت و آمد بود و اکثر وقت\\u200cها\\nهم همراه همسرش در هند\\n\\nمیموندن این شرایط کاری باعث شد که آلن و\\nبرادر بزرگترش جان رو به یه زوج ارتشی\\n\\nبازنشسته بسپارن که در انگلستان بزرگ بشن\\nآلن از ۶ سالگی به مدرسه شبانه روزی سنت\\n\\nمایکل رفت و از همون موقع مشخص بود که بچه\\nباهوشیه\\n\\nتو ۱۳ سالگی هم به مدرسه بسیار مشهور شر\\nمورد رفت آلن و برادرش مجبور بودن تو\\n\\nمدارسی تحصیل کنن که تمرکزشون روی ادبیات\\nو مسائل مذهبی بود و انقدرها بهایی به\\n\\nاستعداد اونها\\nنمیدادن مدیر این مدرسه که فعالیت\\u200cهای\\n\\nخارج از برنامه و علاقه شدید آلم به ریاضی\\nو شیمی رو میدید به پدرش نامه نوشته بود\\n\\nعالم با موندن تو این مدرسه دولتی آدم\\nتحصیل کرده\\u200cای میشه ولی اگه دن بال\\n\\nدانشمند شدنه وقتشو اینجا تلف می\\u200cکنه و به\\nجایی\\n\\nنمی\\u200cرسه ولی این موضوع چیزی از علاقه عالم\\nبه ریاضیات کم نکرد و در ۱۵ سالگی بدون\\n\\nاینکه هیچ آموزش درست حسابی داشته باشه\\nمسائل پیچیده ریاضی رو حل می\\u200cکرد حتی\\n\\nبررسی\\u200cهای دقیق روی مطالعات انشتین و\\nنظریه نسبیت انجام داد اما مسئولین مدرسش\\n\\nکه دست کم می\\u200c گرفتنش برای اینکه\\nموسسه\\u200cهای دیگه مسخرشون نکنن اجازه\\n\\nاستفاده از اسم این مرکز و توی توی\\nمطالعاتش\\n\\nنمیدادن آلن تو همین دوران با شخصی به اسم\\nکریستوفر مورک آشنا شد که مثل خودش علاقه\\n\\nزیادی به ریاضیات داشت ولی این دوستی زیاد\\nدووم نداشت و کریستوفر به خاطر مصرف شیر\\n\\nآلوده و ابتلا به سل گاوی از دنیا\\nرفت این اتفاقیه که بعضیا شروع تغییر\\n\\nروحیات و اعتقادات آلن و گرایشش به آتئیسم\\nمی\\u200cدونن آلن تو زندگی غیرکاری شخصیت\\n\\nگوشه\\u200cگیر بود ولی برعکسش تو بحث و جدل\\u200cهای\\nعلمی تا دلتون بخواد اعتماد به نفس داشت و\\n\\nجسور بود بین سالهای ۱۹۳۱ تا ۳۴ تو\\nدانشگاه کینگز کالج کمبریج تحصیل کرد و\\n\\nدستاوردهای برجسته اش مدال افتخار درجه یک\\nریاضیات رو براش به ارمغان آورد و با رتبه\\n\\nبالا در رشته ریاضیات فارغ و تحصیل شد سال\\nبعدش در ۲۲ سالگی پایان نامشو نوشت که\\n\\nانقدر م تحسین قرار گرفت که کاندیدای\\nعضویت در هیئت تحقیقاتی دانشکده\\n\\nشد آلن یک سال بعد در مقالهای با عنوان\\nدرباره اعداد شمارش پذیر اصول ماشینی رو\\n\\nتوضیح داد که قابلیت محاسبات گسترده\\nریاضیات رو داشت این ابزار که بعدها به\\n\\nنام ماشین تورینگ معروف شد مفهوم پایه\\nکامپیوترهای امروزی به شمار\\n\\nمیره یکی از سولات مهم زندگی آلن این بود\\nآیا میشه ماشینی درست کرد که قدرت تفکر\\n\\nداشته باشه جلوتر\\nمی\\u200cفهمیم آلن تحصیلات تکمیلش رو در\\n\\nدانشگاه پرینستون آمریکا در مورد مطالعات\\nعلوم رمزنگاری و رمزگشایی گذروند که به\\n\\nنوعی مهم\\u200cترین دستاورد زندگیش رو رقم زد\\nیعنی کدگشایی یکی از قوی\\u200cترین دستگاه\\u200cهای\\n\\nرمزنگاری اون دوران که داستانشو براتون\\nتعریف می\\u200cکنم سال ۰ ۹۳۸ هم مدرک دکترا\\n\\nگرفت و حتی ریاضیدان مشهور آمریکایی با\\nمطالعه نظریاتش ازش دعوت کرد که در\\n\\nتحقیقاتش با هم همکاری کنن اما آلن تصمیم\\nگرفته بود که به انگلستان\\n\\nبرگرده اما برسیم به اوج هنرنمایی آلن\\nتورینگ در علم رمزنگاری در جنگ جهانی دوم\\n\\nکه شهرتش از قبلم بیشتر کرد در زمان جنگ\\nآلن یکی از بهترین کارشناسان رمزگشایی\\n\\nبریتانیا بود که در شکستن رمزهای\\nآلمانی\\u200cها تبهر خاصی داشت آلم با همکاری\\n\\nکارشناسی دیگه تونست کاری کنه کارستون و\\nرمز ماشین انیگما رو بشکنه دستگاه\\n\\nرمزگذاری که ارتش آلمان ازش استفاده\\nمی\\u200cکرد و بسیار پیچیده و قدرتمند بود در\\n\\nسال\\u200cهای بعد از جنگ جهانی اول رازداری و\\nحفاظت اطلاعات و یک اصل مهم تبدیل شده بود\\n\\nکمپانی\\u200cهایی که قصد شرکت در تجارت جهان رو\\nداشتن باید رازا شونو مخفی نگه\\n\\nمیداشتن آرتور شربی وس مهندس و مختر\\nآلمانی کسی بود که در دهه\\n\\n۱۹۲۰ با اختراع ماشین انیگما به نیاز این\\nشرکت\\u200cهای بزرگ برای امن نگه داشتن\\n\\nاطلاعاتشون جواب داد انیگما یه وسیله\\nالکترومکانیکی که خیلی شبیه ماشین تایک\\n\\nبود خیلی نگذشت که نیروهای زمینی و هوایی\\nو دریایی ارتش آلمان م تصمیم گرفت که از\\n\\nاین دستگاه استفاده\\nکنن پیچیدگی\\u200cهای این دستگاه آلمانی\\u200cها را\\n\\nنسبت به امنیت اطلاعات سری نظامی شو مطمئن\\nکرده بود اونا معتقد بودن که هیچکس زمان و\\n\\nمهارت ریاضیات کافی را برای رمزگشایی\\nپیغام\\u200cهای که انیگما به وجود میاره نداره\\n\\nاما اونا اشتباه\\nمی\\u200cکردن تو گردهمایی معروف ورشا در سال\\n\\n۱۹۳۹ سازمان رمزنگاری لهستان به کشورهای\\nفرانسه و انگلستان اعلام کرد که روشی برای\\n\\nرمزگشایی دستگاه\\u200cهای انیگما داره و تونسته\\nبودن تا حدودی پیام\\u200cهایی که این دستگاه کد\\n\\nنگاری کرده رو رمزگشایی کنن ولی دستگاه\\nانیگما هم پیشرفته تر میشد و خوندنش\\n\\nسخت\\u200cتر تا اینکه سازمان اطلاعات بریتانیا\\nسه ریاضیدان لهستانی رو که بیشترین\\n\\nاطلاعات رو در مورد انیگما داشتند به\\nهمراه آلن تورینگ استخدام کرد تا در مقر\\n\\nفوق محرمانه بکلی پارک م سقر بشن و راهی\\nبرای رمزگشایی کامل انیگما پیدا کنن این\\n\\nدستگاه چه\\u200cجوری کار می\\u200cکرد اینطوری که یه\\nصفحه کلید داشت که با فشار دادن هر کلید\\n\\nحرف تایپ شده به یه حرف یا علامت جدید\\nتبدیل میشد دو ویژگی هم داشت حرف ورودی رو\\n\\nمثل خودش کد نمی\\u200cکرد و دو حرف یکسان رو\\nتوی یک کلمه به حروف متفاوت تبدیل می\\u200cکرد\\n\\nیعنی حرف ایکس رو قطعاً به یه حرف جدیدی\\nتغییر می\\u200cداد و اگر کلمه\\u200cای د تا حرف ایکس\\n\\nداشت اون د تا همیشه با همدیگه متفاوت\\nبودن دقت کنید که دستگاه انیگما پیام\\n\\nارسال نمی\\u200cکرد پیام را رمزنگاری شده تحویل\\nاپراتور می\\u200cداد و اپراتور م پیام را با کد\\n\\nمرس به مقصد می\\u200cفرستاد اپراتور مقصدم پیام\\nدریافت شده رو به دستگاه انیک مای خودش\\n\\nمی\\u200cداد و رمزشو باز می\\u200cکرد و می\\u200cخوند واسه\\nهمین تنظیمات دستگاه فرستنده و گیرنده\\n\\nباید مشا بهمی بود چون این دستگاه چندین\\nمدل تنظیمات مختلف داشت که هر کدومش با\\n\\nروش متفاوتی کلمات رو کدگذاری می\\u200cکرد و با\\nهمچین قابلیت\\u200cهایی می\\u200cتونست برای هر کلمه\\n\\nمیلیون\\u200cها کد تولید کنه اما با این وجود\\nآلن تورینگ نابغ و مغز متفکر اون دوره\\n\\nموفق شد ماشینی الکترومکانیکی به نام بامب\\nرو طراحی کنه که کدهای انیگما رو می\\u200cشکست\\n\\nو این یه پیروزی بسیار بزرگ بود که تا\\nتاریخدان ها معتقدن تأثیر بسیار زیادی در\\n\\nکودا شدن جنگ\\nداشت اما اصلاً لو ندادن که تونستن این\\n\\nکارو کنن تا آلمان\\u200cها باخبر نشن و به\\nاستفاده از این دستگاه ادامه\\n\\nبدن آلن در مورد روشی که برای این کار\\nبزرگ استفاده کرده بود د تا مقاله نوشت\\n\\nاین مقالات انقدر برای سازمان ارتباطات\\nانگلستان با ارزشمند بودن که تا آوریل سال\\n\\n۲۰۱۲ به آرشیو ملی انگلستان تحویل داده ن\\nشدن تنها مشکل اون\\u200cها برای ادامه کار\\n\\nکمبود نیروی انسانی و دستگاه\\u200cهای رمزگشایی\\nبود این مشکل امکان رمزگشایی پیام\\u200cهای\\n\\nبسیار زیاد آلمان\\u200cها رو از متفقین گرفته\\nبود واسه همین بعد کلی کژدار مریز کردن و\\n\\nکش و قص دل زدن به دریا و مستقیماً به\\nچرچیل نامه نوشتن و درخواستش وو مطرح کردن\\n\\nتو این نامه که اسم آلن تورینگ بالای لیست\\nامضا کننده\\u200cها بود از کمبود امکانات گله\\n\\nکردن و گفتن در صورت تأمین مالی کافی\\nتولید بیشتر دستگاه\\u200cهای بام و رمزگشایی\\n\\nتوی آینده از خسارات بسیاری توی جنگ\\nجلوگیری می\\u200cکنه چرچیل م در کمال تعجب\\n\\nواکنش سریعی به این نامه نشون داد و دستور\\nداد که تمام نیازهای این تیم تأمین بشه از\\n\\nزمان دادن این دستور تا پایان جنگ حدود\\n۲۰۰ دستگاه رمزگشایی ساخته\\n\\nشدن نابغ هوش مصنوعی در خلال فعالیت\\u200cهایش\\nدر طول جنگ در دستگاه\\u200cهای رمزگشایی متعددی\\n\\nتولید کرد که مهم\\u200cترینش دستگاه هات ات بود\\nکه مخصوصاً برای نیروی دریایی آلمان\\u200cها\\n\\nساخته شده بود دستگاه انیگما نیروی دریایی\\nارتش آلمان بسیار حرفه\\u200cای\\u200cتر از دستگاه\\n\\nدیگه بود و تورینگ با رمزگشایی تنظیمات\\nاون کمک بزرگی به پایان جنگ کرد البته\\n\\nآلین تورینگ در زمان فعالیت\\u200cهای رمزگشایی\\nش به یه چیز دیگه هم مشهور بود رفتارهای\\n\\nخاص و عجیب و غریب هم کراش بهش لقب پروف\\nداده بودن مخفف پروفسور تا سال\\u200cهای سالم\\n\\nاز رفتارای عجیب و غریب این نابغه تعریف\\nمی\\u200cکردن مثلاً می\\u200cگفتن برای اینکه لیوانش\\n\\nندازن اونو به یه میله زنجیر کرده\\nبود تورینگ سال ۱۹۴۰ به لندن رفت و در\\n\\nلابراتوار ملی فیزیک مشغول کار شد از\\nمهم\\u200cترین دستاوردهای برجسته اش تو این\\n\\nدوره سرپرستی پروژه موتور محاسباتی خودکار\\nو طرح اولیه کامپیوترهایی بود که\\n\\nکامپیوترهای شخصی اولیه رو کلاً دگرگون\\nکرد اگر مرگش به اون شکلی که در ادامه\\n\\nبهتون میگم اتفاق نمیفتاد شاید دنیا خیلی\\nزودتر شاهد کامپیوترهای قدرتمند امروزی\\n\\nمی\\u200cبود آلن تورینگ در ۱۹۴۸ ی کرسی\\nتحقیقاتی در دانشگاه منچستر گرفت و یه سال\\n\\nبعد قائم مقام آزمایشگاه کامپیوتر این\\nدانشگاه شد فعالیتی اصلی اون در این\\n\\nدانشگاه توسعه نرم\\u200cافزار برای یکی از\\nاولین کامپیوترهای حافظه دار تاریخ به اسم\\n\\nمنچستر مارک وان بود آلن اون سال\\u200cها\\nآزمایشی هم به اسم تست تورین معرفی کرد که\\n\\nبا انجام اون هوشمندی کامپیوترها رو\\nاندازه گیری میکردن مدل برعکس تست تورینگ\\n\\nامروزه به اسم کپچا توی اینترنت داره\\nاستفاده\\n\\nمیشه اون پیشنهاد داد که برای صحبت با\\nکامپیوترها به جای اینکه اونها را توانمند\\n\\nبه درک زبان افراد بالغ کنیم به جاش\\nکامپیوتری با ذهن ی کودک بسازیم و برای\\n\\nیادگیریش برنامه\\u200cریزی انجام\\nبدیم تولین گفته بود بهترین معیار برای\\n\\nهوشمند شمردن یک ماشین اینه که بتونه\\nانسان رو طوری فریب بده که اون باور کنه\\n\\nبا یک انسان روبه\\nروئه سوال مهمی که ذهن آلن رو درگیر کرده\\n\\nبود این بود آیا ماشین\\u200cها می\\u200cتونن از بازی\\nتقلید سربلند بیرون\\n\\nبیان بازی تقلید چیه بازی که سه تا شرکت\\nکننده داره یه زن یه مرد و شخص سومی که\\n\\nبهش میگیم بازجو بازجو از جنسیت دو شرکت\\nکننده خبر نداره از اینکه کدومشون مرده\\n\\nکدومشون زن فقط می\\u200cتونه سوالهایی بپرسه که\\nاز رو جواب\\u200cها جنسیت اونها رو تشخیص بده\\n\\nدو شرکت کننده هم از هم جدان و از سؤالات\\nبازجو و جواب\\u200cهای نفر دیگه خبر\\n\\nندارن هدف بازی تش تشخیص جنسیت دو شرکت\\nکننده از سمت بازجو یکی از شرکت کننده\\u200cها\\n\\nمثلاً زن تلاش می\\u200cکنه که بازجو رو به\\nاشتباه بندازه و جنسیتش به دروغ نشون\\n\\nبده حالا تورینگ میگه اگر شرکت کننده\\u200cای\\nکه میخواد بازجو رو فریب بده با یک رایانه\\n\\nجایگزین بشه و باعث بشه بازجو جنسیتش\\nاشتباه تشخیص بده رایانه در بازی تقلید\\n\\nموفق شده و میشه بهش گفت هوشمند\\n\\nتورینگ حد زده بود که در ۵۰ سال آینده\\nماشین\\u200cهایی پیدا بشن که آزمون تورینگ رو\\n\\nبا موفقیت پشت سر بذارن به نظرتون الان در\\nسال ۲۰ ۲۴ این حدس چقدر درست بوده آلن\\n\\nواقعاً نابغ بود واقعاً یک نابغ به تمام\\nمعنا کورینگ یه برنامه\\u200cای هم برای بازی\\n\\nشطرنج نوشت کی سال\\n۱۹۵۲ وقتی که کامپیوتر قدرتمند اصلا برای\\n\\nاجرا این برنامه وجود نداشت تورین\\nکامپیوتری رو شبیه\\u200cسازی کرد که برای هر\\n\\nحرکت نیم ساعت زمان نیاز داشت نکته جالب\\nاینه که این برنامه از همکار تورین شکست\\n\\nخورد اما تو تجربه دومش تونست حریفش و\\nشکست بده آلن سال ۱۹۴۶ هم مفتخر به دریافت\\n\\nنشان امپراتوری بریتانیا از شخص شاه جرج\\nششم شد آلن تورینگ جدا از فعالیت\\u200cهای علمی\\n\\nش یه دونده استقامت حرفه\\u200c\\u200cای هم بود اون\\nمسافت ۶۴ کیلومتری تا لندن رو برای حضور\\n\\nتوی جلسات مهمش میدویید این آمادگی بدنی\\nباعث شد که این دانشمند ریاضیات برای حضور\\n\\nدر تیم المپیک ۱۹۴۸ انگلستان کاندید بشه\\nولی فقط ۱۱۱ دقیقه دیرتر از قهرمان اون\\n\\nسال\\u200cهای انگلستان یعنی توماس ریچارد به خط\\nپایان برسه و از تیم المپیک جا\\n\\nبمونه اما برسیم به پایان عمر کوتاه این\\nنابغ بزرگ و مرگ\\n\\nمشکوک آلن تورین یه نامزدی کوتاه مدت با\\nهمکارش در پروژه هات ایت یعنی جان کلارک\\n\\nداشت نامزدی اونها به خاطر تمایلات جنسی\\nتورینگ به ازدواج نرسید آلن تورینگ\\n\\nهمجنسگرا بود به خاطر همین تمایلاتی سال\\n۱۹۵۲ به ارتباط نامشروع با جوون ۱۹ ساله\\n\\nبه اسم آرنولد موری متهم شد اتهامی که\\nزندگیشو به کلی تغییر داد و هیچوقتم برای\\n\\nدفاع یا رد این اتهام تلاش خاصی\\nنکرد ماجرای گرایش جنسیش اینجوری لو رفت\\n\\nکه ظاهراً یه روز دزد به خونه آرنولد\\nمی\\u200cزنه و این دزدی رو آلن به پلیس گزارش\\n\\nمی\\u200cکنه و پلیسم در جریان تحقیقاتش متوجه\\nرابطه این دو نفر میشه و از اونجا که\\n\\nهمجنسگرای این موقع در بریتانیا جرم بوده\\nبازداشتش\\n\\nمی\\u200cکنن با توجه به نقش برجسته در شکست\\nنیروهای نازی ویا خدمات قابل توجه بهش د\\n\\nتا انتخاب دادن تا بین زندان و هورمون\\nدرمانی یکی رو انتخاب کنه اون زمان معتقد\\n\\nبودن که تمایلات همجنسگرایانه رو می\\u200cتونن\\nبا دارو درمان کنن و آلن هم برای دور نشدن\\n\\nاز تحقیقات علمیش ناچاراً راه دوم رو\\nانتخاب\\n\\nکرد اتهامات و محاکمه آلن تورینگ حفاظت\\nاطلاعاتی و امنیتی و همکاری اون با دولت\\n\\nانگلستان رو لغو کرد و تمامی هدیه\\u200cهای\\nامنیتی و مجوزهای کار روی سیستم\\u200cهای\\n\\nرمزگشایی توی ارگان\\u200cهای دولتی رو ازش\\nگرفت البته شغل\\u200cهای دانشگاهی تا زمان مرگش\\n\\nبرقرار بودن آلن بعد از جریانات سال\\n۱۹۵۲ از ورود به خاک آمریکا هم من شد ولی\\n\\nهنوز اجازه داشت که توی کشورهای اروپایی\\nسفر کنه اون هیچوقتم به جاسوسی متهم نشد\\n\\nاونا تمام همکارانش در پروژه رمزگشایی تا\\nپایان عمرشون از صحبت در مورد فعالیت\\u200cهای\\n\\nدوران جنگ منع شده\\nبودن اما یک سال تزریق مداوم هرمون\\n\\nاستروژن تغییرات زیادی رو روی بدنش انجام\\nداد که در نهایت به افسردگی و گوشه گیریش\\n\\nختم\\nشد در نهایت در هشتم ژوئن\\n\\n۱۹۵۴ در اواخر ۴۱ سالگیش کارگر خونه\\u200cش جسد\\nبیجون آلن رو توی اتاق خوابش پیدا\\n\\nمی\\u200cکنه کنار تخت وش سیبی گاز زده پیدا شد\\nکه احتمال داده بودن آلوده به سم سیانید\\n\\nبوده\\nباشه خیلیا این مگ رو خودکشی به خاطر\\n\\nافسردگی می\\u200cدونن اما مادرش هیچوقت زیر بار\\nاین حرف نرفت البته تحقیقات تکمیلی که\\n\\nسال\\u200cهای بعد انجام شد احتمال استنشاق این\\nسم رو از دستگاه پوششدهی طلا دادن توی این\\n\\nدستگاه\\u200cها سیانید برای تجزیه کردن طلا\\nاستفاده میشد و تورینگ هم یه نمونه کوچیک\\n\\nاونو توی اتاق آزمایشگاه شخصیش داشت و یکی\\nاز دلایلی بود که مرگ تصادفی رو محتمل\\n\\nمی\\u200cدونست ولی هیچوقت واقعیت مشخص نشد که\\nآیا آلن خودکشی کرده یا یه مرگ تصادفی\\n\\nداشته آلن تونین هم مثل خیلی از دانشمندان\\nو بزرگان دیگه در زمان حیاتش اونچنان که\\n\\nباید و شاید بهش بها داده نشد و بعد از\\nمرگش بود که ارزش دستاوردها مشخص شد یکی\\n\\nاز موندگارترین یادبودهای پدر علم\\nکامپیوتر مدرن جایزه تورینگ این جایزه که\\n\\nبه نوبل دنیای کامپیوتر معروفه از سال\\n۱۹۶۶ هر سال به برترین فعالان این صنعت\\n\\nتعلق می\\u200cگیره مجسمه\\u200cها یادبودهای زیادی هم\\nبه یاد این دانشمند بزرگ ساخته شد خیابون\\n\\nو پل آلن تورینگ در شهر منچستر از\\nمشهورترین این یاد بودهاست سال\\n\\n۱۹۹۹ مجله تایمز تورینگ رو بین صد فرد مهم\\nقرن بیستم قرار داد جمله یادبود این مجله\\n\\nبرای تورینگ این بود هر فردی که دکمه\\u200cای\\nرو روی صفحه کلید فشار میده یا یک\\n\\nنرم\\u200cافزاری رو باز می\\u200cکنه در حال کار روی\\nتجسمی از ماشین\\n\\nتورینگ بعضی از کارشناسان و کاربران دنیای\\nکامپیوتر لوگوی شرکت اپل رو به خاطر سیب\\n\\nگاز زده\\u200cای می\\u200cدونن که موقع مرگ آلن\\nتورینگ کنار تختش پیدا کردن بهخصوص اینکه\\n\\nاون اوایل این لوگو چند رنگم بوده که\\nاحتمال می\\u200cدادن به خاطر گرایشات جنسی عالم\\n\\nبوده\\nباشه ولی اپل این موضوع رو تکذیب کرده\\n\\nالبته استیو جابز جایی گفته بود که ای کاش\\nاین طراحی به تورینگ مربوط\\n\\nمیشد انگلستان بعد از درخواست\\u200cهای زیاد و\\nجمع\\u200cآوری هزاران امضا توسط طرفداران\\n\\nتورینگ در نهایت سال ۲۰۱۳ اون را از تمام\\nاتهاماتش عف کرد\\n\\nاین بود سرگذشت یکی از موندگارترین نابغه\\nهای تاریخ آلن تورینگ که متأسفانه عمر\\n\\nکوتاهی داشت و جهان را از دستآوردهای\\nبعدیش بی\\u200cنصیب کرد اگه این ویدیو براتون\\n\\nجذاب بود و آورده\\u200cای براتون داشته ممنون\\nمیشم که چنل رو سابسکرایب کنید لایکش کنید\\n\\nویدیو رو و اگر نقد و نظر و پیشنهادی در\\nمورد چنل و بهخصوص این ویدیو دارید حتماً\\n\\nتوی کامنتها برامون بنویسید منی نژا دت\\nهستم و این چنل یوتیوب راف کسته\\n\\n'"
            ],
            "application/vnd.google.colaboratory.intrinsic+json": {
              "type": "string"
            }
          },
          "metadata": {},
          "execution_count": 2
        }
      ]
    },
    {
      "cell_type": "code",
      "source": [
        "with open(\"./HarfOutp.txt\") as f:\n",
        "  predicted = f.read()"
      ],
      "metadata": {
        "id": "9mSvcDfbyWFY"
      },
      "execution_count": 3,
      "outputs": []
    },
    {
      "cell_type": "code",
      "source": [
        "predicted"
      ],
      "metadata": {
        "colab": {
          "base_uri": "https://localhost:8080/",
          "height": 109
        },
        "id": "2rNLFDyiydOV",
        "outputId": "4bc709c1-b877-45b3-9ee7-f600d04bf87b"
      },
      "execution_count": 4,
      "outputs": [
        {
          "output_type": "execute_result",
          "data": {
            "text/plain": [
              "' .در دوران جنگ جهانی دوم، یکی از برگ برنده های متفقین رمزگشایی از پیام های سری نازی ها بود که کمک کرد. .بزرگی به شکست آلمان ها کرد. این کار به همین راحتیا نبود و شکستن رمز ماشین انیگما به یک نبوغ بالا نیاز داشت. .نبوغی که فقط یک شخص داشت. .کسی که ازش به عنوان پدر هوش مصنوعی یاد می شود و نقش بسیار پررنگی در شکلگیری علوم کامپیوتری داشت. .اما عمره کوتاهش اجازه نداد که دستاوردهاشو تکمیل کنه. .آلن تورین کی بود؟ چطور تونست کد دستگاه رمزنگاری قدرتمند آلمان ها رو باز کنه؟ .ماجرای تست مشهور تورینگ چیه و مرگ مشکوکش چطور رقم خورد؟ .هی .حالا اینطوری این دانشمند علوم کامپیوتر، ریاضی دان و نابغه بریتانیایی است که به عنوان پدر علم کامپیوتر و هوش مصنوعی شناخته می شود. .دستاوردهای برجسته او در طول زندگی کوتاهش به قدری ارزشمند بوده که حتی امروزه قابل لمسه. .آلنتوری این یکی از برجسته ترین چهره های رمزگشایی از پیام های سری آلمان ها است. .در دوران جنگ جهانی دوم بود که نقش بسیار مهمی در کوتاه تر شدن جنگ داشت. .آلن متولد بیست و سوم ژوئن ۱۹۱۲ در لندن است. .پدرش، جولیوس متیوس تورینگ، یکی از کارگران شرکت ایندیان سیویل سرویس در هند بود و به خاطر ماهیت شغلش .بین هند و انگلستان در رفت و آمد بود و اغلب اوقات هم همراه همسرش در هند می ماندند. .این شرایط کاری باعث شد که آلن و برادر بزرگترش جان رو .به یک زوج نظامی بازنشسته بسپرند که در انگلستان بزرگ شوند. .آلن از شش سالگی به مدرسه شبانه روزی سنت مایکل رفت و از همون موقع مشخص بود که بچه باهوشیه. .در سیزده سالگیم به مدرسه بسیار مشهور شربورن رفتم. .آلن و برادرش مجبور بودند تا مدرسه ای تحصیل کنند. .که تمرکزشون روی ادبیات و مسائل مذهبی بود. .و انقدرها بهایی به استعداد آنها نمیدادند. .مدیر این مدرسه که فعالیت های خارج از برنامه و علاقه شدید عالم به ریاضی و شیمی رو میدید، به پدرش نامه نوشته بود. .حالا با ماندن تو این مدرسه دولتی آدم تحصیل کرده ای میشه، ولی اگه دنبال دانشمند شدن، وقتشو اینجا. .ولی این موضوع چیزی از علاقه عالم به ریاضیات کم نکرد و در پانزده سالگی .بدون اینکه هیچ آموزش درستحسابی داشته باشد، مسائل پیچیده ریاضی را حل می کرد، حتی بررسی های دقیق روی متقابل. .انیشتین و نظریه نسبیت انجام داد اما مسئولین مدرسه اش که دست کم می گرفتندش برای اینکه موسسات دیگر .و اجازه استفاده از اسم این مرکز را در مطالعاتش نمیدادند. .در این دوران با شخصی به نام کریستوفر مورکوم آشنا شد که مثل خودش علاقه زیادی به ریاضیات داشت. .ولی این دوستی زیاد دوم نداشت و کریستوفر به خاطر مصرف شیر آلوده و ابتلا به سل گاوی از دنیا رفت. .این اتفاقیه که بعضی ها شروع تغییر روحیهات و اعتقادات آلن و گرایشش به Ateist میدونن. .حالا تو زندگی غیرکاری شخصیت گوشگیر بود، ولی برعکسش تو بحث و جدل های علمی، تا دلت. .از سالهای ۱۹۳۱ تا ۱۹۳۴ در دانشگاه کینیا به خود اعتماد داشت. .کالج کمبریج تحصیل کرد و دستاوردهای برجسته اش مدال افتخار درجه یک ریاضیات را براش به ارمغان آورد. .با رتبه بالا در رشته ریاضیات فارغ التحصیل شد، سال بعد در بیست و دو سالگی پایان نامه اش نوشت: .بعد مورد تحسین قرار گرفت که کاندیدای عضویت در هیات تحقیقاتی دانشکده شد. .آلن یک سال بعد، در مقاله ای با عنوان درباره اعداد شمارش پذیر، اصول ماشینی را مطرح کرد. .او توضیح داد که قابلیت محاسبات گسترده ریاضیات را داشت ، این ابزار که بعداً به نام ماشین تورینگ معروف شد. .مفهوم پایه کامپیوترهای امروزی به شمار می رود. یکی از سوالات مهم زندگی جهانی این بود. .آیا میشه ماشینی درست کرد که قدرت تفکر داشته باشه، جلوتر میفهمیم؟ .آلن تحصیلات تکمیلیش را در دانشگاه پرینستون آمریکا در مورد مطالعات علوم رمزنگاری و رمزگشایی گذروند. .که به نوعی مهمترین دستاورد زندگیش را رقم زد، یعنی کدگشایی یکی از قوی ترین دستگاه های .رمزنگاری اون دوران که داستانش رو براتون تعریف می کنم سال ۱۹۳۸م مدرک دکترا گرفت و حتی ریاضیدان .مشهور آمریکایی با مطالعه نظریاتش ازش دعوت کرد که در تحقیقاتش با هم همکاری کنند .تصمیم گرفته بود که به انگلستان برگردد، اما برسیم به اوج هنری آلن تورینگ در علم. .در جنگ جهانی دوم، که شهرتش را از قبل بیشتر کرد، در زمان جنگ، آلن یک .یکی از بهترین کارشناسان رمزگشایی بریتانیا بود که در شکستن رمز های آلمانی ها تبهر خاصی داشت. .عالم با همکاری کارشناسان دیگه تونست کاری کنه کار سوند و رمز ماشین انیگما رو بشکنه. .رمزگذاری که ارتش آلمان ازش استفاده می کرد و بسیار پیچیده و قدرتمند بود در سال های بعد از جنگ جهانی. .رازداری و حفاظت از اطلاعات به یک اصل مهم تبدیل شده بود ، شرکت هایی که قصد شرکت در تجارت را دارند. .آنها باید رازشون رو مخفی نگه میداشتند. .دختر آلمانی کسی بود که در دهه ۱۹۲۰ با اختراع ماشین انیگما به نیاز این شرکت های بزرگ برای .برای امن نگه داشتن اطلاعاتشون جواب داد. .این یک وسیله الکترو مکانیکی است که خیلی شبیه ماشین تایک بود.خیلی گذشت که نیروهای زمینی و هوایی .ارتش آلمان تصمیم گرفتند که از این دستگاه استفاده کنند. پیچیدگی های این دستگاه .آلمانی ها را نسبت به امنیت اطلاعات مخفی نظامی اش مطمئن کرده بود ، آنها معتقد بودند که هیچکس زمان .اونو مهارت ریاضیات کافی رو برای رمزگشایی پیام هایی که انیگما به وجود میاره نداره .در گردهمایی معروف ورشو در سال ۱۹۳۹، سازمان رمزنگاری .هاری لهستان به کشورهای فرانسه و انگلیس اعلام کرد که روشی برای رمزگشایی دستگاه های انیگما دارد. .تا حدودی پیام هایی که این دستگاه کدنگاری کرده را رمزگشایی کنند، ولی دستگاه اینیگما هم پیشرفته تر می شد و خوندن. .یعنی سخت تر تا اینکه سازمان اطلاعات بریتانیا سه ریاضیدان لهستانی را که بیشترین اطلاعات را در مورد انیگما داشتند. .به همراه آلن تورینگ استخدام کرد تا در مقر فوق محرمانه بلکلی پارک مستقر شوند و راهی .برای رمزگشایی کامل انیکیما پیدا کنند. .این دستگاه چجوری کار میکرد؟ اینطوری که یه صفحه کلید داشت که با فشار دادن هر کلید حرف تایپ شده به یه حرف .یا علامت جدید تبدیل می شد. دو ویژگی هم داشت. حرف ورودی رو مثل خودش کد نمیکرد و دو حرف .حرف یکسان رو توی یک کلمه به حروف متفاوت تبدیل میکرد .یعنی حرف ایکس رو قطعا به یه حرف جدید تغییر میداد و اگه کلمه ای دو تا حرف ایکس داشت اون دو تا همیشه .چرا با همدیگه متفاوت بودن؟ .دقت کنید که دستگاه اینیگما پیام ارسال نمیکرد، پیام را رمزنگاری شده تحویل اپراتور میداد و اپراتور .راتورم پیام را با کد مرز به مقصد میفرستاد. .اپراتور مقصدم پیام دریافت شده رو به دستگاه انیگمای خودش میداد، رندشو باز میکرد و میخوند. .واسه همین تنظیمات دستگاه فرستنده و گیرنده باید مشابه میبود. .چون این دستگاه چندین مدل تنظیمات مختلف داشت که هر کدومش با روش متفاوتی کلمات را کدگذاری می کرد. .و با همچین قابلیت هایی میتونست برای هر کلمه میلیونها کد تولید کنه. .اما با این وجود، آلن تورینگ نابغه و مغز متفکر اون دوره موفق شد، ماشینی الکترو مکانیکی به نام بام رو طراحی کرد. .که کد های انیگما رو می شکسته .و این یک پیروزی بسیار بزرگ بود که تاریخدان ها معتقدند تاثیر بسیار زیادی در کودا شدن جنگ دارند. .اما اصلا لو ندادن که تونستن این کارو کنن، تا آلمان ها با خبر نشن و با استفاده از این دستگاه ادامه بدن. .آلن در مورد روشی که برای این کار بزرگ استفاده کرده بود دوتا مقاله نوشت، این مقالات انقدر برای سازمان ارتباطات. .با ارزشمند بودن که تا اویل سال ۲۰۱۲ به آرشیو ملی انگلستان تحویل داده نشدند .تنها مشکل آنها برای ادامه کار، کمبود نیروی انسانی یا دستگاه های رمزگشایی بود. .این مشکل امکان رمزگشایی پیام های بسیار زیاد آلمان ها را از متفقین گرفته بود. .واسه همین بعد کلی کجدارمریز تا کردن و کش و قوس، دل زدم به دریا و مستقیماً به چرچیل نامه نوشتن و درخواست کردن. .تو این نامه که اسم آلن تورینگ بالای لیست امضا کنندگان بود، از کمبود امکانات گلک .و گفتند در صورت تامین مالی کافی، تولید بیشتر دستگاه های بام و رمزگشایی در آینده از خسارات .چرچیلم در کمال تعجب واکنش سریع به این نامه نشان داد و دستور داد که .و تمام نیازهای این تیم تامین بشه. .از زمان دادن این دستور تا پایان جنگ، حدود دویست دستگاه رمزگشایی ساخته شدند. .هوش مصنوعی در طی فعالیت هایش در طول جنگ دستگاه های رمزگشایی متعددی تولید کرد که مهمترینش دستگاه ها. .پاتایت بود که مخصوصاً برای نیروی دریایی آلمانها ساخته شده بود. .دستگاه انیگما نیروی دریایی ارتش آلمان بسیار حرفه ای تر از دستگاه دیگه بود و تورینگ با رمزگشایی تنظیمات .او کمک بزرگی به پایان جنگ کرد. البته آلن تورینگ در زمان فعالیت های رمزگشایی به یه چیز دیگه هم مشهور بود. .رفتارهای خاص و عجیب و غریب، همکارانش بهش لقب پروف داده بودن، مخفف پروفسور .تا سالهای سالم از رفتارای عجیب و غریب این نابغه تعریف میکردند، مثلا میگفتن برای اینکه لیوانشو ندازن اونو. .در طول این سال ۱۹۴۰ به لندن رفت و در لابراتوار .از مهم ترین دستاوردهای برجسته اش در این دوره سرپرستی پروژه موتور محاسباتی .خودکار و طرح اولیه کامپیوترهایی بود که کامپیوترهای شخصی اولیه را کاملاً تغییر کرد. .اگر مرگش با اون شکلی که در ادامه بهتون میگم اتفاق نمیافتاد، شاید دنیا خیلی زودتر شاهد کامپیوترها. .آلن تورینگ در ۱۹۴۸ یک صندلی تحقیقاتی در دانشگاه منچستر گرفت. .و یک سال بعد قائم مقام آزمایشگاه کامپیوتر این دانشگاه شد. فعالیت اسیون در این دانشگاه توسعه .یک نرم افزار برای یکی از اولین کامپیوترهای حافظه دار تاریخ به نام منچستر مارک وان بود. .آلن اون سالها آزمایشی هم به اسم تست تورین معرفی کرد که با انجام اون هوشمندی کامپیوترها رو اندازه گیری میکرد. .مدل برعکس تست تورینگ امروزه به اسم کپچا توی اینترنت داره استفاده میشه. .اون پیشنهاد داد که برای صحبت با کامپیوترها، بجای اینکه اونها رو توانمند به درک زبان افراد بالغ کنیم؟ .بجایش کامپیوتری با ذهن یک کودک بسازیم و برای یادگیریش برنامه ریزی انجام بدیم. .بهترین معیار برای هوشمند شمردن یک ماشین اینه که بتونه انسان رو طوری فریب بده که اون باور کنه .سوال مهمی که ذهن آلن را دریر کرده بود این بود: آیا ماشین .آنها می توانند از بازی تقلید سر بلند بیرون بیان. بازی تقلید چیست؟ بازی هایی که سه تا شرکت دارند. .یه زن، یه مرد و شخص سومی که بهش میگیم بازجویی بازجویی از جنسیت .شرکت کننده خبر نداره از اینکه کدومشون مرد و کدومشون زن، فقط می تونه سالایی بپرسه که از رو جواب ها جنسیت داره. .دو شرکت کننده هم از هم جدا و از سوالات بازی و جواب های نفر دیگه خبر نیستند. .هدف بازی: تشخیص جنسیت دو شرکت کننده از سمت بازجویی، یکی از شرکت کنندگان، مثلا زن. .تلاش میکنه که بازجور رو به اشتباه بندازه و جنسیتش رو به دروغ نشون بده. .اگر شرکت کننده ای که می خواهد بازجویی را فریب دهد با یک رایانه جایگزین شود و باعث شود بازجویی جنسیت خود را تغییر دهد. .اشتباه تشخیص بده، رایانه در بازی تقلید موفق شده و می شود بهش گفت: هوشمند. .تورینگ حدس زده بود که در پنجاه سال آینده ماشین هایی پیدا بشن که آزمون تورینگ رو با .موفقیت پشت سر بگذارند. به نظرتون الان در سال بیست و بیست و چهار، این حدس چقدر درست بوده؟ .آلن واقعاً نابغه بود، واقعاً یک نابغه ای به تمام معنا، تو این یه برنامه ای هم برای بازیش چترنج. .کی، سال ۱۹۵۲، وقتی که کامپیوتر قدرتمند اصلا برای اجرای این برنامه وجود نداشت. .طوری این کامپیوتری را شبیه سازی کرد که برای هر حرکت نیم ساعت زمان نیاز داشت. نکته جالبی. .این است که این برنامه از همکار تورینگ شکست خورد، اما تو تجربه دومش توانست حریفش را شکست بده. .۱۹۴۶م، مفتخر به دریافت نشان امپراتوری بریتانیا از شخص شاه جورج ششم شد. .آلن تورینگ جدا از فعالیت های علمیش یک دونده استقامت حرفه ای هم بود. .اون فاصله شصت و چهار کیلومتری تا لندن رو برای حضور توی جلسات مهمش میدویید. .این امدگی بدنی باعث شد که این دانشمند ریاضیات برای حضور در تیم المپیک ۱۹۴۸ انگلستان کاندید بشه. .ولی فقط یازده دقیقه دیرتر از قهرمان اون سالهای انگلستان یعنی توماس ریچارد به خط پایان برسه و از تیم المپیک .جا بمونه، اما برسیم به پایان عمر کوتاه این نابغه بزرگ و مرگ مشکوکش. .آلن تورین یه نامزدی کوتاه مدت با همکارش در پروژه هاتایت یعنی جان کلارک داشت. .نامزدی آنها به خاطر تمایلات جنسی تورینگ به ازدواج نرسید. .آلن ترینگ هم جنسیگرا بود. .به خاطر همین تمایلات سال ۱۹۵۲ به ارتباط نامشروب با جوون نوزده ساله به نام آرنولد .موری متهم شد، اتهامی که زندگیشو به کلی تغییر داد و هیچ وقتم برای دفاع یا رد این اتهام .تلاش خاصی نکرد. .ماجرا گرایش جنسیش اینجوری لو رفت که ظاهرا یه روز دز به خونه آرنولد میزنه و این دزدی رو آلن به پلیس گزارش میکنه. .و پلیس هم در جریان تحقیقاتش متوجه رابطه این دو نفر میشه و از اونجا که همجنسگرای موقع در بریتانیا جور. .بازداشتش می کنن. .با توجه به نقش برجسته در شکست نیروهای نازی و خدمات قابل توجهش، بهش دوتا انتخاب دادن تا بین زندانی. .و هورمون درمانی یکی رو انتخاب کنه. اون زمان معتقد بودن که تمایلات همجنسگرها یا نه رو میتونن .با دارو درمان کنند و آلن هم برای دور نشدن از تحقیقات علمیش ناچارا راه دوم را انتخاب کرد. .اتهامات و محاکمه آلن تورینگ حفاظت اطلاعاتی و امنیتی و همکاری او با دولت انگلیس را لغو کرد. .و تمامی تاییدیه های امنیتی و مجوزهای کار روی سیستم های رمزگشایی توی ارگان های دولتی رو ازش گرفت. .البته شغل های دانشگاهیش تا زمان مرگش برقرار بودند. آلن بعد از جریانات سال ۱۹۵۲. .از ورود به خاک آمریکا ممنوع شد، ولی هنوز اجازه داشت که توی کشور اروپایی سفر کنه. .اون هیچوقت هم به جاسوسی متهم نشد. .او و تمام همکارانش در پروژه رمزگشایی تا پایان عمرشان از صحبت در مورد فعالیت های دوران جنگ منع شد. .اما یک سال تزریق مداوم هورمون استروژن تغییرات زیادی را روی بدنش انجام داد که در نهایت به افسردگی. .در نهایت در 8 ژوئن 1954 در اواخر .سال یکسالگیش کارگر خونش جسد بیجون آلن رو توی اتاق خوابش پیدا میکنه .کنار تختش سیبی گاز زده پیدا شد که احتمال داده بودند آلوده به سم سیانید بوده باشه. .خیلی ها این مرگ رو خودکشی به خاطر افسردگی میدونن، اما مادرش هیچوقت زیر بار این حرف نرفت. .البته تحقیقات تکمیلی که سالهای بد انجام شد، احتمال استنشاق این سم را از دستگاه پوشش دهی طلا دادند. .توی این دستگاه ها، سیانید برای تجزیه کردن طلا استفاده میشد، و طوریکه هم یه نمونه کوچکی اونو توی اتاق آزمایشگاه. .شخصیش داشت و یکی از دلیلی بود که مرگ تصادفیش رو محتمل میدونست ولی هیچ وقت واقعیت مشخص نشد. .که آیا آلن خودکشی کرده؟ .النتون این که مثل خیلی از دانشمندان و بزرگان دیگر در زمان زندگی اش .چنان که باید و شاید بهش بهاه داده نشد و بعد از مرگش بود که ارزش دستاوردهاش مشخص شد. .یکی از ماندگارترین یادبود های پدر علم کامپیوتر مدرن، جایزه تورینگه. .این جایزه که به نوبل دنیای کامپیوتر معروف است از سال ۱۹۶۶ هر سال به برتر فعالان این صنعت اختصاص داده شده است. .مجسمه ها، یادبود های زیادی هم به یاد این دانشمند بزرگ ساخته شد، خیابون و پل آلن تورینگ در شهر منچستر از مشهور .بهترین این یادبودات است. .سال ۱۹۹۹، مجله تایمز تورینگ را بین صد فرد مهم قرن بیستم قرار داد. .جمله یادبود این مجله برای تورینگ این بود. .هر فردی که دکمه ای رو روی صفحه کلید فشار میده یا یک نرم افزاری رو باز میکنه در حال کار روی تجسم .یکی از ماشین تورینگه .بعضی از کارشناسان و کاربران دنیای کامپیوتر لوگوی شرکت اپل رو به خاطر سیب گاز زده ای میدونن که موقع .هر یک از آلن تورینگ کنار تختش پیدا کردند، به خصوص اینکه اون اوایل این لوگو چند رنگ هم بوده که احتمال میداد. .من بخاطر گرایشات جنسی عالم بوده باشم. .ولی اپل این موضوع رو تکذیب کرده، البته استیو جابز جایی گفته بود که ای کاش این طراحی. .به تورینگ مربوط می شد. .انگلستان پس از درخواست های زیاد و جمع آوری هزاران امضا توسط طرفداران تورینگ در پایان سال ۲۰۱۳ .اون رو از تمام اتهاماتش معاف کرد. .این بود سرگذشت یکی از موندهگارترین نابغه های تاریخ، آلن تورینگ که متاسفانه عمر کوتاهی دارد. .و جهان را از دستاوردهای بعدیش .اگر این ویدئو برایتون جذاب بود و آورده ای برایتون داشته، ممنوع میشم که کانال رو سبسکرایب کنید. .لایکش کنید ویدئو را و اگر نقد و نظر و پیشنهادی در مورد کانال و بخصوص این ویدئو دارید، حتما در یک کامنتو برایمان بنویسید. .من ایمان نژادت هستم و این کانال یوتیوب رافکسته.\\n'"
            ],
            "application/vnd.google.colaboratory.intrinsic+json": {
              "type": "string"
            }
          },
          "metadata": {},
          "execution_count": 4
        }
      ]
    },
    {
      "cell_type": "code",
      "source": [
        "!pip install hazm"
      ],
      "metadata": {
        "id": "6NPopwCXytOg"
      },
      "execution_count": null,
      "outputs": []
    },
    {
      "cell_type": "code",
      "source": [
        "from hazm import *\n",
        "\n",
        "normalizer = Normalizer()"
      ],
      "metadata": {
        "id": "zBxSUiUIyqAY"
      },
      "execution_count": 5,
      "outputs": []
    },
    {
      "cell_type": "code",
      "source": [
        "reference_normalized = normalizer.normalize(reference)\n",
        "predicted_normalized = normalizer.normalize(predicted)"
      ],
      "metadata": {
        "id": "YiNM_mBGzQIA"
      },
      "execution_count": 6,
      "outputs": []
    },
    {
      "cell_type": "code",
      "source": [
        "predicted_normalized"
      ],
      "metadata": {
        "colab": {
          "base_uri": "https://localhost:8080/",
          "height": 109
        },
        "id": "KMYIxnwXzYXn",
        "outputId": "f92c85fa-23a1-4e14-b2f5-3cff046a331f"
      },
      "execution_count": 7,
      "outputs": [
        {
          "output_type": "execute_result",
          "data": {
            "text/plain": [
              "'. در دوران جنگ جهانی دوم، یکی از برگ برنده\\u200cهای متفقین رمزگشایی از پیام\\u200cهای سری نازی\\u200cها بود که کمک کرد.. بزرگی به شکست آلمان\\u200cها کرد. این کار به همین راحتیا نبود و شکستن رمز ماشین انیگما به یک نبوغ بالا نیاز داشت.. نبوغی که فقط یک شخص داشت.. کسی که ازش به عنوان پدر هوش مصنوعی یاد می\\u200cشود و نقش بسیار پررنگی در شکلگیری علوم کامپیوتری داشت.. اما عمره کوتاهش اجازه نداد که دستاوردهاشو تکمیل کنه.. آلن تورین کی بود؟ چطور تونست کد دستگاه رمزنگاری قدرتمند آلمان\\u200cها رو باز کنه؟. ماجرای تست مشهور تورینگ چیه و مرگ مشکوکش چطور رقم خورد؟. هی. حالا اینطوری این دانشمند علوم کامپیوتر، ریاضی\\u200cدان و نابغه بریتانیایی است که به عنوان پدر علم کامپیوتر و هوش مصنوعی شناخته می\\u200cشود.. دستاوردهای برجسته او در طول زندگی کوتاهش به قدری ارزشمند بوده که حتی امروزه قابل لمسه.. آلنتوری این یکی از برجسته\\u200cترین چهره\\u200cهای رمزگشایی از پیام\\u200cهای سری آلمان\\u200cها است.. در دوران جنگ جهانی دوم بود که نقش بسیار مهمی در کوتاه\\u200cتر شدن جنگ داشت.. آلن متولد بیست و سوم ژوئن ۱۹۱۲ در لندن است.. پدرش، جولیوس متیوس تورینگ، یکی از کارگران شرکت ایندیان سیویل سرویس در هند بود و به خاطر ماهیت شغلش. بین هند و انگلستان در رفت و آمد بود و اغلب اوقات هم همراه همسرش در هند می\\u200cماندند.. این شرایط کاری باعث شد که آلن و برادر بزرگترش جان رو. به یک زوج نظامی بازنشسته بسپرند که در انگلستان بزرگ شوند.. آلن از شش سالگی به مدرسه شبانه\\u200cروزی سنت مایکل رفت و از همون موقع مشخص بود که بچه باهوشیه.. در سیزده سالگیم به مدرسه بسیار مشهور شربورن رفتم.. آلن و برادرش مجبور بودند تا مدرسه\\u200cای تحصیل کنند.. که تمرکزشون روی ادبیات و مسائل مذهبی بود.. و انقدرها بهایی به استعداد آنها نمی\\u200cدادند.. مدیر این مدرسه که فعالیت\\u200cهای خارج از برنامه و علاقه شدید عالم به ریاضی و شیمی رو می\\u200cدید، به پدرش نامه نوشته بود.. حالا با ماندن تو این مدرسه دولتی آدم تحصیل\\u200cکرده\\u200cای میشه، ولی اگه دنبال دانشمند شدن، وقتشو اینجا.. ولی این موضوع چیزی از علاقه عالم به ریاضیات کم نکرد و در پانزده سالگی. بدون اینکه هیچ آموزش درستحسابی داشته باشد، مسائل پیچیده ریاضی را حل می\\u200cکرد، حتی بررسی\\u200cهای دقیق روی متقابل.. انیشتین و نظریه نسبیت انجام داد اما مسئولین مدرسه\\u200cاش که دست\\u200cکم می\\u200cگرفتندش برای اینکه موسسات دیگر. و اجازه استفاده از اسم این مرکز را در مطالعاتش نمی\\u200cدادند.. در این دوران با شخصی به نام کریستوفر مورکوم آشنا شد که مثل خودش علاقه زیادی به ریاضیات داشت.. ولی این دوستی زیاد دوم نداشت و کریستوفر به خاطر مصرف شیر آلوده و ابتلا به سل گاوی از دنیا رفت.. این اتفاقیه که بعضی\\u200cها شروع تغییر روحیهات و اعتقادات آلن و گرایشش به Ateist میدونن.. حالا تو زندگی غیرکاری شخصیت گوشگیر بود، ولی برعکسش تو بحث و جدل\\u200cهای علمی، تا دلت.. از سالهای ۱۹۳۱ تا ۱۹۳۴ در دانشگاه کینیا به خود اعتماد داشت.. کالج کمبریج تحصیل کرد و دستاوردهای برجسته\\u200cاش مدال افتخار درجه یک ریاضیات را براش به ارمغان آورد.. با رتبه بالا در رشته ریاضیات فارغ\\u200cالتحصیل شد، سال بعد در بیست و دو سالگی پایان\\u200cنامه\\u200cاش نوشت:. بعد مورد تحسین قرار گرفت که کاندیدای عضویت در هیات تحقیقاتی دانشکده شد.. آلن یک سال بعد، در مقاله\\u200cای با عنوان درباره اعداد شمارش پذیر، اصول ماشینی را مطرح کرد.. او توضیح داد که قابلیت محاسبات گسترده ریاضیات را داشت، این ابزار که بعدا به نام ماشین تورینگ معروف شد.. مفهوم پایه کامپیوترهای امروزی به شمار می\\u200cرود. یکی از سوالات مهم زندگی جهانی این بود.. آیا میشه ماشینی درست کرد که قدرت تفکر داشته باشه، جلوتر می\\u200cفهمیم؟. آلن تحصیلات تکمیلیش را در دانشگاه پرینستون آمریکا در مورد مطالعات علوم رمزنگاری و رمزگشایی گذروند.. که به نوعی مهمترین دستاورد زندگیش را رقم زد، یعنی کدگشایی یکی از قوی\\u200cترین دستگاه\\u200cهای. رمزنگاری اون دوران که داستانش رو براتون تعریف می\\u200cکنم سال ۱۹۳۸ م مدرک دکترا گرفت و حتی ریاضیدان. مشهور آمریکایی با مطالعه نظریاتش ازش دعوت کرد که در تحقیقاتش با هم همکاری کنند. تصمیم گرفته بود که به انگلستان برگردد، اما برسیم به اوج هنری آلن تورینگ در علم.. در جنگ جهانی دوم، که شهرتش را از قبل بیشتر کرد، در زمان جنگ، آلن یک. یکی از بهترین کارشناسان رمزگشایی بریتانیا بود که در شکستن رمز\\u200cهای آلمانی\\u200cها تبهر خاصی داشت.. عالم با همکاری کارشناسان دیگه تونست کاری کنه کار سوند و رمز ماشین انیگما رو بشکنه.. رمزگذاری که ارتش آلمان ازش استفاده می\\u200cکرد و بسیار پیچیده و قدرتمند بود در سال\\u200cهای بعد از جنگ جهانی.. رازداری و حفاظت از اطلاعات به یک اصل مهم تبدیل\\u200cشده بود، شرکت\\u200cهایی که قصد شرکت در تجارت را دارند.. آنها باید رازشون رو مخفی نگه می\\u200cداشتند.. دختر آلمانی کسی بود که در دهه ۱۹۲۰ با اختراع ماشین انیگما به نیاز این شرکت\\u200cهای بزرگ برای. برای امن نگه\\u200cداشتن اطلاعاتشون جواب داد.. این یک وسیله الکترو مکانیکی است که خیلی شبیه ماشین تایک بود. خیلی گذشت که نیروهای زمینی و هوایی. ارتش آلمان تصمیم گرفتند که از این دستگاه استفاده کنند. پیچیدگی\\u200cهای این دستگاه. آلمانی\\u200cها را نسبت به امنیت اطلاعات مخفی نظامی\\u200cاش مطمئن کرده بود، آنها معتقد بودند که هیچکس زمان. اونو مهارت ریاضیات کافی رو برای رمزگشایی پیام\\u200cهایی که انیگما به وجود میاره نداره. در گردهمایی معروف ورشو در سال ۱۹۳۹، سازمان رمزنگاری. هاری لهستان به کشورهای فرانسه و انگلیس اعلام کرد که روشی برای رمزگشایی دستگاه\\u200cهای انیگما دارد.. تا حدودی پیام\\u200cهایی که این دستگاه کدنگاری کرده را رمزگشایی کنند، ولی دستگاه اینیگما هم پیشرفته\\u200cتر می\\u200cشد و خوندن.. یعنی سخت\\u200cتر تا اینکه سازمان اطلاعات بریتانیا سه ریاضیدان لهستانی را که بیشترین اطلاعات را در مورد انیگما داشتند.. به همراه آلن تورینگ استخدام کرد تا در مقر فوق محرمانه بلکلی پارک مستقر شوند و راهی. برای رمزگشایی کامل انیکیما پیدا کنند.. این دستگاه چجوری کار می\\u200cکرد؟ اینطوری که یه صفحه\\u200cکلید داشت که با فشار دادن هر کلید حرف تایپ\\u200cشده به یه حرف. یا علامت جدید تبدیل می\\u200cشد. دو ویژگی هم داشت. حرف ورودی رو مثل خودش کد نمی\\u200cکرد و دو حرف. حرف یکسان رو توی یک کلمه به حروف متفاوت تبدیل می\\u200cکرد. یعنی حرف ایکس رو قطعا به یه حرف جدید تغییر می\\u200cداد و اگه کلمه\\u200cای دو تا حرف ایکس داشت اون دو تا همیشه. چرا با همدیگه متفاوت بودن؟. دقت کنید که دستگاه اینیگما پیام ارسال نمی\\u200cکرد، پیام را رمزنگاری شده تحویل اپراتور می\\u200cداد و اپراتور. راتورم پیام را با کد مرز به مقصد می\\u200cفرستاد.. اپراتور مقصدم پیام دریافت شده رو به دستگاه انیگمای خودش می\\u200cداد، رندشو باز می\\u200cکرد و میخوند.. واسه همین تنظیمات دستگاه فرستنده و گیرنده باید مشابه می\\u200cبود.. چون این دستگاه چندین مدل تنظیمات مختلف داشت که هر کدومش با روش متفاوتی کلمات را کدگذاری می\\u200cکرد.. و با همچین قابلیت\\u200cهایی میتونست برای هر کلمه میلیونها کد تولید کنه.. اما با این وجود، آلن تورینگ نابغه و مغز متفکر اون دوره موفق شد، ماشینی الکترو مکانیکی به نام بام رو طراحی کرد.. که کد\\u200cهای انیگما رو می\\u200cشکسته. و این یک پیروزی بسیار بزرگ بود که تاریخدان\\u200cها معتقدند تاثیر بسیار زیادی در کودا شدن جنگ دارند.. اما اصلا لو ندادن که تونستن این کارو کنن، تا آلمان\\u200cها با خبر نشن و با استفاده از این دستگاه ادامه بدن.. آلن در مورد روشی که برای این کار بزرگ استفاده کرده بود دوتا مقاله نوشت، این مقالات انقدر برای سازمان ارتباطات.. با ارزشمند بودن که تا اویل سال ۲۰۱۲ به آرشیو ملی انگلستان تحویل داده نشدند. تنها مشکل آنها برای ادامه کار، کمبود نیروی انسانی یا دستگاه\\u200cهای رمزگشایی بود.. این مشکل امکان رمزگشایی پیام\\u200cهای بسیار زیاد آلمان\\u200cها را از متفقین گرفته بود.. واسه همین بعد کلی کجدارمریز تا کردن و کش و قوس، دل زدم به دریا و مستقیما به چرچیل نامه نوشتن و درخواست کردن.. تو این نامه که اسم آلن تورینگ بالای لیست امضا کنندگان بود، از کمبود امکانات گلک. و گفتند در صورت تامین مالی کافی، تولید بیشتر دستگاه\\u200cهای بام و رمزگشایی در آینده از خسارات. چرچیلم در کمال تعجب واکنش سریع به این نامه نشان داد و دستور داد که. و تمام نیازهای این تیم تامین بشه.. از زمان دادن این دستور تا پایان جنگ، حدود دویست دستگاه رمزگشایی ساخته شدند.. هوش مصنوعی در طی فعالیت هایش در طول جنگ دستگاه\\u200cهای رمزگشایی متعددی تولید کرد که مهمترینش دستگاه\\u200cها.. پاتایت بود که مخصوصا برای نیروی دریایی آلمانها ساخته\\u200cشده بود.. دستگاه انیگما نیروی دریایی ارتش آلمان بسیار حرفه\\u200cای\\u200cتر از دستگاه دیگه بود و تورینگ با رمزگشایی تنظیمات. او کمک بزرگی به پایان جنگ کرد. البته آلن تورینگ در زمان فعالیت\\u200cهای رمزگشایی به یه چیز دیگه هم مشهور بود.. رفتارهای خاص و عجیب و غریب، همکارانش بهش لقب پروف داده بودن، مخفف پروفسور. تا سالهای سالم از رفتارای عجیب و غریب این نابغه تعریف می\\u200cکردند، مثلا میگفتن برای اینکه لیوانشو ندازن اونو.. در طول این سال ۱۹۴۰ به لندن رفت و در لابراتوار. از مهم\\u200cترین دستاوردهای برجسته\\u200cاش در این دوره سرپرستی پروژه موتور محاسباتی. خودکار و طرح اولیه کامپیوترهایی بود که کامپیوترهای شخصی اولیه را کاملا تغییر کرد.. اگر مرگش با اون شکلی که در ادامه بهتون میگم اتفاق نمی\\u200cافتاد، شاید دنیا خیلی زودتر شاهد کامپیوترها.. آلن تورینگ در ۱۹۴۸ یک صندلی تحقیقاتی در دانشگاه منچستر گرفت.. و یک سال بعد قائم\\u200cمقام آزمایشگاه کامپیوتر این دانشگاه شد. فعالیت اسیون در این دانشگاه توسعه. یک نرم\\u200cافزار برای یکی از اولین کامپیوترهای حافظه\\u200cدار تاریخ به نام منچستر مارک وان بود.. آلن اون سالها آزمایشی هم به اسم تست تورین معرفی کرد که با انجام اون هوشمندی کامپیوترها رو اندازه\\u200cگیری می\\u200cکرد.. مدل برعکس تست تورینگ امروزه به اسم کپچا توی اینترنت داره استفاده میشه.. اون پیشنهاد داد که برای صحبت با کامپیوترها، بجای اینکه اونها رو توانمند به درک زبان افراد بالغ کنیم؟. بجایش کامپیوتری با ذهن یک کودک بسازیم و برای یادگیریش برنامه\\u200cریزی انجام بدیم.. بهترین معیار برای هوشمند شمردن یک ماشین اینه که بتونه انسان رو طوری فریب بده که اون باور کنه. سوال مهمی که ذهن آلن را دریر کرده بود این بود: آیا ماشین. آنها می\\u200cتوانند از بازی تقلید سر بلند بیرون بیان. بازی تقلید چیست؟ بازی\\u200cهایی که سه تا شرکت دارند.. یه زن، یه مرد و شخص سومی که بهش میگیم بازجویی بازجویی از جنسیت. شرکت\\u200cکننده خبر نداره از اینکه کدومشون مرد و کدومشون زن، فقط می\\u200cتونه سالایی بپرسه که از رو جواب\\u200cها جنسیت داره.. دو شرکت\\u200cکننده هم از هم جدا و از سوالات بازی و جواب\\u200cهای نفر دیگه خبر نیستند.. هدف بازی: تشخیص جنسیت دو شرکت\\u200cکننده از سمت بازجویی، یکی از شرکت کنندگان، مثلا زن.. تلاش میکنه که بازجور رو به اشتباه بندازه و جنسیتش رو به دروغ نشون بده.. اگر شرکت\\u200cکننده\\u200cای که می\\u200cخواهد بازجویی را فریب دهد با یک رایانه جایگزین شود و باعث شود بازجویی جنسیت خود را تغییر دهد.. اشتباه تشخیص بده، رایانه در بازی تقلید موفق شده و می\\u200cشود بهش گفت: هوشمند.. تورینگ حدس زده بود که در پنجاه سال آینده ماشین\\u200cهایی پیدا بشن که آزمون تورینگ رو با. موفقیت پشت سر بگذارند. به نظرتون الان در سال بیست و بیست و چهار، این حدس چقدر درست بوده؟. آلن واقعا نابغه بود، واقعا یک نابغه\\u200cای به تمام معنا، تو این یه برنامه\\u200cای هم برای بازیش چترنج.. کی، سال ۱۹۵۲، وقتی\\u200cکه کامپیوتر قدرتمند اصلا برای اجرای این برنامه وجود نداشت.. طوری این کامپیوتری را شبیه\\u200cسازی کرد که برای هر حرکت نیم ساعت زمان نیاز داشت. نکته جالبی.. این است که این برنامه از همکار تورینگ شکست خورد، اما تو تجربه دومش توانست حریفش را شکست بده..۱۹۴۶ م، مفتخر به دریافت نشان امپراتوری بریتانیا از شخص شاه جورج ششم شد.. آلن تورینگ جدا از فعالیت\\u200cهای علمیش یک دونده استقامت حرفه\\u200cای هم بود.. اون فاصله شصت و چهار کیلومتری تا لندن رو برای حضور توی جلسات مهمش میدویید.. این امدگی بدنی باعث شد که این دانشمند ریاضیات برای حضور در تیم المپیک ۱۹۴۸ انگلستان کاندید بشه.. ولی فقط یازده دقیقه دیرتر از قهرمان اون سالهای انگلستان یعنی توماس ریچارد به خط پایان برسه و از تیم المپیک. جا بمونه، اما برسیم به پایان عمر کوتاه این نابغه بزرگ و مرگ مشکوکش.. آلن تورین یه نامزدی کوتاه مدت با همکارش در پروژه هاتایت یعنی جان کلارک داشت.. نامزدی آنها به خاطر تمایلات جنسی تورینگ به ازدواج نرسید.. آلن ترینگ هم جنسیگرا بود.. به خاطر همین تمایلات سال ۱۹۵۲ به ارتباط نامشروب با جوون نوزده ساله به نام آرنولد. موری متهم شد، اتهامی که زندگیشو به کلی تغییر داد و هیچ وقتم برای دفاع یا رد این اتهام. تلاش خاصی نکرد.. ماجرا گرایش جنسیش اینجوری لو رفت که ظاهرا یه روز دز به خونه آرنولد میزنه و این دزدی رو آلن به پلیس گزارش میکنه.. و پلیس هم در جریان تحقیقاتش متوجه رابطه این دو نفر میشه و از اونجا که همجنسگرای موقع در بریتانیا جور.. بازداشتش می\\u200cکنن.. با توجه به نقش برجسته در شکست نیروهای نازی و خدمات قابل توجهش، بهش دوتا انتخاب دادن تا بین زندانی.. و هورمون درمانی یکی رو انتخاب کنه. اون زمان معتقد بودن که تمایلات همجنسگرها یا نه رو میتونن. با دارو درمان کنند و آلن هم برای دور نشدن از تحقیقات علمیش ناچارا راه دوم را انتخاب کرد.. اتهامات و محاکمه آلن تورینگ حفاظت اطلاعاتی و امنیتی و همکاری او با دولت انگلیس را لغو کرد.. و تمامی تاییدیه\\u200cهای امنیتی و مجوزهای کار روی سیستم\\u200cهای رمزگشایی توی ارگان\\u200cهای دولتی رو ازش گرفت.. البته شغل\\u200cهای دانشگاهیش تا زمان مرگش برقرار بودند. آلن بعد از جریانات سال ۱۹۵۲.. از ورود به خاک آمریکا ممنوع شد، ولی هنوز اجازه داشت که توی کشور اروپایی سفر کنه.. اون هیچوقت هم به جاسوسی متهم نشد.. او و تمام همکارانش در پروژه رمزگشایی تا پایان عمرشان از صحبت در مورد فعالیت\\u200cهای دوران جنگ منع شد.. اما یک سال تزریق مداوم هورمون استروژن تغییرات زیادی را روی بدنش انجام داد که در نهایت به افسردگی.. در نهایت در ۸ ژوئن ۱۹۵۴ در اواخر. سال یکسالگیش کارگر خونش جسد بیجون آلن رو توی اتاق خوابش پیدا میکنه. کنار تختش سیبی گاز زده پیدا شد که احتمال داده بودند آلوده به سم سیانید بوده باشه.. خیلی\\u200cها این مرگ رو خودکشی به خاطر افسردگی میدونن، اما مادرش هیچوقت زیر بار این حرف نرفت.. البته تحقیقات تکمیلی که سالهای بد انجام شد، احتمال استنشاق این سم را از دستگاه پوشش دهی طلا دادند.. توی این دستگاه\\u200cها، سیانید برای تجزیه کردن طلا استفاده می\\u200cشد، و طوریکه هم یه نمونه کوچکی اونو توی اتاق آزمایشگاه.. شخصیش داشت و یکی از دلیلی بود که مرگ تصادفیش رو محتمل میدونست ولی هیچ وقت واقعیت مشخص نشد.. که آیا آلن خودکشی کرده؟. النتون این\\u200cکه مثل خیلی از دانشمندان و بزرگان دیگر در زمان زندگی\\u200cاش. چنان\\u200cکه باید و شاید بهش بهاه داده نشد و بعد از مرگش بود که ارزش دستاوردهاش مشخص شد.. یکی از ماندگارترین یادبود\\u200cهای پدر علم کامپیوتر مدرن، جایزه تورینگه.. این جایزه که به نوبل دنیای کامپیوتر معروف است از سال ۱۹۶۶ هر سال به برتر فعالان این صنعت اختصاص داده\\u200cشده است.. مجسمه\\u200cها، یادبود\\u200cهای زیادی هم به یاد این دانشمند بزرگ ساخته شد، خیابون و پل آلن تورینگ در شهر منچستر از مشهور. بهترین این یادبودات است.. سال ۱۹۹۹، مجله تایمز تورینگ را بین صد فرد مهم قرن بیستم قرار داد.. جمله یادبود این مجله برای تورینگ این بود.. هر فردی که دکمه\\u200cای رو روی صفحه\\u200cکلید فشار میده یا یک نرم\\u200cافزاری رو باز میکنه در حال کار روی تجسم. یکی از ماشین تورینگه. بعضی از کارشناسان و کاربران دنیای کامپیوتر لوگوی شرکت اپل رو به خاطر سیب گاز زده\\u200cای میدونن که موقع. هر یک از آلن تورینگ کنار تختش پیدا کردند، به خصوص اینکه اون اوایل این لوگو چند رنگ هم بوده که احتمال می\\u200cداد.. من بخاطر گرایشات جنسی عالم بوده باشم.. ولی اپل این موضوع رو تکذیب کرده، البته استیو جابز جایی گفته بود که\\u200cای کاش این طراحی.. به تورینگ مربوط می\\u200cشد.. انگلستان پس از درخواست\\u200cهای زیاد و جمع\\u200cآوری هزاران امضا توسط طرفداران تورینگ در پایان سال ۲۰۱۳. اون رو از تمام اتهاماتش معاف کرد.. این بود سرگذشت یکی از موندهگارترین نابغه\\u200cهای تاریخ، آلن تورینگ که متاسفانه عمر کوتاهی دارد.. و جهان را از دستاوردهای بعدیش. اگر این ویدئو برایتون جذاب بود و آورده\\u200cای برایتون داشته، ممنوع میشم که کانال رو سبسکرایب کنید.. لایکش کنید ویدئو را و اگر نقد و نظر و پیشنهادی در مورد کانال و بخصوص این ویدئو دارید، حتما در یک کامنتو برایمان بنویسید.. من ایمان نژادت هستم و این کانال یوتیوب رافکسته. \\n'"
            ],
            "application/vnd.google.colaboratory.intrinsic+json": {
              "type": "string"
            }
          },
          "metadata": {},
          "execution_count": 7
        }
      ]
    },
    {
      "cell_type": "code",
      "source": [
        "reference_tokens = word_tokenize(reference_normalized)\n",
        "predicted_tokens = word_tokenize(predicted_normalized)"
      ],
      "metadata": {
        "id": "vFcgCrWC6jfo"
      },
      "execution_count": null,
      "outputs": []
    },
    {
      "cell_type": "code",
      "source": [
        "len(reference_tokens)"
      ],
      "metadata": {
        "colab": {
          "base_uri": "https://localhost:8080/"
        },
        "id": "6E-Hof3p6jbJ",
        "outputId": "b22650eb-6a79-4518-aef6-5266bbcc069e"
      },
      "execution_count": null,
      "outputs": [
        {
          "output_type": "execute_result",
          "data": {
            "text/plain": [
              "2687"
            ]
          },
          "metadata": {},
          "execution_count": 11
        }
      ]
    },
    {
      "cell_type": "code",
      "source": [
        "len(predicted_tokens)"
      ],
      "metadata": {
        "colab": {
          "base_uri": "https://localhost:8080/"
        },
        "id": "Lf4ZMCKU7MGo",
        "outputId": "587b9f17-bb04-424d-e6f5-72b8f877fc0a"
      },
      "execution_count": null,
      "outputs": [
        {
          "output_type": "execute_result",
          "data": {
            "text/plain": [
              "2885"
            ]
          },
          "metadata": {},
          "execution_count": 12
        }
      ]
    },
    {
      "cell_type": "code",
      "source": [
        "'!' in predicted_tokens"
      ],
      "metadata": {
        "colab": {
          "base_uri": "https://localhost:8080/"
        },
        "id": "BD9jrun3Noh5",
        "outputId": "4cfe4697-6af2-442c-cc53-aff8a9c86877"
      },
      "execution_count": null,
      "outputs": [
        {
          "output_type": "execute_result",
          "data": {
            "text/plain": [
              "False"
            ]
          },
          "metadata": {},
          "execution_count": 29
        }
      ]
    },
    {
      "cell_type": "code",
      "source": [
        "predicted_tokens"
      ],
      "metadata": {
        "id": "qt2xPFOQNrvV"
      },
      "execution_count": null,
      "outputs": []
    },
    {
      "cell_type": "code",
      "source": [
        "remove_tokens = ['.', '..', '?', '،']\n",
        "new_pred_tokens = [value for value in predicted_tokens if value not in remove_tokens]"
      ],
      "metadata": {
        "id": "hFjPXUgcO8sb"
      },
      "execution_count": null,
      "outputs": []
    },
    {
      "cell_type": "code",
      "source": [
        "reference_tokens[:4]"
      ],
      "metadata": {
        "colab": {
          "base_uri": "https://localhost:8080/"
        },
        "id": "AnY0dyO9Pwq2",
        "outputId": "25e3f3cc-7e66-45a7-9d6e-12439c533007"
      },
      "execution_count": null,
      "outputs": [
        {
          "output_type": "execute_result",
          "data": {
            "text/plain": [
              "['در', 'دوران', 'جنگ', 'جهانی']"
            ]
          },
          "metadata": {},
          "execution_count": 43
        }
      ]
    },
    {
      "cell_type": "code",
      "source": [
        "new_pred_tokens[-10:]"
      ],
      "metadata": {
        "colab": {
          "base_uri": "https://localhost:8080/"
        },
        "id": "H7YrRQg-P0qg",
        "outputId": "d47dbdae-b8a9-486c-f105-d81b94c63a95"
      },
      "execution_count": null,
      "outputs": [
        {
          "output_type": "execute_result",
          "data": {
            "text/plain": [
              "['بنویسید',\n",
              " 'من',\n",
              " 'ایمان',\n",
              " 'نژادت',\n",
              " 'هستم',\n",
              " 'و',\n",
              " 'این',\n",
              " 'کانال',\n",
              " 'یوتیوب',\n",
              " 'رافکسته']"
            ]
          },
          "metadata": {},
          "execution_count": 41
        }
      ]
    },
    {
      "cell_type": "code",
      "source": [
        "len(new_pred_tokens)"
      ],
      "metadata": {
        "colab": {
          "base_uri": "https://localhost:8080/"
        },
        "id": "wojgb0gvPmIT",
        "outputId": "70d81af8-32cc-4be8-8260-5ce5b8f6583f"
      },
      "execution_count": null,
      "outputs": [
        {
          "output_type": "execute_result",
          "data": {
            "text/plain": [
              "2629"
            ]
          },
          "metadata": {},
          "execution_count": 31
        }
      ]
    },
    {
      "cell_type": "code",
      "source": [
        "!pip install evaluate jiwer"
      ],
      "metadata": {
        "id": "E3gestq07jeR"
      },
      "execution_count": null,
      "outputs": []
    },
    {
      "cell_type": "code",
      "source": [
        "from evaluate import load\n",
        "wer = load(\"wer\")"
      ],
      "metadata": {
        "colab": {
          "base_uri": "https://localhost:8080/",
          "height": 49,
          "referenced_widgets": [
            "5ae813e64c44438aa00ef7afa3a2f5d5",
            "543deb8dda0f40b9b31edc40261f2122",
            "24f64e6d0604413d8b929a2a6824470c",
            "595c28ab0b9b41c48f2e269fc0b49679",
            "8320f76eb4db460b9f7bc5a9daf59870",
            "280e73c8420147b6abe8b251ceeea679",
            "7f1eb731b5a3466f90e19ceff709cf27",
            "24db6abc8bbd4e14bb4e7bce30e5149e",
            "7aedc22004de425f97e26fe9eadd971d",
            "570eeefc2f4448eb81010149ff451dd1",
            "4ddd6ddcd8864c04ac96a451e2507fc7"
          ]
        },
        "id": "A4H1P5Wo7fl4",
        "outputId": "284fc7a9-6c6f-459c-8993-16f7de3099c9"
      },
      "execution_count": 9,
      "outputs": [
        {
          "output_type": "display_data",
          "data": {
            "text/plain": [
              "Downloading builder script:   0%|          | 0.00/4.49k [00:00<?, ?B/s]"
            ],
            "application/vnd.jupyter.widget-view+json": {
              "version_major": 2,
              "version_minor": 0,
              "model_id": "5ae813e64c44438aa00ef7afa3a2f5d5"
            }
          },
          "metadata": {}
        }
      ]
    },
    {
      "cell_type": "code",
      "source": [
        "cer = load(\"cer\")"
      ],
      "metadata": {
        "colab": {
          "base_uri": "https://localhost:8080/",
          "height": 49,
          "referenced_widgets": [
            "60f1e7f4735c4917abf3e9c1beb38e49",
            "8e5a88eb60de430792bfafde288a6e57",
            "055dfb14704e4cbcb4e3944caa47183e",
            "806d7ccf822f492b9c211bd9e545d6e3",
            "62f258751215459da12080b22a8e4889",
            "a5e09bf0af5d4746a46a972139b96501",
            "3064395e2aca4520bcc791b6b8839e19",
            "34d384d4d772458cbb259198226a23be",
            "73ac5f6b276a459484801d3e7eeb5793",
            "fc9e969a5b6b448f8b145de95fb7d8a9",
            "44d8dd5316284d03a42f55d2236b699f"
          ]
        },
        "id": "Brd4o_HJNjjd",
        "outputId": "ea60bfc1-4d02-404b-f989-da763a498335"
      },
      "execution_count": 10,
      "outputs": [
        {
          "output_type": "display_data",
          "data": {
            "text/plain": [
              "Downloading builder script:   0%|          | 0.00/5.60k [00:00<?, ?B/s]"
            ],
            "application/vnd.jupyter.widget-view+json": {
              "version_major": 2,
              "version_minor": 0,
              "model_id": "60f1e7f4735c4917abf3e9c1beb38e49"
            }
          },
          "metadata": {}
        }
      ]
    },
    {
      "cell_type": "code",
      "source": [
        "wer_score = wer.compute(predictions=[predicted_normalized], references=[reference_normalized])\n",
        "print(f\"wer_score: {wer_score}\")"
      ],
      "metadata": {
        "colab": {
          "base_uri": "https://localhost:8080/"
        },
        "id": "zW6ZliS98XpC",
        "outputId": "eecefcea-aca7-4368-c739-715e246b7643"
      },
      "execution_count": 11,
      "outputs": [
        {
          "output_type": "stream",
          "name": "stdout",
          "text": [
            "wer_score: 0.40390749601275916\n"
          ]
        }
      ]
    },
    {
      "cell_type": "code",
      "source": [
        "cer_score = cer.compute(predictions=[predicted_normalized], references=[reference_normalized])\n",
        "print(f\"cer_score: {cer_score}\")"
      ],
      "metadata": {
        "colab": {
          "base_uri": "https://localhost:8080/"
        },
        "id": "hN3uJHsBRdcM",
        "outputId": "92eb854d-8cb2-435b-819c-75de814c5972"
      },
      "execution_count": 12,
      "outputs": [
        {
          "output_type": "stream",
          "name": "stdout",
          "text": [
            "cer_score: 0.13643276124266782\n"
          ]
        }
      ]
    },
    {
      "cell_type": "markdown",
      "source": [
        "## Q5"
      ],
      "metadata": {
        "id": "TSzAfHeuaeK3"
      }
    },
    {
      "cell_type": "code",
      "source": [
        "!pip install wget"
      ],
      "metadata": {
        "id": "zEZPmCi0BDh6"
      },
      "execution_count": null,
      "outputs": []
    },
    {
      "cell_type": "code",
      "source": [
        "import wget\n",
        "import collections"
      ],
      "metadata": {
        "id": "s_mOLNw0BJ_a"
      },
      "execution_count": null,
      "outputs": []
    },
    {
      "cell_type": "code",
      "source": [
        "url = 'https://drive.usercontent.google.com/u/0/uc?id=1Q3JK4NVUC2t5QT63aDiVrCRBV225E_B3&export=download'\n",
        "wget.download(url)"
      ],
      "metadata": {
        "colab": {
          "base_uri": "https://localhost:8080/",
          "height": 36
        },
        "id": "HWG2BxXFBVj2",
        "outputId": "c5d182ef-3f98-4032-8ed9-49b536a9e3fc"
      },
      "execution_count": null,
      "outputs": [
        {
          "output_type": "execute_result",
          "data": {
            "text/plain": [
              "'pos_tagger.model'"
            ],
            "application/vnd.google.colaboratory.intrinsic+json": {
              "type": "string"
            }
          },
          "metadata": {},
          "execution_count": 17
        }
      ]
    },
    {
      "cell_type": "code",
      "source": [
        "tagger = POSTagger(\"pos_tagger.model\")"
      ],
      "metadata": {
        "id": "KBypTEN5SNsk"
      },
      "execution_count": null,
      "outputs": []
    },
    {
      "cell_type": "code",
      "source": [
        "def num_of_verbs_adverbs(tokens, tagger):\n",
        "  word_tags = tagger.tag(tokens)\n",
        "  tags = [word_tag[1] for word_tag in word_tags]\n",
        "  tag_counter = collections.Counter(tags)\n",
        "  return tag_counter[\"VERB\"], tag_counter[\"ADV\"]"
      ],
      "metadata": {
        "id": "LwRuxhf8GlkX"
      },
      "execution_count": null,
      "outputs": []
    },
    {
      "cell_type": "code",
      "source": [
        "verb_cnt_ref, adv_cnt_ref = num_of_verbs_adverbs(reference_tokens, tagger)"
      ],
      "metadata": {
        "id": "PYfq67l-GPYN"
      },
      "execution_count": null,
      "outputs": []
    },
    {
      "cell_type": "code",
      "source": [
        "verb_cnt_pred, adv_cnt_pred = num_of_verbs_adverbs(new_pred_tokens, tagger)"
      ],
      "metadata": {
        "id": "8NfEo_0xHTMj"
      },
      "execution_count": null,
      "outputs": []
    },
    {
      "cell_type": "code",
      "source": [
        "print(f\"number of verbs in reference is {verb_cnt_ref} and number of adverbs is {adv_cnt_ref}\")\n",
        "print(f\"number of verbs in prediction is {verb_cnt_pred} and number of adverbs is {adv_cnt_pred}\")"
      ],
      "metadata": {
        "colab": {
          "base_uri": "https://localhost:8080/"
        },
        "id": "yJNOexQAHYRA",
        "outputId": "5e21abd8-36b8-4ef4-d9a7-92a27769f738"
      },
      "execution_count": null,
      "outputs": [
        {
          "output_type": "stream",
          "name": "stdout",
          "text": [
            "number of verbs in reference is 290 and number of adverbs is 74\n",
            "number of verbs in prediction is 294 and number of adverbs is 80\n"
          ]
        }
      ]
    },
    {
      "cell_type": "markdown",
      "source": [
        "## Q6"
      ],
      "metadata": {
        "id": "X-QaaUfSaklQ"
      }
    },
    {
      "cell_type": "code",
      "source": [
        "def most_repeated_verb_lemma(tokens, tagger):\n",
        "  word_tags = tagger.tag(tokens)\n",
        "  verbs = [word_tag[0] for word_tag in word_tags if word_tag[1]==\"VERB\"]\n",
        "  verb_counter = collections.Counter(verbs)\n",
        "  most_rep_verb = verb_counter.most_common(1)[0][0]\n",
        "  lemmatizer = Lemmatizer()\n",
        "  most_rep_lemma = lemmatizer.lemmatize(most_rep_verb)\n",
        "  return most_rep_lemma"
      ],
      "metadata": {
        "id": "6swMsSYdIbyM"
      },
      "execution_count": null,
      "outputs": []
    },
    {
      "cell_type": "code",
      "source": [
        "most_lemma_ref = most_repeated_verb_lemma(reference_tokens, tagger)"
      ],
      "metadata": {
        "id": "zV72yvOqLdYV"
      },
      "execution_count": null,
      "outputs": []
    },
    {
      "cell_type": "code",
      "source": [
        "most_lemma_ref"
      ],
      "metadata": {
        "colab": {
          "base_uri": "https://localhost:8080/",
          "height": 36
        },
        "id": "EQnHZ7xhLl4Y",
        "outputId": "5e3fbd8a-f7e1-476c-bae1-af108004324e"
      },
      "execution_count": null,
      "outputs": [
        {
          "output_type": "execute_result",
          "data": {
            "text/plain": [
              "'بود#است'"
            ],
            "application/vnd.google.colaboratory.intrinsic+json": {
              "type": "string"
            }
          },
          "metadata": {},
          "execution_count": 48
        }
      ]
    },
    {
      "cell_type": "code",
      "source": [
        "most_lemma_pred = most_repeated_verb_lemma(predicted_tokens, tagger)"
      ],
      "metadata": {
        "id": "pqAL3y4NM4sW"
      },
      "execution_count": null,
      "outputs": []
    },
    {
      "cell_type": "code",
      "source": [
        "most_lemma_pred"
      ],
      "metadata": {
        "colab": {
          "base_uri": "https://localhost:8080/",
          "height": 36
        },
        "id": "u3P2E6y9M9M0",
        "outputId": "a3ad98bc-997c-4f6d-f2db-8dbf3723830a"
      },
      "execution_count": null,
      "outputs": [
        {
          "output_type": "execute_result",
          "data": {
            "text/plain": [
              "'بود#است'"
            ],
            "application/vnd.google.colaboratory.intrinsic+json": {
              "type": "string"
            }
          },
          "metadata": {},
          "execution_count": 50
        }
      ]
    },
    {
      "cell_type": "markdown",
      "source": [
        "## Q7"
      ],
      "metadata": {
        "id": "f99m1CVXangJ"
      }
    },
    {
      "cell_type": "code",
      "source": [
        "!pip install mega.py"
      ],
      "metadata": {
        "id": "5O8r8_CrQ-_U"
      },
      "execution_count": null,
      "outputs": []
    },
    {
      "cell_type": "code",
      "source": [
        "from mega import Mega"
      ],
      "metadata": {
        "id": "p1OtQ6x6RcoL"
      },
      "execution_count": null,
      "outputs": []
    },
    {
      "cell_type": "code",
      "source": [
        "mega = Mega()"
      ],
      "metadata": {
        "id": "2uWRCNxKRfOv"
      },
      "execution_count": null,
      "outputs": []
    },
    {
      "cell_type": "code",
      "source": [
        "email = \"sinaalinejad4@gmail.com\"\n",
        "password = \"!Sin2581446323\"\n",
        "m = mega.login(email, password)"
      ],
      "metadata": {
        "id": "Numy0p_5RklO"
      },
      "execution_count": null,
      "outputs": []
    },
    {
      "cell_type": "code",
      "source": [
        "m.download_url('https://mega.nz/file/GqZUlbpS#XRYP5FHbPK2LnLZ8IExrhrw3ZQ-jclNSVCz59uEhrxY')"
      ],
      "metadata": {
        "colab": {
          "base_uri": "https://localhost:8080/"
        },
        "id": "jDRJO8LvRyR7",
        "outputId": "c884e590-7eef-4e76-e9bc-5e6110fdd464"
      },
      "execution_count": null,
      "outputs": [
        {
          "output_type": "execute_result",
          "data": {
            "text/plain": [
              "PosixPath('fasttext_model.zip')"
            ]
          },
          "metadata": {},
          "execution_count": 57
        }
      ]
    },
    {
      "cell_type": "code",
      "source": [
        "!unzip fasttext_model.zip"
      ],
      "metadata": {
        "colab": {
          "base_uri": "https://localhost:8080/"
        },
        "id": "IcU3oGqWXInb",
        "outputId": "67dfa447-cd0e-4397-fac2-4682e9eeae35"
      },
      "execution_count": null,
      "outputs": [
        {
          "output_type": "stream",
          "name": "stdout",
          "text": [
            "Archive:  fasttext_model.zip\n",
            "  inflating: fasttext_skipgram_300.bin  \n",
            "  inflating: fasttext_skipgram_300.vec  \n"
          ]
        }
      ]
    },
    {
      "cell_type": "code",
      "source": [
        "word_embedding = WordEmbedding (model_type = 'fasttext', model_path = 'fasttext_skipgram_300.bin' )"
      ],
      "metadata": {
        "id": "ypwb0CbOAGTm"
      },
      "execution_count": null,
      "outputs": []
    },
    {
      "cell_type": "code",
      "source": [
        "def most_unrelated_word(words, word_embedding):\n",
        "  return word_embedding.doesnt_match (words)"
      ],
      "metadata": {
        "id": "TzbcIw_6ZDgB"
      },
      "execution_count": null,
      "outputs": []
    },
    {
      "cell_type": "code",
      "source": [
        "most_unrelated_word([\"زنبور\", \"ملخ\", \"مورچه\", \"انسان\"], word_embedding)"
      ],
      "metadata": {
        "colab": {
          "base_uri": "https://localhost:8080/",
          "height": 36
        },
        "id": "3dX-DudEX0QS",
        "outputId": "7938c186-d9ff-4045-fb87-4bafd2925300"
      },
      "execution_count": null,
      "outputs": [
        {
          "output_type": "execute_result",
          "data": {
            "text/plain": [
              "'انسان'"
            ],
            "application/vnd.google.colaboratory.intrinsic+json": {
              "type": "string"
            }
          },
          "metadata": {},
          "execution_count": 64
        }
      ]
    }
  ]
}