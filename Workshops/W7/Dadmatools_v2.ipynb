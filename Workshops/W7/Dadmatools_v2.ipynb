{
  "cells": [
    {
      "cell_type": "markdown",
      "metadata": {
        "id": "6pDOcXX5NlAf"
      },
      "source": [
        "# **DadmaTools:  A Python NLP Library for Persian**\n",
        "1. Download the toolkit via `pip`"
      ]
    },
    {
      "cell_type": "code",
      "source": [
        "!pip install dadmatools"
      ],
      "metadata": {
        "id": "61WEhbCWdIQh"
      },
      "execution_count": null,
      "outputs": []
    },
    {
      "cell_type": "markdown",
      "metadata": {
        "id": "r7uIzpjcN2K9"
      },
      "source": [
        "DadmaTools has different NLP models: *normalizer, tokenizer, lemmatizer, pos tagger, dependancy parser, and constituency parser.*\n",
        "\n",
        "The normalizer can be used with the code below:"
      ]
    },
    {
      "cell_type": "code",
      "execution_count": 17,
      "metadata": {
        "id": "E7P72ttdCGC6",
        "colab": {
          "base_uri": "https://localhost:8080/"
        },
        "outputId": "a603478c-b14a-41fc-e3ff-b1966ddff04e"
      },
      "outputs": [
        {
          "output_type": "stream",
          "name": "stdout",
          "text": [
            "input text :  من دیروز12 مدرسه رفتم\n",
            "output text when replace emails and remove urls :  من دیروز12 مدرسه رفتم\n"
          ]
        }
      ],
      "source": [
        "from dadmatools.normalizer import Normalizer\n",
        "\n",
        "normalizer = Normalizer(\n",
        "    full_cleaning=False,\n",
        "    unify_chars=True,\n",
        "    refine_punc_spacing=True,\n",
        "    remove_extra_space=True,\n",
        "    remove_puncs=False,\n",
        "    remove_html=False,\n",
        "    remove_stop_word=False,\n",
        "    replace_email_with=\"<EMAIL>\",\n",
        "    replace_number_with=\"عدد\",\n",
        "    replace_url_with=\"\",\n",
        "    replace_mobile_number_with=None,\n",
        "    replace_emoji_with=None,\n",
        "    replace_home_number_with=None\n",
        ")\n",
        "\n",
        "text = \"من دیروز12 مدرسه رفتم\"\n",
        "print('input text : ', text)\n",
        "print('output text when replace emails and remove urls : ', normalizer.normalize(text))"
      ]
    },
    {
      "cell_type": "markdown",
      "metadata": {
        "id": "MUsCTrjtO8gT"
      },
      "source": [
        "**Other NLP models can be used via pipeline. Each task has its own abbreviation.**"
      ]
    },
    {
      "cell_type": "code",
      "source": [
        "from dadmatools.pipeline.informal2formal.main import Informal2Formal\n",
        "translator = Informal2Formal()\n",
        "\n",
        "print(translator.translate('اینو اگه خواستین میتونین واسه تبدیل تست کنین '))"
      ],
      "metadata": {
        "colab": {
          "base_uri": "https://localhost:8080/"
        },
        "id": "55M0d-4vAqyk",
        "outputId": "acbfef33-5621-4add-d5af-1694d5c092b4"
      },
      "execution_count": 3,
      "outputs": [
        {
          "output_type": "stream",
          "name": "stderr",
          "text": [
            "Downloading file cache/dadmatools/fa_tokenizer.pt: : 639kB [00:01, 493kB/s]                           \n"
          ]
        },
        {
          "output_type": "stream",
          "name": "stdout",
          "text": [
            "3gram.bin: 2.30GB [01:17, 31.9MB/s]\n",
            "assets.pkl: 3.14MB [00:00, 19.3MB/s]\n",
            "irregular_verb_mapper.csv: 100%|██████████| 1.57k/1.57k [00:00<00:00, 4.90MB/s]\n",
            "verbs.csv: 100%|██████████| 39.4k/39.4k [00:00<00:00, 206kB/s]\n",
            "Model fa_tokenizer exists in cache/dadmatools/fa_tokenizer.pt\n",
            " این را اگر خواستید می‌توانید برای تبدیل تست بکنید\n"
          ]
        }
      ]
    },
    {
      "cell_type": "code",
      "execution_count": 4,
      "metadata": {
        "id": "VlnZ9dKGR_X0",
        "colab": {
          "base_uri": "https://localhost:8080/"
        },
        "outputId": "ec196ec6-2bca-43a5-d5b6-beca791a5db1"
      },
      "outputs": [
        {
          "output_type": "stream",
          "name": "stderr",
          "text": [
            "Downloading file cache/dadmatools/fa_tokenizer.pt: : 639kB [00:02, 242kB/s]                         \n"
          ]
        }
      ],
      "source": [
        "import dadmatools.pipeline.language as language\n",
        "\n",
        "# as tokenizer is the default tool, it will be loaded even without calling\n",
        "# pips = 'lem,pos,ner,dep,spellchecker,kasreh,sent,itf'"
      ]
    },
    {
      "cell_type": "code",
      "source": [
        "pips = 'lem'\n",
        "nlp_lem = language.Pipeline(pips)"
      ],
      "metadata": {
        "colab": {
          "base_uri": "https://localhost:8080/"
        },
        "id": "_1Xuci_ud1AI",
        "outputId": "54b51f5b-1086-4c43-acc7-9df566270325"
      },
      "execution_count": 17,
      "outputs": [
        {
          "output_type": "stream",
          "name": "stdout",
          "text": [
            "Loading pretrained XLM-Roberta, this may take a while...\n",
            "Model fa_tokenizer exists in cache/dadmatools/fa_tokenizer.pt\n",
            "Loading tokenizer for persian\n",
            "Loading tagger for persian\n",
            "Loading multi-word expander for persian\n",
            "Loading lemmatizer for persian\n",
            "==================================================\n",
            "Active language: persian\n",
            "==================================================\n"
          ]
        }
      ]
    },
    {
      "cell_type": "code",
      "source": [
        "nlp_lem('فهمیدم')"
      ],
      "metadata": {
        "colab": {
          "base_uri": "https://localhost:8080/"
        },
        "id": "aJWk3AKMd7R3",
        "outputId": "02a28c24-7d03-4399-dd8b-08bc18a89c0f"
      },
      "execution_count": 27,
      "outputs": [
        {
          "output_type": "execute_result",
          "data": {
            "text/plain": [
              "{'sentences': [{'id': 1,\n",
              "   'tokens': [{'id': 1,\n",
              "     'text': 'فهمیدم',\n",
              "     'upos': 'NOUN',\n",
              "     'xpos': 'N_SING',\n",
              "     'feats': 'Number=Sing',\n",
              "     'head': 0,\n",
              "     'deprel': 'root',\n",
              "     'lemma': 'فهمیدم'}]}],\n",
              " 'lang': 'persian'}"
            ]
          },
          "metadata": {},
          "execution_count": 27
        }
      ]
    },
    {
      "cell_type": "code",
      "source": [
        "pips = 'pos'\n",
        "nlp_pos = language.Pipeline(pips)"
      ],
      "metadata": {
        "colab": {
          "base_uri": "https://localhost:8080/"
        },
        "id": "a-FEdlPkgU9a",
        "outputId": "bc63272d-32f1-4609-a0ff-dc6ab3d81895"
      },
      "execution_count": 28,
      "outputs": [
        {
          "output_type": "stream",
          "name": "stdout",
          "text": [
            "Loading pretrained XLM-Roberta, this may take a while...\n",
            "Model fa_tokenizer exists in cache/dadmatools/fa_tokenizer.pt\n",
            "Loading tokenizer for persian\n",
            "Loading tagger for persian\n",
            "Loading multi-word expander for persian\n",
            "==================================================\n",
            "Active language: persian\n",
            "==================================================\n"
          ]
        }
      ]
    },
    {
      "cell_type": "code",
      "source": [
        "nlp_pos('ناگهان باران بارید')"
      ],
      "metadata": {
        "colab": {
          "base_uri": "https://localhost:8080/"
        },
        "id": "P8AEsSTUhZWI",
        "outputId": "5d2216a0-7338-4eb2-e533-a40fa4cfaf4d"
      },
      "execution_count": 30,
      "outputs": [
        {
          "output_type": "execute_result",
          "data": {
            "text/plain": [
              "{'sentences': [{'id': 1,\n",
              "   'tokens': [{'id': 1,\n",
              "     'text': 'ناگهان',\n",
              "     'upos': 'NOUN',\n",
              "     'xpos': 'N_SING',\n",
              "     'feats': 'Number=Sing',\n",
              "     'head': 0,\n",
              "     'deprel': 'root'},\n",
              "    {'id': 2,\n",
              "     'text': 'باران',\n",
              "     'upos': 'NOUN',\n",
              "     'xpos': 'N_SING',\n",
              "     'feats': 'Number=Sing',\n",
              "     'head': 1,\n",
              "     'deprel': 'nsubj'},\n",
              "    {'id': 3,\n",
              "     'text': 'بارید',\n",
              "     'upos': 'NOUN',\n",
              "     'xpos': 'N_SING',\n",
              "     'feats': 'Number=Sing',\n",
              "     'head': 1,\n",
              "     'deprel': 'root'}]}],\n",
              " 'lang': 'persian'}"
            ]
          },
          "metadata": {},
          "execution_count": 30
        }
      ]
    },
    {
      "cell_type": "code",
      "source": [
        "pips = 'ner'\n",
        "nlp_ner = language.Pipeline(pips)"
      ],
      "metadata": {
        "colab": {
          "base_uri": "https://localhost:8080/"
        },
        "id": "kJ-E4qKNiy3Z",
        "outputId": "4972a84c-a674-4b6a-afc0-8f2833c8ee2a"
      },
      "execution_count": 34,
      "outputs": [
        {
          "output_type": "stream",
          "name": "stdout",
          "text": [
            "Loading pretrained XLM-Roberta, this may take a while...\n",
            "Model fa_tokenizer exists in cache/dadmatools/fa_tokenizer.pt\n",
            "Loading tokenizer for persian\n",
            "Loading multi-word expander for persian\n",
            "Loading NER tagger for persian\n",
            "==================================================\n",
            "Active language: persian\n",
            "==================================================\n"
          ]
        }
      ]
    },
    {
      "cell_type": "code",
      "source": [
        "nlp_ner('دکتر احمدی، رئیس دانشگاه تهران، در کنفرانس هوش مصنوعی که در هتل آزادی برگزار شد، سخنرانی کرد.')"
      ],
      "metadata": {
        "colab": {
          "base_uri": "https://localhost:8080/"
        },
        "id": "xG2zP-WDi2A3",
        "outputId": "7e201a19-df68-4d08-e807-f8acb5cc9188"
      },
      "execution_count": 41,
      "outputs": [
        {
          "output_type": "execute_result",
          "data": {
            "text/plain": [
              "{'sentences': [{'id': 1,\n",
              "   'tokens': [{'id': 1, 'text': 'دکتر', 'ner': 'O'},\n",
              "    {'id': 2, 'text': 'احمدی', 'ner': 'S-PER'},\n",
              "    {'id': 3, 'text': '،', 'ner': 'O'},\n",
              "    {'id': 4, 'text': 'رئیس', 'ner': 'O'},\n",
              "    {'id': 5, 'text': 'دانشگاه', 'ner': 'B-ORG'},\n",
              "    {'id': 6, 'text': 'تهران', 'ner': 'E-ORG'},\n",
              "    {'id': 7, 'text': '،', 'ner': 'O'},\n",
              "    {'id': 8, 'text': 'در', 'ner': 'O'},\n",
              "    {'id': 9, 'text': 'کنفرانس', 'ner': 'O'},\n",
              "    {'id': 10, 'text': 'هوش', 'ner': 'O'},\n",
              "    {'id': 11, 'text': 'مصنوعی', 'ner': 'O'},\n",
              "    {'id': 12, 'text': 'که', 'ner': 'O'},\n",
              "    {'id': 13, 'text': 'در', 'ner': 'O'},\n",
              "    {'id': 14, 'text': 'هتل', 'ner': 'B-LOC'},\n",
              "    {'id': 15, 'text': 'آزادی', 'ner': 'E-LOC'},\n",
              "    {'id': 16, 'text': 'برگزار', 'ner': 'O'},\n",
              "    {'id': 17, 'text': 'شد', 'ner': 'O'},\n",
              "    {'id': 18, 'text': '،', 'ner': 'O'},\n",
              "    {'id': 19, 'text': 'سخنرانی', 'ner': 'O'},\n",
              "    {'id': 20, 'text': 'کرد', 'ner': 'O'},\n",
              "    {'id': 21, 'text': '.', 'ner': 'O'}]}],\n",
              " 'lang': 'persian'}"
            ]
          },
          "metadata": {},
          "execution_count": 41
        }
      ]
    },
    {
      "cell_type": "code",
      "source": [
        "pips = 'dep'\n",
        "nlp_dep = language.Pipeline(pips)"
      ],
      "metadata": {
        "id": "hiNcTkcKqRWI"
      },
      "execution_count": null,
      "outputs": []
    },
    {
      "cell_type": "code",
      "source": [
        "nlp_dep('حراست دانشگاه سمنان')"
      ],
      "metadata": {
        "colab": {
          "base_uri": "https://localhost:8080/"
        },
        "id": "ktSFCoT_qnQ5",
        "outputId": "eaf21e20-3aad-4962-c82a-abf94c5dc921"
      },
      "execution_count": 6,
      "outputs": [
        {
          "output_type": "execute_result",
          "data": {
            "text/plain": [
              "{'sentences': [{'id': 1,\n",
              "   'tokens': [{'id': 1,\n",
              "     'text': 'حراست',\n",
              "     'upos': 'NOUN',\n",
              "     'xpos': 'N_SING',\n",
              "     'feats': 'Number=Sing',\n",
              "     'head': 0,\n",
              "     'deprel': 'root'},\n",
              "    {'id': 2,\n",
              "     'text': 'دانشگاه',\n",
              "     'upos': 'NOUN',\n",
              "     'xpos': 'N_SING',\n",
              "     'feats': 'Number=Sing',\n",
              "     'head': 1,\n",
              "     'deprel': 'nmod:poss'},\n",
              "    {'id': 3,\n",
              "     'text': 'سمنان',\n",
              "     'upos': 'NOUN',\n",
              "     'xpos': 'N_SING',\n",
              "     'feats': 'Number=Sing',\n",
              "     'head': 1,\n",
              "     'deprel': 'nmod:poss'}]}],\n",
              " 'lang': 'persian'}"
            ]
          },
          "metadata": {},
          "execution_count": 6
        }
      ]
    },
    {
      "cell_type": "code",
      "source": [
        "pips = 'spellchecker'\n",
        "nlp_spell = language.Pipeline(pips)"
      ],
      "metadata": {
        "colab": {
          "base_uri": "https://localhost:8080/",
          "height": 353,
          "referenced_widgets": [
            "9d2df59b99a2411db6af30c11d5a3fea",
            "9a3a6d0dcd0447b780c2d082decfb229",
            "d7d796a26a834a10ba9324687897fcc7",
            "491f09aee2c946c189f7b2c2db0a7cd1",
            "a803ddcc72fc46b1aa4750bcbbf0b3cf",
            "f3e4a20bed384d9aae6f0ea6c49ccf06",
            "c5e9b774480e40b4956fad3f7d610d52",
            "01df936330af4333822fe68f6e259296",
            "d21ed9eefdb24d099fa9cf8dde4b312a",
            "3afc340ef0594176a90cc100573ddc9a",
            "e22876b10efa4970a290151bb4a5ab87",
            "32d8594e40c44ff385b4a398a0c08b71",
            "1290b520dd3548dc95f6bb31596c9c00",
            "4683ba237b3e4a02a0c75bb2d8985036",
            "d823e06d24084ebb8a3a6e6ce9bfbfa0",
            "4642f09121ad4887b70d2fb0763fbad5",
            "6a67c16b0efb4e85a15e60c6884841c4",
            "5c9f81a606d24ae8ac8c2b34c91079df",
            "bd9210e35498495ea750154eff33e441",
            "6f14c7189b904d41b812d2aac200e71a",
            "2fe60cfd436045acab445420c689681f",
            "5d4750b3e41c41b3a875c5aaba5b1ddd",
            "9cec47f53c2e4a2482cd8334ecfc99c6",
            "5d09dc4a79764c129a63dbdf1a6b31e7",
            "e1bf07fccf824c38b81dfa5fd1bd28c0",
            "3e6110e7d3774e57b37caf92b6929759",
            "c152b660edf8421a905e9e718ba43bbd",
            "915d7ad5e06c41578dc8d8b974462c06",
            "766db60a97224987aabcdb1399e301ff",
            "16735e3ffdcd4e5c8f054123e4535938",
            "d7dc42c82e6b463aa56210293a85f222",
            "ffbe6385ac2a4daf978e08f60c78f80b",
            "a95d8e72168e44f2a0efc4fb197657a1",
            "47acf94b3735421786a28624d24ecfde",
            "e51c347da6de4cef829eed6fc151f497",
            "67a2ca333d3e4e8c9eb64ea1a5b8d804",
            "4f0d0b5c390a43b7aad3519b8042e0a4",
            "86fe337900be419a846b7bbf8ec675dd",
            "b07d4962755743df94804093c571be75",
            "9af3da2568c84663ba51f8452a2cd1e5",
            "fef25d9784ef403b8fb9eeeff5cbe35a",
            "3a7c3f7c20db471398ec656263405b87",
            "63ed7bc7285044dba4dec6df35ee7a64",
            "66f4cdf4424745b684e33764e34ab550",
            "3cc7394bd4c14006a8225a17f1d8a946",
            "7ed891a57deb453295649f383c8e3a9b",
            "ea5a01ecc79846ad8e89810ad678bc32",
            "ef9e170bc85749ca831ccf67088535f8",
            "dcf054fb3ac948e1bd172478d37e6d24",
            "7f2f9aa947db469c832dbe3df7056d99",
            "58e6addfd80547199ea076a325f53a15",
            "542cc726098d498b96f29f77dd63ddbc",
            "d00b3c08fb894e39bf3e2b75f68a6ba4",
            "644a3cfc5f124e3c9c223cc425d90ac2",
            "b57c9d9cc3f74e8d81e0b1061ecb2433"
          ]
        },
        "id": "wtNr747xlpV0",
        "outputId": "f73be78b-03e2-4dca-b6d5-895127539b39"
      },
      "execution_count": 9,
      "outputs": [
        {
          "output_type": "stream",
          "name": "stdout",
          "text": [
            "Loading pretrained XLM-Roberta, this may take a while...\n",
            "Model fa_tokenizer exists in cache/dadmatools/fa_tokenizer.pt\n",
            "Loading tokenizer for persian\n",
            "Loading multi-word expander for persian\n"
          ]
        },
        {
          "output_type": "display_data",
          "data": {
            "text/plain": [
              "config.json:   0%|          | 0.00/440 [00:00<?, ?B/s]"
            ],
            "application/vnd.jupyter.widget-view+json": {
              "version_major": 2,
              "version_minor": 0,
              "model_id": "9d2df59b99a2411db6af30c11d5a3fea"
            }
          },
          "metadata": {}
        },
        {
          "output_type": "display_data",
          "data": {
            "text/plain": [
              "state_dict_nevise.pt:   0%|          | 0.00/959M [00:00<?, ?B/s]"
            ],
            "application/vnd.jupyter.widget-view+json": {
              "version_major": 2,
              "version_minor": 0,
              "model_id": "32d8594e40c44ff385b4a398a0c08b71"
            }
          },
          "metadata": {}
        },
        {
          "output_type": "display_data",
          "data": {
            "text/plain": [
              "vocab.pkl:   0%|          | 0.00/3.80M [00:00<?, ?B/s]"
            ],
            "application/vnd.jupyter.widget-view+json": {
              "version_major": 2,
              "version_minor": 0,
              "model_id": "9cec47f53c2e4a2482cd8334ecfc99c6"
            }
          },
          "metadata": {}
        },
        {
          "output_type": "display_data",
          "data": {
            "text/plain": [
              "vocab.txt:   0%|          | 0.00/1.20M [00:00<?, ?B/s]"
            ],
            "application/vnd.jupyter.widget-view+json": {
              "version_major": 2,
              "version_minor": 0,
              "model_id": "47acf94b3735421786a28624d24ecfde"
            }
          },
          "metadata": {}
        },
        {
          "output_type": "stream",
          "name": "stderr",
          "text": [
            "/usr/local/lib/python3.10/dist-packages/huggingface_hub/file_download.py:1132: FutureWarning: `resume_download` is deprecated and will be removed in version 1.0.0. Downloads always resume when possible. If you want to force a new download, use `force_download=True`.\n",
            "  warnings.warn(\n"
          ]
        },
        {
          "output_type": "display_data",
          "data": {
            "text/plain": [
              "config.json:   0%|          | 0.00/440 [00:00<?, ?B/s]"
            ],
            "application/vnd.jupyter.widget-view+json": {
              "version_major": 2,
              "version_minor": 0,
              "model_id": "3cc7394bd4c14006a8225a17f1d8a946"
            }
          },
          "metadata": {}
        },
        {
          "output_type": "stream",
          "name": "stdout",
          "text": [
            "==================================================\n",
            "Active language: persian\n",
            "==================================================\n"
          ]
        }
      ]
    },
    {
      "cell_type": "code",
      "source": [
        "nlp_spell('دیشپ گذفتار بودم نتونستم به دیرنت بیام')"
      ],
      "metadata": {
        "colab": {
          "base_uri": "https://localhost:8080/"
        },
        "id": "FgHHPTwJlsC4",
        "outputId": "de165af7-8ba3-40fb-d619-6b8863021809"
      },
      "execution_count": 14,
      "outputs": [
        {
          "output_type": "stream",
          "name": "stderr",
          "text": [
            "1it [00:00,  2.76it/s]\n"
          ]
        },
        {
          "output_type": "execute_result",
          "data": {
            "text/plain": [
              "{'spellchecker': {'orginal': 'دیشپ گذفتار بودم نتونستم به دیرنت بیام',\n",
              "  'corrected': 'پیش گرفتار بودم نتونستم به دیرنت بیام',\n",
              "  'checked_words': [('دیشپ', 'پیش'), ('گذفتار', 'گرفتار')]},\n",
              " 'sentences': [{'id': 1,\n",
              "   'tokens': [{'id': 1, 'text': 'دیشپ'},\n",
              "    {'id': 2, 'text': 'گذفتار'},\n",
              "    {'id': 3, 'text': 'بودم'},\n",
              "    {'id': 4, 'text': 'نتونستم'},\n",
              "    {'id': 5, 'text': 'به'},\n",
              "    {'id': 6, 'text': 'دیرنت'},\n",
              "    {'id': 7, 'text': 'بیام'}]}],\n",
              " 'lang': 'persian'}"
            ]
          },
          "metadata": {},
          "execution_count": 14
        }
      ]
    },
    {
      "cell_type": "code",
      "source": [
        "pips = 'kasreh'\n",
        "nlp_kasreh = language.Pipeline(pips)"
      ],
      "metadata": {
        "colab": {
          "base_uri": "https://localhost:8080/",
          "height": 220,
          "referenced_widgets": [
            "9e21a361ddcd485094e9dd6e9db44f22",
            "c6c5a0f40b1c4fc292e639c1a381e645",
            "6758873f80de44359ea47aba7e5aa343",
            "76799f471d9c40e5862f9d24673067e5",
            "d24fe3386acb482faff6b96b72238d9d",
            "bc43272e0a86454cbc40488f86ddfe95",
            "81a5d01c4dac44bf8ca84149c76ab334",
            "a081fe67b5d04eb0bf81e85fed5bb406",
            "b667db74773645c9a58fe52c1961e65f",
            "6b0bd70a375c4a03b022bb9ba07e9d08",
            "460cf60af3de4111a84b9498673e409d",
            "6d4ca99aa9b1490ab1e3389ca2314ade",
            "cceb479c50824cf7bf40393b4ae51baa",
            "33cf36e3174744018657412523f9237e",
            "4bf12746b0b64549b2b47b4c469d8572",
            "1aa875da335145858068e4c01c316eb3",
            "d0de1dcd4aa84121a1448b4629d68d5d",
            "e4307262db3f4c70a19bc7e5f5207384",
            "9e30ad0eb2114dffb83b5f827a777d89",
            "7e816540be0347c0a7cdd8cd8c96c3d9",
            "d8a5729d7c9c4f6f8d976495d77932f3",
            "c9cc77ea033c4610babb4def857747cb"
          ]
        },
        "id": "qW3eCPrvrdDr",
        "outputId": "da71dfa9-03b2-4c2c-ce74-f9c2d280bd35"
      },
      "execution_count": 10,
      "outputs": [
        {
          "output_type": "display_data",
          "data": {
            "text/plain": [
              "persian.kasreh.mdl:   0%|          | 0.00/10.4M [00:00<?, ?B/s]"
            ],
            "application/vnd.jupyter.widget-view+json": {
              "version_major": 2,
              "version_minor": 0,
              "model_id": "9e21a361ddcd485094e9dd6e9db44f22"
            }
          },
          "metadata": {}
        },
        {
          "output_type": "display_data",
          "data": {
            "text/plain": [
              "persian.kasreh-vocab.json:   0%|          | 0.00/23.0 [00:00<?, ?B/s]"
            ],
            "application/vnd.jupyter.widget-view+json": {
              "version_major": 2,
              "version_minor": 0,
              "model_id": "6d4ca99aa9b1490ab1e3389ca2314ade"
            }
          },
          "metadata": {}
        },
        {
          "output_type": "stream",
          "name": "stdout",
          "text": [
            "Loading pretrained XLM-Roberta, this may take a while...\n",
            "Model fa_tokenizer exists in cache/dadmatools/fa_tokenizer.pt\n",
            "Loading tokenizer for persian\n",
            "Loading multi-word expander for persian\n",
            "Loading Kasreh tagger for persian\n",
            "==================================================\n",
            "Active language: persian\n",
            "==================================================\n"
          ]
        }
      ]
    },
    {
      "cell_type": "code",
      "source": [
        "nlp_kasreh('کلید در را برداشتم و به حراست دانشگاه علم و صنعت  تحویل دادم.')"
      ],
      "metadata": {
        "colab": {
          "base_uri": "https://localhost:8080/"
        },
        "id": "K5mVoAqyrhnk",
        "outputId": "4d6b78ae-fe7c-4481-9dbf-657a2f058cc4"
      },
      "execution_count": 21,
      "outputs": [
        {
          "output_type": "execute_result",
          "data": {
            "text/plain": [
              "{'sentences': [{'id': 1,\n",
              "   'tokens': [{'id': 1, 'text': 'کلید', 'kasreh': 'O'},\n",
              "    {'id': 2, 'text': 'در', 'kasreh': 'O'},\n",
              "    {'id': 3, 'text': 'را', 'kasreh': 'O'},\n",
              "    {'id': 4, 'text': 'برداشتم', 'kasreh': 'O'},\n",
              "    {'id': 5, 'text': 'و', 'kasreh': 'O'},\n",
              "    {'id': 6, 'text': 'به', 'kasreh': 'O'},\n",
              "    {'id': 7, 'text': 'حراست', 'kasreh': 'S-kasreh'},\n",
              "    {'id': 8, 'text': 'دانشگاه', 'kasreh': 'O'},\n",
              "    {'id': 9, 'text': 'علم', 'kasreh': 'O'},\n",
              "    {'id': 10, 'text': 'و', 'kasreh': 'O'},\n",
              "    {'id': 11, 'text': 'صنعت', 'kasreh': 'O'},\n",
              "    {'id': 12, 'text': 'تحویل', 'kasreh': 'O'},\n",
              "    {'id': 13, 'text': 'دادم', 'kasreh': 'O'},\n",
              "    {'id': 14, 'text': '.', 'kasreh': 'O'}]}],\n",
              " 'lang': 'persian'}"
            ]
          },
          "metadata": {},
          "execution_count": 21
        }
      ]
    },
    {
      "cell_type": "code",
      "source": [
        "pips = 'sent'\n",
        "nlp_sent = language.Pipeline(pips)"
      ],
      "metadata": {
        "colab": {
          "base_uri": "https://localhost:8080/",
          "height": 298,
          "referenced_widgets": [
            "a479761eaba54d78a55e08cc916dd3dc",
            "a8b0288855b445c2aa57275e5cf87b33",
            "c072a35d605b41eb84fc6b7214cc680f",
            "cbbc64f22db84633ad33025973d8cb22",
            "773f530b5bdc4d27b6836354e303626c",
            "3c118070805e4246876475a171637535",
            "849158443e044193bcb39e78b51c3044",
            "4fd508bfb75d4bad889e1a003e293012",
            "8872a5dbfc6e4687a5c01bdab0278888",
            "09f1539cbbd74d65a80002ca9fbd035a",
            "3655fda60cde466a989512300912ef0c",
            "26099daeca5042a6a7a8d07e591abd34",
            "4d7d2b947d6b40cca1f36edace9e2fbf",
            "09ec7cde0e47489f918817e0c79c162f",
            "ab52df5fb2284464b378bcc414749ed1",
            "0cd1ac1aefce4ffca3936b3d5069820e",
            "4aad76fcbe3843b4987dbb4677eb5fad",
            "15db452d94834dfbabf2e0ee8c4e960c",
            "d16e94dd52194768a48406b791c2664b",
            "1e29b4bf7f7b46a8b5847d652416c768",
            "121cd93b65e644578b00eb9ea9ddcd43",
            "31fe16d5dbd64505b14075d6591434b8",
            "9b0f1700a35b429aa817155d39c802ee",
            "f8ffcc4a18e44aa383f88dca3dadfe5f",
            "7564082d07ba4d078c2b64bf8feac6ac",
            "ba9d83c50a68441b8604a959dbc547c3",
            "bef3af0af4234810a44ffedc609a95f2",
            "0cfba1b5245f48e1843049887f0b3289",
            "0d96bc35dc81477fb0b062d3562df786",
            "56bd64f815e8479a802df3f5006e9c9f",
            "9e410fe171b24aee9c95af1bf9c91626",
            "5f40693f62c24712b15394f83f4d1f88",
            "6a4539d6dfc54ca3bf8dbcbe531c3df2",
            "c580ce7e33e64049aa236a9507a6a9c0",
            "9ee2995d70c04af9b9d0494cc44b56ab",
            "e1718c542c804430a8da2cfcc0b9acb0",
            "b48c1b8485db4550b8e88cc29de4ce44",
            "96cbf558bf1d45cdbd8dd19f71a558ef",
            "3adce62b43c0437ba5e41a71eb8622b7",
            "3907e4ac8566419a83c4c08ce99acadb",
            "5e93e886491f430f82a31e392e434525",
            "8b577b0a0ad0465e9a345e914fdba4fd",
            "e1735cbfe59e4451b3e2e207ef2072f4",
            "4fc7dc456592436db76b2aecc409156c",
            "e35b78852ac0463ba81d2a8a945c37cb",
            "0f7d9bbef04f42c68196768d0ea3bb11",
            "5941a0627d224dd0a626bb15582841ae",
            "2e0069b593654b28ae7e9ac843508ec2",
            "2711d08810a4412b9aaaf28c8bd7da83",
            "0a666364642b4660836f952a6f2e8270",
            "17d8732a67e54f1997b48e95ea125c4e",
            "f310e8938f1842fe9296b3c4fd1a7338",
            "217303e40ccf4b39ae0e6d687c2f4683",
            "940363e0165649aab8488172e65ccff3",
            "c25262c43f084470b9fdba428424c634"
          ]
        },
        "id": "JyAAE-j4tLJh",
        "outputId": "ae6e8cc4-fcab-4ed7-b408-1731cac66286"
      },
      "execution_count": 22,
      "outputs": [
        {
          "output_type": "display_data",
          "data": {
            "text/plain": [
              "persian.sent.mdl:   0%|          | 0.00/10.4M [00:00<?, ?B/s]"
            ],
            "application/vnd.jupyter.widget-view+json": {
              "version_major": 2,
              "version_minor": 0,
              "model_id": "a479761eaba54d78a55e08cc916dd3dc"
            }
          },
          "metadata": {}
        },
        {
          "output_type": "stream",
          "name": "stdout",
          "text": [
            "Loading pretrained XLM-Roberta, this may take a while...\n",
            "Model fa_tokenizer exists in cache/dadmatools/fa_tokenizer.pt\n",
            "Loading tokenizer for persian\n",
            "Loading multi-word expander for persian\n"
          ]
        },
        {
          "output_type": "display_data",
          "data": {
            "text/plain": [
              "config.json:   0%|          | 0.00/841 [00:00<?, ?B/s]"
            ],
            "application/vnd.jupyter.widget-view+json": {
              "version_major": 2,
              "version_minor": 0,
              "model_id": "26099daeca5042a6a7a8d07e591abd34"
            }
          },
          "metadata": {}
        },
        {
          "output_type": "display_data",
          "data": {
            "text/plain": [
              "pytorch_model.bin:   0%|          | 0.00/1.11G [00:00<?, ?B/s]"
            ],
            "application/vnd.jupyter.widget-view+json": {
              "version_major": 2,
              "version_minor": 0,
              "model_id": "9b0f1700a35b429aa817155d39c802ee"
            }
          },
          "metadata": {}
        },
        {
          "output_type": "display_data",
          "data": {
            "text/plain": [
              "sentencepiece.bpe.model:   0%|          | 0.00/5.07M [00:00<?, ?B/s]"
            ],
            "application/vnd.jupyter.widget-view+json": {
              "version_major": 2,
              "version_minor": 0,
              "model_id": "c580ce7e33e64049aa236a9507a6a9c0"
            }
          },
          "metadata": {}
        },
        {
          "output_type": "display_data",
          "data": {
            "text/plain": [
              "special_tokens_map.json:   0%|          | 0.00/150 [00:00<?, ?B/s]"
            ],
            "application/vnd.jupyter.widget-view+json": {
              "version_major": 2,
              "version_minor": 0,
              "model_id": "e35b78852ac0463ba81d2a8a945c37cb"
            }
          },
          "metadata": {}
        },
        {
          "output_type": "stream",
          "name": "stdout",
          "text": [
            "==================================================\n",
            "Active language: persian\n",
            "==================================================\n"
          ]
        }
      ]
    },
    {
      "cell_type": "code",
      "source": [
        "nlp_sent('با اینکه کتاب بسیار خوب نگارش شده بود و از نظر خیلی‌ها شاهکاری در ادبیات بود، نتوانستم با آن ارتباط بگیرم.')['sentiment']"
      ],
      "metadata": {
        "colab": {
          "base_uri": "https://localhost:8080/"
        },
        "id": "AqnSt8mutN-J",
        "outputId": "b5930bc3-eac6-4a6c-ae20-d044e09ef9f7"
      },
      "execution_count": 28,
      "outputs": [
        {
          "output_type": "execute_result",
          "data": {
            "text/plain": [
              "[{'label': 'positive', 'score': 0.7725887298583984}]"
            ]
          },
          "metadata": {},
          "execution_count": 28
        }
      ]
    },
    {
      "cell_type": "code",
      "source": [
        "pips = 'itf'\n",
        "nlp_itf = language.Pipeline(pips)"
      ],
      "metadata": {
        "colab": {
          "base_uri": "https://localhost:8080/"
        },
        "id": "3a1vpTDLyPhM",
        "outputId": "cf0810d7-829c-49d6-9d6c-4d611d469440"
      },
      "execution_count": 29,
      "outputs": [
        {
          "output_type": "stream",
          "name": "stdout",
          "text": [
            "Loading pretrained XLM-Roberta, this may take a while...\n",
            "Model fa_tokenizer exists in cache/dadmatools/fa_tokenizer.pt\n",
            "Loading tokenizer for persian\n",
            "Loading multi-word expander for persian\n",
            "3gram.bin: 2.30GB [02:12, 18.6MB/s]\n",
            "assets.pkl: 3.14MB [00:01, 2.60MB/s]\n",
            "irregular_verb_mapper.csv: 100%|██████████| 1.57k/1.57k [00:00<00:00, 546kB/s]\n",
            "verbs.csv: 100%|██████████| 39.4k/39.4k [00:00<00:00, 926kB/s]\n",
            "Model fa_tokenizer exists in cache/dadmatools/fa_tokenizer.pt\n",
            "==================================================\n",
            "Active language: persian\n",
            "==================================================\n"
          ]
        }
      ]
    },
    {
      "cell_type": "code",
      "source": [
        "nlp_itf('خیلی خستم نمیتونم کار کنم.')"
      ],
      "metadata": {
        "colab": {
          "base_uri": "https://localhost:8080/"
        },
        "id": "u2vQpUOB0w96",
        "outputId": "e41ab6fc-d41d-456d-aeb3-1d7a18209b53"
      },
      "execution_count": 32,
      "outputs": [
        {
          "output_type": "execute_result",
          "data": {
            "text/plain": [
              "{'itf': ' خیلی خستم نمی\\u200cتوانم کار بکنم .',\n",
              " 'sentences': [{'id': 1,\n",
              "   'tokens': [{'id': 1, 'text': 'خیلی'},\n",
              "    {'id': 2, 'text': 'خستم'},\n",
              "    {'id': 3, 'text': 'نمیتونم'},\n",
              "    {'id': 4, 'text': 'کار'},\n",
              "    {'id': 5, 'text': 'کنم'},\n",
              "    {'id': 6, 'text': '.'}]}],\n",
              " 'lang': 'persian'}"
            ]
          },
          "metadata": {},
          "execution_count": 32
        }
      ]
    },
    {
      "cell_type": "code",
      "execution_count": 5,
      "metadata": {
        "id": "3N7sDA3pCEom",
        "colab": {
          "base_uri": "https://localhost:8080/"
        },
        "outputId": "04365ec7-8a5a-4016-c95b-9881e84b63bf"
      },
      "outputs": [
        {
          "output_type": "stream",
          "name": "stderr",
          "text": [
            "1it [00:00,  2.29it/s]\n"
          ]
        },
        {
          "output_type": "execute_result",
          "data": {
            "text/plain": [
              "{'spellchecker': {'orginal': 'من صادق جعفری\\u200cزاده به عنوان توسعه\\u200cدهنده دادماتولز از شرکت دادماتک هستم. من به لوزامبورگ خواهم رفت.',\n",
              "  'corrected': 'من صادق جعفری\\u200cزاده به عنوان توسعه\\u200cدهنده دادماتولز از شرکت دادماتک هستم.من به لوکزامبورگ خواهم رفت.',\n",
              "  'checked_words': [('لوزامبورگ', 'لوکزامبورگ')]},\n",
              " 'itf': ' من صادق جعفری زاده به عنوان توسعه\\u200cدهنده دادماتولز از شرکت دادماتک هستم . من به لوزامبورگ خواهم رفت .',\n",
              " 'sentences': [{'id': 1,\n",
              "   'tokens': [{'id': 1,\n",
              "     'text': 'من',\n",
              "     'upos': 'PRON',\n",
              "     'xpos': 'PRO',\n",
              "     'feats': 'Number=Sing|Person=1|PronType=Prs',\n",
              "     'head': 2,\n",
              "     'deprel': 'nsubj',\n",
              "     'lemma': 'من',\n",
              "     'ner': 'O',\n",
              "     'kasreh': 'O'},\n",
              "    {'id': 2,\n",
              "     'text': 'صادق',\n",
              "     'upos': 'NOUN',\n",
              "     'xpos': 'N_SING',\n",
              "     'feats': 'Number=Sing',\n",
              "     'head': 0,\n",
              "     'deprel': 'root',\n",
              "     'lemma': 'صادق',\n",
              "     'ner': 'B-PER',\n",
              "     'kasreh': 'S-kasreh'},\n",
              "    {'id': 3,\n",
              "     'text': 'جعفری\\u200cزاده',\n",
              "     'upos': 'NOUN',\n",
              "     'xpos': 'N_SING',\n",
              "     'head': 2,\n",
              "     'deprel': 'flat',\n",
              "     'lemma': 'جعفری\\u200cزاده',\n",
              "     'ner': 'E-PER',\n",
              "     'kasreh': 'O'},\n",
              "    {'id': 4,\n",
              "     'text': 'به',\n",
              "     'upos': 'ADP',\n",
              "     'xpos': 'P',\n",
              "     'head': 2,\n",
              "     'deprel': 'case',\n",
              "     'lemma': 'به',\n",
              "     'ner': 'O',\n",
              "     'kasreh': 'O'},\n",
              "    {'id': 5,\n",
              "     'text': 'عنوان',\n",
              "     'upos': 'NOUN',\n",
              "     'xpos': 'N_SING',\n",
              "     'feats': 'Number=Sing',\n",
              "     'head': 2,\n",
              "     'deprel': 'advmod',\n",
              "     'lemma': 'عنوان',\n",
              "     'ner': 'O',\n",
              "     'kasreh': 'S-kasreh'},\n",
              "    {'id': 6,\n",
              "     'text': 'توسعه\\u200cدهنده',\n",
              "     'upos': 'NOUN',\n",
              "     'xpos': 'N_SING',\n",
              "     'head': 2,\n",
              "     'deprel': 'nmod:poss',\n",
              "     'lemma': 'توسعه\\u200cدهنده',\n",
              "     'ner': 'O',\n",
              "     'kasreh': 'S-kasreh'},\n",
              "    {'id': 7,\n",
              "     'text': 'دادماتولز',\n",
              "     'upos': 'NOUN',\n",
              "     'xpos': 'N_SING',\n",
              "     'feats': 'Number=Sing',\n",
              "     'head': 2,\n",
              "     'deprel': 'advmod',\n",
              "     'lemma': 'دادماتولز',\n",
              "     'ner': 'O',\n",
              "     'kasreh': 'S-kasreh'},\n",
              "    {'id': 8,\n",
              "     'text': 'از',\n",
              "     'upos': 'ADP',\n",
              "     'xpos': 'P',\n",
              "     'head': 2,\n",
              "     'deprel': 'case',\n",
              "     'lemma': 'از',\n",
              "     'ner': 'O',\n",
              "     'kasreh': 'O'},\n",
              "    {'id': 9,\n",
              "     'text': 'شرکت',\n",
              "     'upos': 'NOUN',\n",
              "     'xpos': 'N_SING',\n",
              "     'feats': 'Number=Sing',\n",
              "     'head': 2,\n",
              "     'deprel': 'nmod:poss',\n",
              "     'lemma': 'شرکت',\n",
              "     'ner': 'B-ORG',\n",
              "     'kasreh': 'S-kasreh'},\n",
              "    {'id': 10,\n",
              "     'text': 'دادماتک',\n",
              "     'upos': 'NOUN',\n",
              "     'xpos': 'N_SING',\n",
              "     'feats': 'Number=Sing',\n",
              "     'head': 2,\n",
              "     'deprel': 'flat',\n",
              "     'lemma': 'دادماتک',\n",
              "     'ner': 'E-ORG',\n",
              "     'kasreh': 'S-kasreh'},\n",
              "    {'id': 11,\n",
              "     'text': 'هستم',\n",
              "     'upos': 'AUX',\n",
              "     'xpos': 'V_PRS',\n",
              "     'feats': 'Number=Sing|Person=1|Tense=Pres',\n",
              "     'head': 2,\n",
              "     'deprel': 'cop',\n",
              "     'lemma': 'هست',\n",
              "     'ner': 'O',\n",
              "     'kasreh': 'O'},\n",
              "    {'id': 12,\n",
              "     'text': '.',\n",
              "     'upos': 'PUNCT',\n",
              "     'xpos': 'DELM',\n",
              "     'head': 2,\n",
              "     'deprel': 'punct',\n",
              "     'lemma': '.',\n",
              "     'ner': 'O',\n",
              "     'kasreh': 'O'}]},\n",
              "  {'id': 2,\n",
              "   'tokens': [{'id': 1,\n",
              "     'text': 'من',\n",
              "     'upos': 'PRON',\n",
              "     'xpos': 'PRO',\n",
              "     'feats': 'Number=Sing|Person=1|PronType=Prs',\n",
              "     'head': 0,\n",
              "     'deprel': 'root',\n",
              "     'lemma': 'من',\n",
              "     'ner': 'O',\n",
              "     'kasreh': 'O'},\n",
              "    {'id': 2,\n",
              "     'text': 'به',\n",
              "     'upos': 'ADP',\n",
              "     'xpos': 'P',\n",
              "     'head': 1,\n",
              "     'deprel': 'case',\n",
              "     'lemma': 'به',\n",
              "     'ner': 'O',\n",
              "     'kasreh': 'O'},\n",
              "    {'id': 3,\n",
              "     'text': 'لوزامبورگ',\n",
              "     'upos': 'NOUN',\n",
              "     'xpos': 'N_SING',\n",
              "     'feats': 'Number=Sing',\n",
              "     'head': 1,\n",
              "     'deprel': 'nmod:poss',\n",
              "     'lemma': 'لوزامبورگ',\n",
              "     'ner': 'S-LOC',\n",
              "     'kasreh': 'S-kasreh'},\n",
              "    {'id': 4,\n",
              "     'text': 'خواهم',\n",
              "     'upos': 'NOUN',\n",
              "     'xpos': 'N_SING',\n",
              "     'feats': 'Number=Sing',\n",
              "     'head': 1,\n",
              "     'deprel': 'flat',\n",
              "     'lemma': 'خواست#خواه',\n",
              "     'ner': 'O',\n",
              "     'kasreh': 'O'},\n",
              "    {'id': 5,\n",
              "     'text': 'رفت',\n",
              "     'upos': 'VERB',\n",
              "     'xpos': 'V_PA',\n",
              "     'feats': 'Number=Sing|Person=3|Tense=Past',\n",
              "     'head': 1,\n",
              "     'deprel': 'ccomp',\n",
              "     'lemma': 'رفت#رو',\n",
              "     'ner': 'O',\n",
              "     'kasreh': 'O'},\n",
              "    {'id': 6,\n",
              "     'text': '.',\n",
              "     'upos': 'PUNCT',\n",
              "     'xpos': 'DELM',\n",
              "     'head': 1,\n",
              "     'deprel': 'punct',\n",
              "     'lemma': '.',\n",
              "     'ner': 'O',\n",
              "     'kasreh': 'O'}]}],\n",
              " 'lang': 'persian',\n",
              " 'sentiment': [{'label': 'neutral', 'score': 0.7166368365287781}]}"
            ]
          },
          "metadata": {},
          "execution_count": 5
        }
      ],
      "source": [
        "text = 'من صادق جعفری‌زاده به عنوان توسعه‌دهنده دادماتولز از شرکت دادماتک هستم. من به لوزامبورگ خواهم رفت.'\n",
        "doc = nlp(text)\n",
        "doc"
      ]
    },
    {
      "cell_type": "markdown",
      "metadata": {
        "id": "Ze5DcdTXpaG6"
      },
      "source": [
        "# Loading Persian NLP Datasets"
      ]
    },
    {
      "cell_type": "code",
      "execution_count": 6,
      "metadata": {
        "id": "flEghMJ-pe_r"
      },
      "outputs": [],
      "source": [
        "from dadmatools.datasets import get_all_datasets_info, get_dataset_info\n",
        "from dadmatools.datasets import ARMAN\n",
        "from dadmatools.datasets import TEP\n",
        "from dadmatools.datasets import PerSentLexicon\n",
        "from dadmatools.datasets import FaSpell\n",
        "from dadmatools.datasets import WikipediaCorpus\n",
        "from dadmatools.datasets import PersianNer\n",
        "from dadmatools.datasets import PersianNews\n",
        "from dadmatools.datasets import PnSummary\n",
        "from dadmatools.datasets import FarsTail\n",
        "from dadmatools.datasets import SnappfoodSentiment\n",
        "from dadmatools.datasets import get_all_datasets_info\n",
        "from dadmatools.datasets import Peyma\n",
        "from dadmatools.datasets import PerUDT\n",
        "from dadmatools.datasets import PersianTweets\n",
        "from pprint import pprint"
      ]
    },
    {
      "cell_type": "code",
      "execution_count": 7,
      "metadata": {
        "id": "BNXBOfMopipK",
        "colab": {
          "base_uri": "https://localhost:8080/"
        },
        "outputId": "ce62c944-8ea3-4c3e-dae8-9514c5515ace"
      },
      "outputs": [
        {
          "output_type": "stream",
          "name": "stdout",
          "text": [
            "{'ARMAN': {'description': 'ARMAN dataset holds 7,682 sentences with 250,015 '\n",
            "                          'sentences tagged over six different classes.\\n'\n",
            "                          '\\n'\n",
            "                          'Organization\\n'\n",
            "                          'Location\\n'\n",
            "                          'Facility\\n'\n",
            "                          'Event\\n'\n",
            "                          'Product\\n'\n",
            "                          'Person',\n",
            "           'filenames': ['train_fold1.txt',\n",
            "                         'train_fold2.txt',\n",
            "                         'train_fold3.txt',\n",
            "                         'test_fold1.txt',\n",
            "                         'test_fold2.txt',\n",
            "                         'test_fold3.txt'],\n",
            "           'name': 'ARMAN',\n",
            "           'size': {'test': 7680, 'train': 15361},\n",
            "           'splits': ['train', 'test'],\n",
            "           'task': 'NER',\n",
            "           'version': '1.0.0'},\n",
            " 'PersianNer': {'description': 'source: '\n",
            "                               'https://github.com/Text-Mining/Persian-NER',\n",
            "                'filenames': ['Persian-NER-part1.txt',\n",
            "                              'Persian-NER-part2.txt',\n",
            "                              'Persian-NER-part3.txt',\n",
            "                              'Persian-NER-part4.txt',\n",
            "                              'Persian-NER-part5.txt'],\n",
            "                'name': 'PersianNer',\n",
            "                'size': 976599,\n",
            "                'splits': [],\n",
            "                'task': 'NER',\n",
            "                'version': '1.0.0'},\n",
            " 'Peyma': {'description': 'source: '\n",
            "                          'http://nsurl.org/2019-2/tasks/task-7-named-entity-recognition-ner-for-farsi/',\n",
            "           'filenames': ['peyma/600K', 'peyma/300K'],\n",
            "           'name': 'Peyma',\n",
            "           'size': 10016,\n",
            "           'splits': [],\n",
            "           'task': 'NER',\n",
            "           'version': '1.0.0'},\n",
            " 'snappfoodSentiment': {'description': 'source: '\n",
            "                                       'https://huggingface.co/HooshvareLab/bert-fa-base-uncased-sentiment-snappfood',\n",
            "                        'filenames': ['snappfood/train.csv',\n",
            "                                      'snappfood/test.csv',\n",
            "                                      'snappfood/dev.csv'],\n",
            "                        'name': 'snappfoodSentiment',\n",
            "                        'size': {'dev': 6274, 'test': 6972, 'train': 56516},\n",
            "                        'splits': ['train', 'test', 'dev'],\n",
            "                        'task': 'Sentiment-Analysis',\n",
            "                        'version': '1.0.0'}}\n"
          ]
        }
      ],
      "source": [
        "pprint(get_all_datasets_info(tasks=['NER', 'Sentiment-Analysis']))"
      ]
    },
    {
      "cell_type": "code",
      "execution_count": 8,
      "metadata": {
        "id": "vrzrSXA8un9h",
        "colab": {
          "base_uri": "https://localhost:8080/"
        },
        "outputId": "931686f9-5c7b-47be-bc12-fdf3abf7b78c"
      },
      "outputs": [
        {
          "output_type": "stream",
          "name": "stdout",
          "text": [
            "{'description': 'The Persian Universal Dependency Treebank (PerUDT) is the '\n",
            "                'result of automatic coversion of Persian Dependency Treebank '\n",
            "                '(PerDT) with extensive manual corrections',\n",
            " 'filenames': ['fa_perdt-ud-train.conllu',\n",
            "               'fa_perdt-ud-dev.conllu',\n",
            "               'fa_perdt-ud-test.conllu'],\n",
            " 'name': 'PerUDT',\n",
            " 'size': {'dev': 1456, 'test': 1455, 'train': 26196},\n",
            " 'splits': ['train', 'test', 'dev'],\n",
            " 'task': 'Treebank',\n",
            " 'version': '1.0.0'}\n"
          ]
        }
      ],
      "source": [
        "pprint(get_dataset_info('PerUDT'))"
      ]
    },
    {
      "cell_type": "code",
      "execution_count": 9,
      "metadata": {
        "id": "ts30AhlMvCBs",
        "colab": {
          "base_uri": "https://localhost:8080/",
          "height": 634
        },
        "outputId": "740d7e53-c433-4360-aa2b-957a79677212"
      },
      "outputs": [
        {
          "output_type": "stream",
          "name": "stdout",
          "text": [
            "*** WikipediaCorpus dataset ****\n",
            "\n"
          ]
        },
        {
          "output_type": "error",
          "ename": "FileURLRetrievalError",
          "evalue": "Failed to retrieve file url:\n\n\tCannot retrieve the public link of the file. You may need to change\n\tthe permission to 'Anyone with the link', or have had many accesses.\n\tCheck FAQ in https://github.com/wkentaro/gdown?tab=readme-ov-file#faq.\n\nYou may still be able to access the file from the browser:\n\n\thttps://drive.google.com/uc?id=1jHje8Q07tQWEpt8cEpFR_TOuqjFs79Vb\n\nbut Gdown can't. Please check connections and permissions.",
          "traceback": [
            "\u001b[0;31m---------------------------------------------------------------------------\u001b[0m",
            "\u001b[0;31mFileURLRetrievalError\u001b[0m                     Traceback (most recent call last)",
            "\u001b[0;32m/usr/local/lib/python3.10/dist-packages/gdown/download.py\u001b[0m in \u001b[0;36mdownload\u001b[0;34m(url, output, quiet, proxy, speed, use_cookies, verify, id, fuzzy, resume, format, user_agent, log_messages)\u001b[0m\n\u001b[1;32m    252\u001b[0m         \u001b[0;32mtry\u001b[0m\u001b[0;34m:\u001b[0m\u001b[0;34m\u001b[0m\u001b[0;34m\u001b[0m\u001b[0m\n\u001b[0;32m--> 253\u001b[0;31m             \u001b[0murl\u001b[0m \u001b[0;34m=\u001b[0m \u001b[0mget_url_from_gdrive_confirmation\u001b[0m\u001b[0;34m(\u001b[0m\u001b[0mres\u001b[0m\u001b[0;34m.\u001b[0m\u001b[0mtext\u001b[0m\u001b[0;34m)\u001b[0m\u001b[0;34m\u001b[0m\u001b[0;34m\u001b[0m\u001b[0m\n\u001b[0m\u001b[1;32m    254\u001b[0m         \u001b[0;32mexcept\u001b[0m \u001b[0mFileURLRetrievalError\u001b[0m \u001b[0;32mas\u001b[0m \u001b[0me\u001b[0m\u001b[0;34m:\u001b[0m\u001b[0;34m\u001b[0m\u001b[0;34m\u001b[0m\u001b[0m\n",
            "\u001b[0;32m/usr/local/lib/python3.10/dist-packages/gdown/download.py\u001b[0m in \u001b[0;36mget_url_from_gdrive_confirmation\u001b[0;34m(contents)\u001b[0m\n\u001b[1;32m     53\u001b[0m     \u001b[0;32mif\u001b[0m \u001b[0;32mnot\u001b[0m \u001b[0murl\u001b[0m\u001b[0;34m:\u001b[0m\u001b[0;34m\u001b[0m\u001b[0;34m\u001b[0m\u001b[0m\n\u001b[0;32m---> 54\u001b[0;31m         raise FileURLRetrievalError(\n\u001b[0m\u001b[1;32m     55\u001b[0m             \u001b[0;34m\"Cannot retrieve the public link of the file. \"\u001b[0m\u001b[0;34m\u001b[0m\u001b[0;34m\u001b[0m\u001b[0m\n",
            "\u001b[0;31mFileURLRetrievalError\u001b[0m: Cannot retrieve the public link of the file. You may need to change the permission to 'Anyone with the link', or have had many accesses. Check FAQ in https://github.com/wkentaro/gdown?tab=readme-ov-file#faq.",
            "\nDuring handling of the above exception, another exception occurred:\n",
            "\u001b[0;31mFileURLRetrievalError\u001b[0m                     Traceback (most recent call last)",
            "\u001b[0;32m<ipython-input-9-4ddf10f68150>\u001b[0m in \u001b[0;36m<cell line: 3>\u001b[0;34m()\u001b[0m\n\u001b[1;32m      1\u001b[0m \u001b[0mprint\u001b[0m\u001b[0;34m(\u001b[0m\u001b[0;34m'*** WikipediaCorpus dataset ****'\u001b[0m\u001b[0;34m)\u001b[0m\u001b[0;34m\u001b[0m\u001b[0;34m\u001b[0m\u001b[0m\n\u001b[1;32m      2\u001b[0m \u001b[0mprint\u001b[0m\u001b[0;34m(\u001b[0m\u001b[0;34m)\u001b[0m\u001b[0;34m\u001b[0m\u001b[0;34m\u001b[0m\u001b[0m\n\u001b[0;32m----> 3\u001b[0;31m \u001b[0mwiki\u001b[0m \u001b[0;34m=\u001b[0m \u001b[0mWikipediaCorpus\u001b[0m\u001b[0;34m(\u001b[0m\u001b[0;34m)\u001b[0m\u001b[0;34m\u001b[0m\u001b[0;34m\u001b[0m\u001b[0m\n\u001b[0m\u001b[1;32m      4\u001b[0m \u001b[0mprint\u001b[0m\u001b[0;34m(\u001b[0m\u001b[0;34m'len data '\u001b[0m\u001b[0;34m,\u001b[0m \u001b[0mlen\u001b[0m\u001b[0;34m(\u001b[0m\u001b[0mwiki\u001b[0m\u001b[0;34m.\u001b[0m\u001b[0mdata\u001b[0m\u001b[0;34m)\u001b[0m\u001b[0;34m)\u001b[0m\u001b[0;34m\u001b[0m\u001b[0;34m\u001b[0m\u001b[0m\n\u001b[1;32m      5\u001b[0m \u001b[0mprint\u001b[0m\u001b[0;34m(\u001b[0m\u001b[0;34m)\u001b[0m\u001b[0;34m\u001b[0m\u001b[0;34m\u001b[0m\u001b[0m\n",
            "\u001b[0;32m/usr/local/lib/python3.10/dist-packages/dadmatools/datasets/datasets/Wikipedia/wikipedia.py\u001b[0m in \u001b[0;36mWikipediaCorpus\u001b[0;34m(dest_dir)\u001b[0m\n\u001b[1;32m     21\u001b[0m     \u001b[0;32mif\u001b[0m \u001b[0;32mnot\u001b[0m \u001b[0mis_exist_dataset\u001b[0m\u001b[0;34m(\u001b[0m\u001b[0mDATASET_INFO\u001b[0m\u001b[0;34m,\u001b[0m \u001b[0mdest_dir\u001b[0m\u001b[0;34m)\u001b[0m\u001b[0;34m:\u001b[0m\u001b[0;34m\u001b[0m\u001b[0;34m\u001b[0m\u001b[0m\n\u001b[1;32m     22\u001b[0m         \u001b[0mdownloaded_file\u001b[0m \u001b[0;34m=\u001b[0m \u001b[0mos\u001b[0m\u001b[0;34m.\u001b[0m\u001b[0mpath\u001b[0m\u001b[0;34m.\u001b[0m\u001b[0mjoin\u001b[0m\u001b[0;34m(\u001b[0m\u001b[0mdest_dir\u001b[0m\u001b[0;34m,\u001b[0m \u001b[0;34m'wikipedia.tar.xz'\u001b[0m\u001b[0;34m)\u001b[0m\u001b[0;34m\u001b[0m\u001b[0;34m\u001b[0m\u001b[0m\n\u001b[0;32m---> 23\u001b[0;31m         \u001b[0mdownload_dataset\u001b[0m\u001b[0;34m(\u001b[0m\u001b[0mURL\u001b[0m\u001b[0;34m,\u001b[0m \u001b[0mdest_dir\u001b[0m\u001b[0;34m,\u001b[0m \u001b[0mfilename\u001b[0m\u001b[0;34m=\u001b[0m\u001b[0mdownloaded_file\u001b[0m\u001b[0;34m)\u001b[0m\u001b[0;34m\u001b[0m\u001b[0;34m\u001b[0m\u001b[0m\n\u001b[0m\u001b[1;32m     24\u001b[0m         \u001b[0mdest_dir\u001b[0m \u001b[0;34m=\u001b[0m \u001b[0munzip_dataset\u001b[0m\u001b[0;34m(\u001b[0m\u001b[0mdownloaded_file\u001b[0m\u001b[0;34m,\u001b[0m \u001b[0mdest_dir\u001b[0m\u001b[0;34m,\u001b[0m \u001b[0mzip_format\u001b[0m\u001b[0;34m=\u001b[0m\u001b[0;34m'xz'\u001b[0m\u001b[0;34m)\u001b[0m\u001b[0;34m\u001b[0m\u001b[0;34m\u001b[0m\u001b[0m\n\u001b[1;32m     25\u001b[0m     \u001b[0minfo\u001b[0m \u001b[0;34m=\u001b[0m \u001b[0mDatasetInfo\u001b[0m\u001b[0;34m(\u001b[0m\u001b[0minfo_addr\u001b[0m\u001b[0;34m=\u001b[0m\u001b[0minfo_addr\u001b[0m\u001b[0;34m)\u001b[0m\u001b[0;34m\u001b[0m\u001b[0;34m\u001b[0m\u001b[0m\n",
            "\u001b[0;32m/usr/local/lib/python3.10/dist-packages/dadmatools/datasets/dataset_utils.py\u001b[0m in \u001b[0;36mdownload_dataset\u001b[0;34m(url, dest_dir, filename)\u001b[0m\n\u001b[1;32m     71\u001b[0m         \u001b[0;31m# print(dest_dir, filename)\u001b[0m\u001b[0;34m\u001b[0m\u001b[0;34m\u001b[0m\u001b[0m\n\u001b[1;32m     72\u001b[0m         \u001b[0;31m# dest_dir = os.path.join(dest_dir,'peyma.zip')\u001b[0m\u001b[0;34m\u001b[0m\u001b[0;34m\u001b[0m\u001b[0m\n\u001b[0;32m---> 73\u001b[0;31m         \u001b[0;32mreturn\u001b[0m \u001b[0mgdown\u001b[0m\u001b[0;34m.\u001b[0m\u001b[0mdownload\u001b[0m\u001b[0;34m(\u001b[0m\u001b[0murl\u001b[0m\u001b[0;34m,\u001b[0m \u001b[0mquiet\u001b[0m\u001b[0;34m=\u001b[0m\u001b[0;32mFalse\u001b[0m\u001b[0;34m,\u001b[0m \u001b[0moutput\u001b[0m\u001b[0;34m=\u001b[0m\u001b[0mfilename\u001b[0m\u001b[0;34m)\u001b[0m\u001b[0;34m\u001b[0m\u001b[0;34m\u001b[0m\u001b[0m\n\u001b[0m\u001b[1;32m     74\u001b[0m     \u001b[0;32mtry\u001b[0m\u001b[0;34m:\u001b[0m\u001b[0;34m\u001b[0m\u001b[0;34m\u001b[0m\u001b[0m\n\u001b[1;32m     75\u001b[0m         \u001b[0mfilesize\u001b[0m \u001b[0;34m=\u001b[0m \u001b[0mint\u001b[0m\u001b[0;34m(\u001b[0m\u001b[0mrequests\u001b[0m\u001b[0;34m.\u001b[0m\u001b[0mhead\u001b[0m\u001b[0;34m(\u001b[0m\u001b[0murl\u001b[0m\u001b[0;34m)\u001b[0m\u001b[0;34m.\u001b[0m\u001b[0mheaders\u001b[0m\u001b[0;34m[\u001b[0m\u001b[0;34m\"Content-Length\"\u001b[0m\u001b[0;34m]\u001b[0m\u001b[0;34m)\u001b[0m\u001b[0;34m\u001b[0m\u001b[0;34m\u001b[0m\u001b[0m\n",
            "\u001b[0;32m/usr/local/lib/python3.10/dist-packages/gdown/download.py\u001b[0m in \u001b[0;36mdownload\u001b[0;34m(url, output, quiet, proxy, speed, use_cookies, verify, id, fuzzy, resume, format, user_agent, log_messages)\u001b[0m\n\u001b[1;32m    262\u001b[0m                 \u001b[0murl_origin\u001b[0m\u001b[0;34m,\u001b[0m\u001b[0;34m\u001b[0m\u001b[0;34m\u001b[0m\u001b[0m\n\u001b[1;32m    263\u001b[0m             )\n\u001b[0;32m--> 264\u001b[0;31m             \u001b[0;32mraise\u001b[0m \u001b[0mFileURLRetrievalError\u001b[0m\u001b[0;34m(\u001b[0m\u001b[0mmessage\u001b[0m\u001b[0;34m)\u001b[0m\u001b[0;34m\u001b[0m\u001b[0;34m\u001b[0m\u001b[0m\n\u001b[0m\u001b[1;32m    265\u001b[0m \u001b[0;34m\u001b[0m\u001b[0m\n\u001b[1;32m    266\u001b[0m     \u001b[0mfilename_from_url\u001b[0m \u001b[0;34m=\u001b[0m \u001b[0;32mNone\u001b[0m\u001b[0;34m\u001b[0m\u001b[0;34m\u001b[0m\u001b[0m\n",
            "\u001b[0;31mFileURLRetrievalError\u001b[0m: Failed to retrieve file url:\n\n\tCannot retrieve the public link of the file. You may need to change\n\tthe permission to 'Anyone with the link', or have had many accesses.\n\tCheck FAQ in https://github.com/wkentaro/gdown?tab=readme-ov-file#faq.\n\nYou may still be able to access the file from the browser:\n\n\thttps://drive.google.com/uc?id=1jHje8Q07tQWEpt8cEpFR_TOuqjFs79Vb\n\nbut Gdown can't. Please check connections and permissions."
          ]
        }
      ],
      "source": [
        "print('*** WikipediaCorpus dataset ****')\n",
        "print()\n",
        "wiki = WikipediaCorpus()\n",
        "print('len data ', len(wiki.data))\n",
        "print()\n",
        "print('sample: ', next(wiki.data))\n",
        "print()\n",
        "print('****** dataset details:********\\n ')\n",
        "print(wiki.info)"
      ]
    },
    {
      "cell_type": "code",
      "execution_count": 10,
      "metadata": {
        "id": "OloJRC5LvDtq",
        "colab": {
          "base_uri": "https://localhost:8080/"
        },
        "outputId": "31b26944-3781-40d8-e7a9-4fa8f4b46214"
      },
      "outputs": [
        {
          "output_type": "stream",
          "name": "stdout",
          "text": [
            "ArmanPersoNERCorpus.zip: 100%|██████████| 1.84M/1.84M [00:00<00:00, 8.70MB/s]\n",
            "**** Arman dataset **** \n",
            "splits:  ['train', 'test']\n",
            "15361\n",
            "[{'token': 'به', 'tag': 'O'}, {'token': 'عنوان', 'tag': 'O'}, {'token': 'مثال', 'tag': 'O'}, {'token': 'وقتی', 'tag': 'O'}, {'token': 'نشریات', 'tag': 'O'}, {'token': 'مدافع', 'tag': 'O'}, {'token': 'اصول', 'tag': 'O'}, {'token': 'و', 'tag': 'O'}, {'token': 'ارزشها', 'tag': 'O'}, {'token': 'و', 'tag': 'O'}, {'token': 'منادی', 'tag': 'O'}, {'token': 'انقلاب', 'tag': 'O'}, {'token': 'و', 'tag': 'O'}, {'token': 'اسلام', 'tag': 'O'}, {'token': 'در', 'tag': 'O'}, {'token': 'بالاترین', 'tag': 'O'}, {'token': 'درجه', 'tag': 'O'}, {'token': '،', 'tag': 'O'}, {'token': 'اولین', 'tag': 'O'}, {'token': 'و', 'tag': 'O'}, {'token': 'درشت\\u200cترین', 'tag': 'O'}, {'token': 'تیتر', 'tag': 'O'}, {'token': 'نشریه', 'tag': 'O'}, {'token': 'خود', 'tag': 'O'}, {'token': 'را', 'tag': 'O'}, {'token': 'در', 'tag': 'O'}, {'token': 'صدر', 'tag': 'O'}, {'token': 'صفحه', 'tag': 'O'}, {'token': 'نخستین', 'tag': 'O'}, {'token': '،', 'tag': 'O'}, {'token': 'به', 'tag': 'O'}, {'token': 'تکذیب', 'tag': 'O'}, {'token': 'اظهارات', 'tag': 'O'}, {'token': 'و', 'tag': 'O'}, {'token': 'نظریات', 'tag': 'O'}, {'token': 'مشاور', 'tag': 'O'}, {'token': 'رئیس\\u200cجمهور', 'tag': 'O'}, {'token': 'با', 'tag': 'O'}, {'token': 'همین', 'tag': 'O'}, {'token': 'ترکیب', 'tag': 'O'}, {'token': 'عبارتی', 'tag': 'O'}, {'token': 'و', 'tag': 'O'}, {'token': 'البته', 'tag': 'O'}, {'token': 'از', 'tag': 'O'}, {'token': 'قول', 'tag': 'O'}, {'token': 'دیگران', 'tag': 'O'}, {'token': 'اختصاص', 'tag': 'O'}, {'token': 'می\\u200cدهند', 'tag': 'O'}, {'token': '،', 'tag': 'O'}, {'token': 'آیا', 'tag': 'O'}, {'token': 'در', 'tag': 'O'}, {'token': 'موارد', 'tag': 'O'}, {'token': 'مشابه', 'tag': 'O'}, {'token': 'نیز', 'tag': 'O'}, {'token': 'هر', 'tag': 'O'}, {'token': 'گاه', 'tag': 'O'}, {'token': 'خبر', 'tag': 'O'}, {'token': 'تکذیب', 'tag': 'O'}, {'token': 'متوجه', 'tag': 'O'}, {'token': 'و', 'tag': 'O'}, {'token': 'معطوف', 'tag': 'O'}, {'token': 'به', 'tag': 'O'}, {'token': 'شخصی', 'tag': 'O'}, {'token': 'باشد', 'tag': 'O'}, {'token': 'كه', 'tag': 'O'}, {'token': 'در', 'tag': 'O'}, {'token': 'زمره', 'tag': 'O'}, {'token': 'مشاوران', 'tag': 'O'}, {'token': 'يك', 'tag': 'O'}, {'token': 'مقام', 'tag': 'O'}, {'token': 'بلندمرتبه\\u200cی', 'tag': 'O'}, {'token': 'دیگر', 'tag': 'O'}, {'token': 'است', 'tag': 'O'}, {'token': '،', 'tag': 'O'}, {'token': 'خبر', 'tag': 'O'}, {'token': 'را', 'tag': 'O'}, {'token': 'عینا', 'tag': 'O'}, {'token': 'به', 'tag': 'O'}, {'token': 'همین', 'tag': 'O'}, {'token': 'درشتی', 'tag': 'O'}, {'token': 'و', 'tag': 'O'}, {'token': 'با', 'tag': 'O'}, {'token': 'همین', 'tag': 'O'}, {'token': 'ترکیب', 'tag': 'O'}, {'token': 'عبارتی', 'tag': 'O'}, {'token': 'در', 'tag': 'O'}, {'token': 'صدر', 'tag': 'O'}, {'token': 'صفحه', 'tag': 'O'}, {'token': 'نخست', 'tag': 'O'}, {'token': 'به', 'tag': 'O'}, {'token': 'چاپ', 'tag': 'O'}, {'token': 'می\\u200cرساند', 'tag': 'O'}, {'token': 'و', 'tag': 'O'}, {'token': 'در', 'tag': 'O'}, {'token': 'آن', 'tag': 'O'}, {'token': 'مورد', 'tag': 'O'}, {'token': 'هم', 'tag': 'O'}, {'token': 'به', 'tag': 'O'}, {'token': 'جای', 'tag': 'O'}, {'token': 'ذکر', 'tag': 'O'}, {'token': 'نام', 'tag': 'O'}, {'token': 'يا', 'tag': 'O'}, {'token': 'عضویت', 'tag': 'O'}, {'token': 'آن', 'tag': 'O'}, {'token': 'شخص', 'tag': 'O'}, {'token': 'در', 'tag': 'O'}, {'token': 'گروه', 'tag': 'O'}, {'token': 'و', 'tag': 'O'}, {'token': 'کمیته\\u200cی', 'tag': 'O'}, {'token': 'خاص', 'tag': 'O'}, {'token': 'صرفا', 'tag': 'O'}, {'token': 'بر', 'tag': 'O'}, {'token': 'روی', 'tag': 'O'}, {'token': 'عنوان', 'tag': 'O'}, {'token': 'مشاور', 'tag': 'O'}, {'token': 'فلان', 'tag': 'O'}, {'token': 'مسئول', 'tag': 'O'}, {'token': 'بلندمرتبه', 'tag': 'O'}, {'token': 'تأکید', 'tag': 'O'}, {'token': 'می\\u200cکنند', 'tag': 'O'}, {'token': '؟', 'tag': 'O'}, {'token': 'اگر', 'tag': 'O'}, {'token': 'نشریه', 'tag': 'O'}, {'token': 'دیگری', 'tag': 'O'}, {'token': 'چنین', 'tag': 'O'}, {'token': 'کند', 'tag': 'O'}, {'token': '،', 'tag': 'O'}, {'token': 'شدیدا', 'tag': 'O'}, {'token': 'مورد', 'tag': 'O'}, {'token': 'انتقاد', 'tag': 'O'}, {'token': 'آنان', 'tag': 'O'}, {'token': 'قرار', 'tag': 'O'}, {'token': 'نمی\\u200cگیرد', 'tag': 'O'}, {'token': 'كه', 'tag': 'O'}, {'token': 'صورت', 'tag': 'O'}, {'token': 'خبر', 'tag': 'O'}, {'token': 'را', 'tag': 'O'}, {'token': 'بهانه', 'tag': 'O'}, {'token': 'کرده', 'tag': 'O'}, {'token': 'و', 'tag': 'O'}, {'token': 'موضوع', 'tag': 'O'}, {'token': 'دیگری', 'tag': 'O'}, {'token': 'را', 'tag': 'O'}, {'token': 'هدف', 'tag': 'O'}, {'token': 'قرار', 'tag': 'O'}, {'token': 'داده', 'tag': 'O'}, {'token': 'است', 'tag': 'O'}, {'token': '؟', 'tag': 'O'}, {'token': 'بااین\\u200cهمه', 'tag': 'O'}, {'token': '،', 'tag': 'O'}, {'token': 'بازهم', 'tag': 'O'}, {'token': 'از', 'tag': 'O'}, {'token': 'قضاوت', 'tag': 'O'}, {'token': 'قطعی', 'tag': 'O'}, {'token': 'پرهیز', 'tag': 'O'}, {'token': 'کرده', 'tag': 'O'}, {'token': '،', 'tag': 'O'}, {'token': 'می\\u200cگوئیم', 'tag': 'O'}, {'token': 'فقط', 'tag': 'O'}, {'token': 'نتیجه', 'tag': 'O'}, {'token': 'مقایسه', 'tag': 'O'}, {'token': 'و', 'tag': 'O'}, {'token': 'تطبیق', 'tag': 'O'}, {'token': 'در', 'tag': 'O'}, {'token': 'يك', 'tag': 'O'}, {'token': 'وضعیت', 'tag': 'O'}, {'token': 'جامع\\u200cالاطراف', 'tag': 'O'}, {'token': 'نشان', 'tag': 'O'}, {'token': 'خواهد', 'tag': 'O'}, {'token': 'داد', 'tag': 'O'}, {'token': 'كه', 'tag': 'O'}, {'token': 'رسانه\\u200cهای', 'tag': 'O'}, {'token': 'جبهه\\u200cی', 'tag': 'O'}, {'token': 'منتقد', 'tag': 'O'}, {'token': 'و', 'tag': 'O'}, {'token': 'مخالف', 'tag': 'O'}, {'token': 'رئیس\\u200cجمهور', 'tag': 'O'}, {'token': 'و', 'tag': 'O'}, {'token': 'دولت', 'tag': 'O'}, {'token': 'در', 'tag': 'O'}, {'token': 'مقام', 'tag': 'O'}, {'token': 'نقادی', 'tag': 'O'}, {'token': 'واقعا', 'tag': 'O'}, {'token': 'یکسان', 'tag': 'O'}, {'token': 'و', 'tag': 'O'}, {'token': 'بدون', 'tag': 'O'}, {'token': 'تبعیض', 'tag': 'O'}, {'token': 'عمل', 'tag': 'O'}, {'token': 'کرده\\u200cاند', 'tag': 'O'}, {'token': 'يا', 'tag': 'O'}, {'token': 'خدای\\u200cناکرده', 'tag': 'O'}, {'token': 'ولو', 'tag': 'O'}, {'token': 'در', 'tag': 'O'}, {'token': 'عالم', 'tag': 'O'}, {'token': 'فرض', 'tag': 'O'}, {'token': 'به', 'tag': 'O'}, {'token': 'عنوان', 'tag': 'O'}, {'token': 'مثال', 'tag': 'O'}, {'token': 'غیر', 'tag': 'O'}, {'token': 'دولت', 'tag': 'O'}, {'token': 'و', 'tag': 'O'}, {'token': 'غیر', 'tag': 'O'}, {'token': 'رئیس\\u200cجمهور', 'tag': 'O'}, {'token': 'را', 'tag': 'O'}, {'token': 'با', 'tag': 'O'}, {'token': 'نوازشهای', 'tag': 'O'}, {'token': 'لسانی', 'tag': 'O'}, {'token': 'و', 'tag': 'O'}, {'token': 'قلمی', 'tag': 'O'}, {'token': 'نقد', 'tag': 'O'}, {'token': 'کرده\\u200cاند', 'tag': 'O'}, {'token': 'اما', 'tag': 'O'}, {'token': 'دولت', 'tag': 'O'}, {'token': 'و', 'tag': 'O'}, {'token': 'رئیس\\u200cجمهور', 'tag': 'O'}, {'token': 'را', 'tag': 'O'}, {'token': 'با', 'tag': 'O'}, {'token': 'خمپاره\\u200cهای', 'tag': 'O'}, {'token': 'کلامی', 'tag': 'O'}, {'token': 'و', 'tag': 'O'}, {'token': 'نوشتاری', 'tag': 'O'}, {'token': 'هدف', 'tag': 'O'}, {'token': 'نقادیهای', 'tag': 'O'}, {'token': 'موسوم', 'tag': 'O'}, {'token': 'به', 'tag': 'O'}, {'token': 'نقد', 'tag': 'O'}, {'token': 'خیرخواهانه', 'tag': 'O'}, {'token': 'قرار', 'tag': 'O'}, {'token': 'داده\\u200cاند', 'tag': 'O'}, {'token': '.', 'tag': 'O'}]\n"
          ]
        }
      ],
      "source": [
        "arman = ARMAN()\n",
        "print('**** Arman dataset **** ')\n",
        "print('splits: ', arman.info.splits)\n",
        "print(len(arman.train))\n",
        "print(next(arman.test))"
      ]
    },
    {
      "cell_type": "markdown",
      "metadata": {
        "id": "YjjaqlIbqdV2"
      },
      "source": [
        "# Using Pre-Trained Persian Word Embeddings"
      ]
    },
    {
      "cell_type": "code",
      "execution_count": 11,
      "metadata": {
        "id": "qxOYXRjxwRMw"
      },
      "outputs": [],
      "source": [
        "from dadmatools.embeddings import get_embedding, get_all_embeddings_info, get_embedding_info"
      ]
    },
    {
      "cell_type": "code",
      "execution_count": 12,
      "metadata": {
        "id": "K2pxKNmQvGG5",
        "colab": {
          "base_uri": "https://localhost:8080/"
        },
        "outputId": "ddc30135-bef9-4039-fa84-ae7534a5cb56"
      },
      "outputs": [
        {
          "output_type": "stream",
          "name": "stdout",
          "text": [
            "{'fasttext-commoncrawl-bin': {'algorithm': 'fasttext',\n",
            "                              'corpus': 'CommonCrawl',\n",
            "                              'desc': '',\n",
            "                              'dim': 300,\n",
            "                              'filename': 'cc.fa.300.bin',\n",
            "                              'format': 'bin',\n",
            "                              'url': 'https://dl.fbaipublicfiles.com/fasttext/vectors-crawl/cc.fa.300.bin.gz'},\n",
            " 'fasttext-commoncrawl-vec': {'algorithm': 'fasttext',\n",
            "                              'corpus': 'CommonCrawl',\n",
            "                              'desc': '',\n",
            "                              'dim': 300,\n",
            "                              'filename': 'cc.fa.300.vec',\n",
            "                              'format': 'vec',\n",
            "                              'url': 'https://dl.fbaipublicfiles.com/fasttext/vectors-crawl/cc.fa.300.vec.gz'},\n",
            " 'glove-wiki': {'algorithm': 'glove',\n",
            "                'corpus': 'wikipedia',\n",
            "                'desc': 'source: https://github.com/Text-Mining',\n",
            "                'dim': 50,\n",
            "                'filename': 'vectors.txt',\n",
            "                'format': 'txt',\n",
            "                'url': 'https://raw.githubusercontent.com/Text-Mining/Persian-Wikipedia-Corpus/master/models/glove/vectors.zip'},\n",
            " 'word2vec-conll': {'algorithm': 'word2vec',\n",
            "                    'corpus': 'Persian CoNLL17 corpus',\n",
            "                    'desc': 'Word2Vec Continuous Skipgram',\n",
            "                    'dim': 100,\n",
            "                    'filename': 'model.bin',\n",
            "                    'format': 'bin',\n",
            "                    'url': 'http://vectors.nlpl.eu/repository/20/61.zip'}}\n"
          ]
        }
      ],
      "source": [
        "pprint(get_all_embeddings_info())"
      ]
    },
    {
      "cell_type": "code",
      "execution_count": null,
      "metadata": {
        "id": "QJK2BIQyuoY_",
        "colab": {
          "base_uri": "https://localhost:8080/"
        },
        "outputId": "8b7a258a-9c32-447b-b4ea-b486cec6ded3"
      },
      "outputs": [
        {
          "output_type": "stream",
          "name": "stdout",
          "text": [
            "{'algorithm': 'glove',\n",
            " 'corpus': 'wikipedia',\n",
            " 'desc': 'source: https://github.com/Text-Mining',\n",
            " 'dim': 50,\n",
            " 'filename': 'vectors.txt',\n",
            " 'format': 'txt',\n",
            " 'url': 'https://raw.githubusercontent.com/Text-Mining/Persian-Wikipedia-Corpus/master/models/glove/vectors.zip'}\n"
          ]
        }
      ],
      "source": [
        "pprint(get_embedding_info('glove-wiki'))"
      ]
    },
    {
      "cell_type": "code",
      "execution_count": 13,
      "metadata": {
        "id": "sOY5kj6EvJWm",
        "colab": {
          "base_uri": "https://localhost:8080/"
        },
        "outputId": "9736487c-81fe-4521-8ee2-404ca704a8e2"
      },
      "outputs": [
        {
          "output_type": "stream",
          "name": "stdout",
          "text": [
            "vectors.zip: 100%|██████████| 45.9M/45.9M [00:01<00:00, 48.0MB/s]\n",
            "[-0.308614 -0.168945 -2.576352  0.877447 -0.348502  0.582602  0.602845\n",
            "  0.471903  0.533526  0.906185  0.907475 -0.167968 -0.095735 -0.475923\n",
            "  0.276284  0.010084 -0.926263 -1.124971 -0.443414 -0.447227  0.259192\n",
            "  0.078348  0.916888 -0.061847 -0.853357  0.996823 -0.26386   0.621702\n",
            "  0.768682  0.250663  0.358242  0.571274 -0.321239  0.012563 -0.567481\n",
            "  0.560345 -0.206234 -0.187835 -0.665903  0.234979 -0.442619  0.164727\n",
            " -0.262    -0.172979 -0.393394 -0.474647  0.480312  1.106502  0.767303\n",
            "  0.046918]\n"
          ]
        }
      ],
      "source": [
        "embedding = get_embedding('glove-wiki')\n",
        "print(embedding['ابزار'])"
      ]
    },
    {
      "cell_type": "code",
      "execution_count": 14,
      "metadata": {
        "id": "LYQkhBotvLpP",
        "colab": {
          "base_uri": "https://localhost:8080/"
        },
        "outputId": "ce185254-d6d7-43a2-e684-dd31d4a32f1f"
      },
      "outputs": [
        {
          "output_type": "stream",
          "name": "stdout",
          "text": [
            "[ 8.2652763e-02  3.8418624e-01 -1.8762367e+00 -8.6866260e-02\n",
            "  3.6461627e-01  7.5215775e-01  3.6994025e-01  4.9959701e-01\n",
            "  1.2264743e-02  3.3335799e-01  5.5867076e-01  3.5873100e-01\n",
            "  4.2627126e-01 -8.8378501e-01 -1.2670399e-01 -7.0495725e-01\n",
            " -6.2538046e-01 -5.5862820e-01 -3.2012752e-01 -1.8887758e-02\n",
            "  2.8124401e-01  1.6167176e-01  5.9974694e-01  3.4806246e-01\n",
            " -1.4647543e-03  7.3103124e-01  1.9454075e-01  3.4274727e-01\n",
            "  5.1055348e-01  5.3316355e-01  5.8826029e-01  1.2634257e+00\n",
            " -1.2206910e+00 -4.0682977e-01 -2.4609923e-01  6.5093577e-01\n",
            " -2.5686526e-01 -4.0690476e-01  4.8100728e-01  4.8069999e-02\n",
            " -6.2497050e-01 -2.3815494e-02  2.1647224e-01 -2.1010575e-01\n",
            " -8.5227352e-01 -4.0755576e-01  8.1856251e-02  1.1975710e+00\n",
            "  5.1946604e-01  5.7960773e-01]\n"
          ]
        }
      ],
      "source": [
        "print(embedding.embedding_text('ابزار پردازش متن فارسی'))"
      ]
    },
    {
      "cell_type": "code",
      "execution_count": 15,
      "metadata": {
        "id": "uMZKaHvuvNKM",
        "colab": {
          "base_uri": "https://localhost:8080/"
        },
        "outputId": "a6fb32d2-955d-45ad-e52b-e95a60efa16f"
      },
      "outputs": [
        {
          "output_type": "execute_result",
          "data": {
            "text/plain": [
              "0.77167135"
            ]
          },
          "metadata": {},
          "execution_count": 15
        }
      ],
      "source": [
        "embedding.similarity('کتاب', 'کتب')"
      ]
    },
    {
      "cell_type": "code",
      "execution_count": 16,
      "metadata": {
        "id": "Ajdjq61fvRML",
        "colab": {
          "base_uri": "https://localhost:8080/"
        },
        "outputId": "ccd0008d-5f97-4170-d22f-905dfb888f5d"
      },
      "outputs": [
        {
          "output_type": "execute_result",
          "data": {
            "text/plain": [
              "[('کتابی', 0.9353402256965637),\n",
              " ('کتاب\\u200cهای', 0.859483540058136),\n",
              " ('جلد', 0.8522471785545349),\n",
              " ('تالیف', 0.8399883508682251),\n",
              " ('نوشته', 0.8382429480552673),\n",
              " ('مقاله', 0.8335505127906799),\n",
              " ('نوشته\\u200cاست', 0.8273731470108032),\n",
              " ('شرح', 0.8273376822471619),\n",
              " ('ترجمه', 0.8256694078445435),\n",
              " ('می\\u200cنویسد', 0.8014416694641113)]"
            ]
          },
          "metadata": {},
          "execution_count": 16
        }
      ],
      "source": [
        "embedding.top_nearest('کتاب', 10)"
      ]
    }
  ],
  "metadata": {
    "colab": {
      "provenance": []
    },
    "kernelspec": {
      "display_name": "Python 3",
      "name": "python3"
    },
    "language_info": {
      "name": "python"
    },
    "widgets": {
      "application/vnd.jupyter.widget-state+json": {
        "9d2df59b99a2411db6af30c11d5a3fea": {
          "model_module": "@jupyter-widgets/controls",
          "model_name": "HBoxModel",
          "model_module_version": "1.5.0",
          "state": {
            "_dom_classes": [],
            "_model_module": "@jupyter-widgets/controls",
            "_model_module_version": "1.5.0",
            "_model_name": "HBoxModel",
            "_view_count": null,
            "_view_module": "@jupyter-widgets/controls",
            "_view_module_version": "1.5.0",
            "_view_name": "HBoxView",
            "box_style": "",
            "children": [
              "IPY_MODEL_9a3a6d0dcd0447b780c2d082decfb229",
              "IPY_MODEL_d7d796a26a834a10ba9324687897fcc7",
              "IPY_MODEL_491f09aee2c946c189f7b2c2db0a7cd1"
            ],
            "layout": "IPY_MODEL_a803ddcc72fc46b1aa4750bcbbf0b3cf"
          }
        },
        "9a3a6d0dcd0447b780c2d082decfb229": {
          "model_module": "@jupyter-widgets/controls",
          "model_name": "HTMLModel",
          "model_module_version": "1.5.0",
          "state": {
            "_dom_classes": [],
            "_model_module": "@jupyter-widgets/controls",
            "_model_module_version": "1.5.0",
            "_model_name": "HTMLModel",
            "_view_count": null,
            "_view_module": "@jupyter-widgets/controls",
            "_view_module_version": "1.5.0",
            "_view_name": "HTMLView",
            "description": "",
            "description_tooltip": null,
            "layout": "IPY_MODEL_f3e4a20bed384d9aae6f0ea6c49ccf06",
            "placeholder": "​",
            "style": "IPY_MODEL_c5e9b774480e40b4956fad3f7d610d52",
            "value": "config.json: 100%"
          }
        },
        "d7d796a26a834a10ba9324687897fcc7": {
          "model_module": "@jupyter-widgets/controls",
          "model_name": "FloatProgressModel",
          "model_module_version": "1.5.0",
          "state": {
            "_dom_classes": [],
            "_model_module": "@jupyter-widgets/controls",
            "_model_module_version": "1.5.0",
            "_model_name": "FloatProgressModel",
            "_view_count": null,
            "_view_module": "@jupyter-widgets/controls",
            "_view_module_version": "1.5.0",
            "_view_name": "ProgressView",
            "bar_style": "success",
            "description": "",
            "description_tooltip": null,
            "layout": "IPY_MODEL_01df936330af4333822fe68f6e259296",
            "max": 440,
            "min": 0,
            "orientation": "horizontal",
            "style": "IPY_MODEL_d21ed9eefdb24d099fa9cf8dde4b312a",
            "value": 440
          }
        },
        "491f09aee2c946c189f7b2c2db0a7cd1": {
          "model_module": "@jupyter-widgets/controls",
          "model_name": "HTMLModel",
          "model_module_version": "1.5.0",
          "state": {
            "_dom_classes": [],
            "_model_module": "@jupyter-widgets/controls",
            "_model_module_version": "1.5.0",
            "_model_name": "HTMLModel",
            "_view_count": null,
            "_view_module": "@jupyter-widgets/controls",
            "_view_module_version": "1.5.0",
            "_view_name": "HTMLView",
            "description": "",
            "description_tooltip": null,
            "layout": "IPY_MODEL_3afc340ef0594176a90cc100573ddc9a",
            "placeholder": "​",
            "style": "IPY_MODEL_e22876b10efa4970a290151bb4a5ab87",
            "value": " 440/440 [00:00&lt;00:00, 14.8kB/s]"
          }
        },
        "a803ddcc72fc46b1aa4750bcbbf0b3cf": {
          "model_module": "@jupyter-widgets/base",
          "model_name": "LayoutModel",
          "model_module_version": "1.2.0",
          "state": {
            "_model_module": "@jupyter-widgets/base",
            "_model_module_version": "1.2.0",
            "_model_name": "LayoutModel",
            "_view_count": null,
            "_view_module": "@jupyter-widgets/base",
            "_view_module_version": "1.2.0",
            "_view_name": "LayoutView",
            "align_content": null,
            "align_items": null,
            "align_self": null,
            "border": null,
            "bottom": null,
            "display": null,
            "flex": null,
            "flex_flow": null,
            "grid_area": null,
            "grid_auto_columns": null,
            "grid_auto_flow": null,
            "grid_auto_rows": null,
            "grid_column": null,
            "grid_gap": null,
            "grid_row": null,
            "grid_template_areas": null,
            "grid_template_columns": null,
            "grid_template_rows": null,
            "height": null,
            "justify_content": null,
            "justify_items": null,
            "left": null,
            "margin": null,
            "max_height": null,
            "max_width": null,
            "min_height": null,
            "min_width": null,
            "object_fit": null,
            "object_position": null,
            "order": null,
            "overflow": null,
            "overflow_x": null,
            "overflow_y": null,
            "padding": null,
            "right": null,
            "top": null,
            "visibility": null,
            "width": null
          }
        },
        "f3e4a20bed384d9aae6f0ea6c49ccf06": {
          "model_module": "@jupyter-widgets/base",
          "model_name": "LayoutModel",
          "model_module_version": "1.2.0",
          "state": {
            "_model_module": "@jupyter-widgets/base",
            "_model_module_version": "1.2.0",
            "_model_name": "LayoutModel",
            "_view_count": null,
            "_view_module": "@jupyter-widgets/base",
            "_view_module_version": "1.2.0",
            "_view_name": "LayoutView",
            "align_content": null,
            "align_items": null,
            "align_self": null,
            "border": null,
            "bottom": null,
            "display": null,
            "flex": null,
            "flex_flow": null,
            "grid_area": null,
            "grid_auto_columns": null,
            "grid_auto_flow": null,
            "grid_auto_rows": null,
            "grid_column": null,
            "grid_gap": null,
            "grid_row": null,
            "grid_template_areas": null,
            "grid_template_columns": null,
            "grid_template_rows": null,
            "height": null,
            "justify_content": null,
            "justify_items": null,
            "left": null,
            "margin": null,
            "max_height": null,
            "max_width": null,
            "min_height": null,
            "min_width": null,
            "object_fit": null,
            "object_position": null,
            "order": null,
            "overflow": null,
            "overflow_x": null,
            "overflow_y": null,
            "padding": null,
            "right": null,
            "top": null,
            "visibility": null,
            "width": null
          }
        },
        "c5e9b774480e40b4956fad3f7d610d52": {
          "model_module": "@jupyter-widgets/controls",
          "model_name": "DescriptionStyleModel",
          "model_module_version": "1.5.0",
          "state": {
            "_model_module": "@jupyter-widgets/controls",
            "_model_module_version": "1.5.0",
            "_model_name": "DescriptionStyleModel",
            "_view_count": null,
            "_view_module": "@jupyter-widgets/base",
            "_view_module_version": "1.2.0",
            "_view_name": "StyleView",
            "description_width": ""
          }
        },
        "01df936330af4333822fe68f6e259296": {
          "model_module": "@jupyter-widgets/base",
          "model_name": "LayoutModel",
          "model_module_version": "1.2.0",
          "state": {
            "_model_module": "@jupyter-widgets/base",
            "_model_module_version": "1.2.0",
            "_model_name": "LayoutModel",
            "_view_count": null,
            "_view_module": "@jupyter-widgets/base",
            "_view_module_version": "1.2.0",
            "_view_name": "LayoutView",
            "align_content": null,
            "align_items": null,
            "align_self": null,
            "border": null,
            "bottom": null,
            "display": null,
            "flex": null,
            "flex_flow": null,
            "grid_area": null,
            "grid_auto_columns": null,
            "grid_auto_flow": null,
            "grid_auto_rows": null,
            "grid_column": null,
            "grid_gap": null,
            "grid_row": null,
            "grid_template_areas": null,
            "grid_template_columns": null,
            "grid_template_rows": null,
            "height": null,
            "justify_content": null,
            "justify_items": null,
            "left": null,
            "margin": null,
            "max_height": null,
            "max_width": null,
            "min_height": null,
            "min_width": null,
            "object_fit": null,
            "object_position": null,
            "order": null,
            "overflow": null,
            "overflow_x": null,
            "overflow_y": null,
            "padding": null,
            "right": null,
            "top": null,
            "visibility": null,
            "width": null
          }
        },
        "d21ed9eefdb24d099fa9cf8dde4b312a": {
          "model_module": "@jupyter-widgets/controls",
          "model_name": "ProgressStyleModel",
          "model_module_version": "1.5.0",
          "state": {
            "_model_module": "@jupyter-widgets/controls",
            "_model_module_version": "1.5.0",
            "_model_name": "ProgressStyleModel",
            "_view_count": null,
            "_view_module": "@jupyter-widgets/base",
            "_view_module_version": "1.2.0",
            "_view_name": "StyleView",
            "bar_color": null,
            "description_width": ""
          }
        },
        "3afc340ef0594176a90cc100573ddc9a": {
          "model_module": "@jupyter-widgets/base",
          "model_name": "LayoutModel",
          "model_module_version": "1.2.0",
          "state": {
            "_model_module": "@jupyter-widgets/base",
            "_model_module_version": "1.2.0",
            "_model_name": "LayoutModel",
            "_view_count": null,
            "_view_module": "@jupyter-widgets/base",
            "_view_module_version": "1.2.0",
            "_view_name": "LayoutView",
            "align_content": null,
            "align_items": null,
            "align_self": null,
            "border": null,
            "bottom": null,
            "display": null,
            "flex": null,
            "flex_flow": null,
            "grid_area": null,
            "grid_auto_columns": null,
            "grid_auto_flow": null,
            "grid_auto_rows": null,
            "grid_column": null,
            "grid_gap": null,
            "grid_row": null,
            "grid_template_areas": null,
            "grid_template_columns": null,
            "grid_template_rows": null,
            "height": null,
            "justify_content": null,
            "justify_items": null,
            "left": null,
            "margin": null,
            "max_height": null,
            "max_width": null,
            "min_height": null,
            "min_width": null,
            "object_fit": null,
            "object_position": null,
            "order": null,
            "overflow": null,
            "overflow_x": null,
            "overflow_y": null,
            "padding": null,
            "right": null,
            "top": null,
            "visibility": null,
            "width": null
          }
        },
        "e22876b10efa4970a290151bb4a5ab87": {
          "model_module": "@jupyter-widgets/controls",
          "model_name": "DescriptionStyleModel",
          "model_module_version": "1.5.0",
          "state": {
            "_model_module": "@jupyter-widgets/controls",
            "_model_module_version": "1.5.0",
            "_model_name": "DescriptionStyleModel",
            "_view_count": null,
            "_view_module": "@jupyter-widgets/base",
            "_view_module_version": "1.2.0",
            "_view_name": "StyleView",
            "description_width": ""
          }
        },
        "32d8594e40c44ff385b4a398a0c08b71": {
          "model_module": "@jupyter-widgets/controls",
          "model_name": "HBoxModel",
          "model_module_version": "1.5.0",
          "state": {
            "_dom_classes": [],
            "_model_module": "@jupyter-widgets/controls",
            "_model_module_version": "1.5.0",
            "_model_name": "HBoxModel",
            "_view_count": null,
            "_view_module": "@jupyter-widgets/controls",
            "_view_module_version": "1.5.0",
            "_view_name": "HBoxView",
            "box_style": "",
            "children": [
              "IPY_MODEL_1290b520dd3548dc95f6bb31596c9c00",
              "IPY_MODEL_4683ba237b3e4a02a0c75bb2d8985036",
              "IPY_MODEL_d823e06d24084ebb8a3a6e6ce9bfbfa0"
            ],
            "layout": "IPY_MODEL_4642f09121ad4887b70d2fb0763fbad5"
          }
        },
        "1290b520dd3548dc95f6bb31596c9c00": {
          "model_module": "@jupyter-widgets/controls",
          "model_name": "HTMLModel",
          "model_module_version": "1.5.0",
          "state": {
            "_dom_classes": [],
            "_model_module": "@jupyter-widgets/controls",
            "_model_module_version": "1.5.0",
            "_model_name": "HTMLModel",
            "_view_count": null,
            "_view_module": "@jupyter-widgets/controls",
            "_view_module_version": "1.5.0",
            "_view_name": "HTMLView",
            "description": "",
            "description_tooltip": null,
            "layout": "IPY_MODEL_6a67c16b0efb4e85a15e60c6884841c4",
            "placeholder": "​",
            "style": "IPY_MODEL_5c9f81a606d24ae8ac8c2b34c91079df",
            "value": "state_dict_nevise.pt: 100%"
          }
        },
        "4683ba237b3e4a02a0c75bb2d8985036": {
          "model_module": "@jupyter-widgets/controls",
          "model_name": "FloatProgressModel",
          "model_module_version": "1.5.0",
          "state": {
            "_dom_classes": [],
            "_model_module": "@jupyter-widgets/controls",
            "_model_module_version": "1.5.0",
            "_model_name": "FloatProgressModel",
            "_view_count": null,
            "_view_module": "@jupyter-widgets/controls",
            "_view_module_version": "1.5.0",
            "_view_name": "ProgressView",
            "bar_style": "success",
            "description": "",
            "description_tooltip": null,
            "layout": "IPY_MODEL_bd9210e35498495ea750154eff33e441",
            "max": 959061229,
            "min": 0,
            "orientation": "horizontal",
            "style": "IPY_MODEL_6f14c7189b904d41b812d2aac200e71a",
            "value": 959061229
          }
        },
        "d823e06d24084ebb8a3a6e6ce9bfbfa0": {
          "model_module": "@jupyter-widgets/controls",
          "model_name": "HTMLModel",
          "model_module_version": "1.5.0",
          "state": {
            "_dom_classes": [],
            "_model_module": "@jupyter-widgets/controls",
            "_model_module_version": "1.5.0",
            "_model_name": "HTMLModel",
            "_view_count": null,
            "_view_module": "@jupyter-widgets/controls",
            "_view_module_version": "1.5.0",
            "_view_name": "HTMLView",
            "description": "",
            "description_tooltip": null,
            "layout": "IPY_MODEL_2fe60cfd436045acab445420c689681f",
            "placeholder": "​",
            "style": "IPY_MODEL_5d4750b3e41c41b3a875c5aaba5b1ddd",
            "value": " 959M/959M [00:14&lt;00:00, 89.1MB/s]"
          }
        },
        "4642f09121ad4887b70d2fb0763fbad5": {
          "model_module": "@jupyter-widgets/base",
          "model_name": "LayoutModel",
          "model_module_version": "1.2.0",
          "state": {
            "_model_module": "@jupyter-widgets/base",
            "_model_module_version": "1.2.0",
            "_model_name": "LayoutModel",
            "_view_count": null,
            "_view_module": "@jupyter-widgets/base",
            "_view_module_version": "1.2.0",
            "_view_name": "LayoutView",
            "align_content": null,
            "align_items": null,
            "align_self": null,
            "border": null,
            "bottom": null,
            "display": null,
            "flex": null,
            "flex_flow": null,
            "grid_area": null,
            "grid_auto_columns": null,
            "grid_auto_flow": null,
            "grid_auto_rows": null,
            "grid_column": null,
            "grid_gap": null,
            "grid_row": null,
            "grid_template_areas": null,
            "grid_template_columns": null,
            "grid_template_rows": null,
            "height": null,
            "justify_content": null,
            "justify_items": null,
            "left": null,
            "margin": null,
            "max_height": null,
            "max_width": null,
            "min_height": null,
            "min_width": null,
            "object_fit": null,
            "object_position": null,
            "order": null,
            "overflow": null,
            "overflow_x": null,
            "overflow_y": null,
            "padding": null,
            "right": null,
            "top": null,
            "visibility": null,
            "width": null
          }
        },
        "6a67c16b0efb4e85a15e60c6884841c4": {
          "model_module": "@jupyter-widgets/base",
          "model_name": "LayoutModel",
          "model_module_version": "1.2.0",
          "state": {
            "_model_module": "@jupyter-widgets/base",
            "_model_module_version": "1.2.0",
            "_model_name": "LayoutModel",
            "_view_count": null,
            "_view_module": "@jupyter-widgets/base",
            "_view_module_version": "1.2.0",
            "_view_name": "LayoutView",
            "align_content": null,
            "align_items": null,
            "align_self": null,
            "border": null,
            "bottom": null,
            "display": null,
            "flex": null,
            "flex_flow": null,
            "grid_area": null,
            "grid_auto_columns": null,
            "grid_auto_flow": null,
            "grid_auto_rows": null,
            "grid_column": null,
            "grid_gap": null,
            "grid_row": null,
            "grid_template_areas": null,
            "grid_template_columns": null,
            "grid_template_rows": null,
            "height": null,
            "justify_content": null,
            "justify_items": null,
            "left": null,
            "margin": null,
            "max_height": null,
            "max_width": null,
            "min_height": null,
            "min_width": null,
            "object_fit": null,
            "object_position": null,
            "order": null,
            "overflow": null,
            "overflow_x": null,
            "overflow_y": null,
            "padding": null,
            "right": null,
            "top": null,
            "visibility": null,
            "width": null
          }
        },
        "5c9f81a606d24ae8ac8c2b34c91079df": {
          "model_module": "@jupyter-widgets/controls",
          "model_name": "DescriptionStyleModel",
          "model_module_version": "1.5.0",
          "state": {
            "_model_module": "@jupyter-widgets/controls",
            "_model_module_version": "1.5.0",
            "_model_name": "DescriptionStyleModel",
            "_view_count": null,
            "_view_module": "@jupyter-widgets/base",
            "_view_module_version": "1.2.0",
            "_view_name": "StyleView",
            "description_width": ""
          }
        },
        "bd9210e35498495ea750154eff33e441": {
          "model_module": "@jupyter-widgets/base",
          "model_name": "LayoutModel",
          "model_module_version": "1.2.0",
          "state": {
            "_model_module": "@jupyter-widgets/base",
            "_model_module_version": "1.2.0",
            "_model_name": "LayoutModel",
            "_view_count": null,
            "_view_module": "@jupyter-widgets/base",
            "_view_module_version": "1.2.0",
            "_view_name": "LayoutView",
            "align_content": null,
            "align_items": null,
            "align_self": null,
            "border": null,
            "bottom": null,
            "display": null,
            "flex": null,
            "flex_flow": null,
            "grid_area": null,
            "grid_auto_columns": null,
            "grid_auto_flow": null,
            "grid_auto_rows": null,
            "grid_column": null,
            "grid_gap": null,
            "grid_row": null,
            "grid_template_areas": null,
            "grid_template_columns": null,
            "grid_template_rows": null,
            "height": null,
            "justify_content": null,
            "justify_items": null,
            "left": null,
            "margin": null,
            "max_height": null,
            "max_width": null,
            "min_height": null,
            "min_width": null,
            "object_fit": null,
            "object_position": null,
            "order": null,
            "overflow": null,
            "overflow_x": null,
            "overflow_y": null,
            "padding": null,
            "right": null,
            "top": null,
            "visibility": null,
            "width": null
          }
        },
        "6f14c7189b904d41b812d2aac200e71a": {
          "model_module": "@jupyter-widgets/controls",
          "model_name": "ProgressStyleModel",
          "model_module_version": "1.5.0",
          "state": {
            "_model_module": "@jupyter-widgets/controls",
            "_model_module_version": "1.5.0",
            "_model_name": "ProgressStyleModel",
            "_view_count": null,
            "_view_module": "@jupyter-widgets/base",
            "_view_module_version": "1.2.0",
            "_view_name": "StyleView",
            "bar_color": null,
            "description_width": ""
          }
        },
        "2fe60cfd436045acab445420c689681f": {
          "model_module": "@jupyter-widgets/base",
          "model_name": "LayoutModel",
          "model_module_version": "1.2.0",
          "state": {
            "_model_module": "@jupyter-widgets/base",
            "_model_module_version": "1.2.0",
            "_model_name": "LayoutModel",
            "_view_count": null,
            "_view_module": "@jupyter-widgets/base",
            "_view_module_version": "1.2.0",
            "_view_name": "LayoutView",
            "align_content": null,
            "align_items": null,
            "align_self": null,
            "border": null,
            "bottom": null,
            "display": null,
            "flex": null,
            "flex_flow": null,
            "grid_area": null,
            "grid_auto_columns": null,
            "grid_auto_flow": null,
            "grid_auto_rows": null,
            "grid_column": null,
            "grid_gap": null,
            "grid_row": null,
            "grid_template_areas": null,
            "grid_template_columns": null,
            "grid_template_rows": null,
            "height": null,
            "justify_content": null,
            "justify_items": null,
            "left": null,
            "margin": null,
            "max_height": null,
            "max_width": null,
            "min_height": null,
            "min_width": null,
            "object_fit": null,
            "object_position": null,
            "order": null,
            "overflow": null,
            "overflow_x": null,
            "overflow_y": null,
            "padding": null,
            "right": null,
            "top": null,
            "visibility": null,
            "width": null
          }
        },
        "5d4750b3e41c41b3a875c5aaba5b1ddd": {
          "model_module": "@jupyter-widgets/controls",
          "model_name": "DescriptionStyleModel",
          "model_module_version": "1.5.0",
          "state": {
            "_model_module": "@jupyter-widgets/controls",
            "_model_module_version": "1.5.0",
            "_model_name": "DescriptionStyleModel",
            "_view_count": null,
            "_view_module": "@jupyter-widgets/base",
            "_view_module_version": "1.2.0",
            "_view_name": "StyleView",
            "description_width": ""
          }
        },
        "9cec47f53c2e4a2482cd8334ecfc99c6": {
          "model_module": "@jupyter-widgets/controls",
          "model_name": "HBoxModel",
          "model_module_version": "1.5.0",
          "state": {
            "_dom_classes": [],
            "_model_module": "@jupyter-widgets/controls",
            "_model_module_version": "1.5.0",
            "_model_name": "HBoxModel",
            "_view_count": null,
            "_view_module": "@jupyter-widgets/controls",
            "_view_module_version": "1.5.0",
            "_view_name": "HBoxView",
            "box_style": "",
            "children": [
              "IPY_MODEL_5d09dc4a79764c129a63dbdf1a6b31e7",
              "IPY_MODEL_e1bf07fccf824c38b81dfa5fd1bd28c0",
              "IPY_MODEL_3e6110e7d3774e57b37caf92b6929759"
            ],
            "layout": "IPY_MODEL_c152b660edf8421a905e9e718ba43bbd"
          }
        },
        "5d09dc4a79764c129a63dbdf1a6b31e7": {
          "model_module": "@jupyter-widgets/controls",
          "model_name": "HTMLModel",
          "model_module_version": "1.5.0",
          "state": {
            "_dom_classes": [],
            "_model_module": "@jupyter-widgets/controls",
            "_model_module_version": "1.5.0",
            "_model_name": "HTMLModel",
            "_view_count": null,
            "_view_module": "@jupyter-widgets/controls",
            "_view_module_version": "1.5.0",
            "_view_name": "HTMLView",
            "description": "",
            "description_tooltip": null,
            "layout": "IPY_MODEL_915d7ad5e06c41578dc8d8b974462c06",
            "placeholder": "​",
            "style": "IPY_MODEL_766db60a97224987aabcdb1399e301ff",
            "value": "vocab.pkl: 100%"
          }
        },
        "e1bf07fccf824c38b81dfa5fd1bd28c0": {
          "model_module": "@jupyter-widgets/controls",
          "model_name": "FloatProgressModel",
          "model_module_version": "1.5.0",
          "state": {
            "_dom_classes": [],
            "_model_module": "@jupyter-widgets/controls",
            "_model_module_version": "1.5.0",
            "_model_name": "FloatProgressModel",
            "_view_count": null,
            "_view_module": "@jupyter-widgets/controls",
            "_view_module_version": "1.5.0",
            "_view_name": "ProgressView",
            "bar_style": "success",
            "description": "",
            "description_tooltip": null,
            "layout": "IPY_MODEL_16735e3ffdcd4e5c8f054123e4535938",
            "max": 3802049,
            "min": 0,
            "orientation": "horizontal",
            "style": "IPY_MODEL_d7dc42c82e6b463aa56210293a85f222",
            "value": 3802049
          }
        },
        "3e6110e7d3774e57b37caf92b6929759": {
          "model_module": "@jupyter-widgets/controls",
          "model_name": "HTMLModel",
          "model_module_version": "1.5.0",
          "state": {
            "_dom_classes": [],
            "_model_module": "@jupyter-widgets/controls",
            "_model_module_version": "1.5.0",
            "_model_name": "HTMLModel",
            "_view_count": null,
            "_view_module": "@jupyter-widgets/controls",
            "_view_module_version": "1.5.0",
            "_view_name": "HTMLView",
            "description": "",
            "description_tooltip": null,
            "layout": "IPY_MODEL_ffbe6385ac2a4daf978e08f60c78f80b",
            "placeholder": "​",
            "style": "IPY_MODEL_a95d8e72168e44f2a0efc4fb197657a1",
            "value": " 3.80M/3.80M [00:00&lt;00:00, 47.9MB/s]"
          }
        },
        "c152b660edf8421a905e9e718ba43bbd": {
          "model_module": "@jupyter-widgets/base",
          "model_name": "LayoutModel",
          "model_module_version": "1.2.0",
          "state": {
            "_model_module": "@jupyter-widgets/base",
            "_model_module_version": "1.2.0",
            "_model_name": "LayoutModel",
            "_view_count": null,
            "_view_module": "@jupyter-widgets/base",
            "_view_module_version": "1.2.0",
            "_view_name": "LayoutView",
            "align_content": null,
            "align_items": null,
            "align_self": null,
            "border": null,
            "bottom": null,
            "display": null,
            "flex": null,
            "flex_flow": null,
            "grid_area": null,
            "grid_auto_columns": null,
            "grid_auto_flow": null,
            "grid_auto_rows": null,
            "grid_column": null,
            "grid_gap": null,
            "grid_row": null,
            "grid_template_areas": null,
            "grid_template_columns": null,
            "grid_template_rows": null,
            "height": null,
            "justify_content": null,
            "justify_items": null,
            "left": null,
            "margin": null,
            "max_height": null,
            "max_width": null,
            "min_height": null,
            "min_width": null,
            "object_fit": null,
            "object_position": null,
            "order": null,
            "overflow": null,
            "overflow_x": null,
            "overflow_y": null,
            "padding": null,
            "right": null,
            "top": null,
            "visibility": null,
            "width": null
          }
        },
        "915d7ad5e06c41578dc8d8b974462c06": {
          "model_module": "@jupyter-widgets/base",
          "model_name": "LayoutModel",
          "model_module_version": "1.2.0",
          "state": {
            "_model_module": "@jupyter-widgets/base",
            "_model_module_version": "1.2.0",
            "_model_name": "LayoutModel",
            "_view_count": null,
            "_view_module": "@jupyter-widgets/base",
            "_view_module_version": "1.2.0",
            "_view_name": "LayoutView",
            "align_content": null,
            "align_items": null,
            "align_self": null,
            "border": null,
            "bottom": null,
            "display": null,
            "flex": null,
            "flex_flow": null,
            "grid_area": null,
            "grid_auto_columns": null,
            "grid_auto_flow": null,
            "grid_auto_rows": null,
            "grid_column": null,
            "grid_gap": null,
            "grid_row": null,
            "grid_template_areas": null,
            "grid_template_columns": null,
            "grid_template_rows": null,
            "height": null,
            "justify_content": null,
            "justify_items": null,
            "left": null,
            "margin": null,
            "max_height": null,
            "max_width": null,
            "min_height": null,
            "min_width": null,
            "object_fit": null,
            "object_position": null,
            "order": null,
            "overflow": null,
            "overflow_x": null,
            "overflow_y": null,
            "padding": null,
            "right": null,
            "top": null,
            "visibility": null,
            "width": null
          }
        },
        "766db60a97224987aabcdb1399e301ff": {
          "model_module": "@jupyter-widgets/controls",
          "model_name": "DescriptionStyleModel",
          "model_module_version": "1.5.0",
          "state": {
            "_model_module": "@jupyter-widgets/controls",
            "_model_module_version": "1.5.0",
            "_model_name": "DescriptionStyleModel",
            "_view_count": null,
            "_view_module": "@jupyter-widgets/base",
            "_view_module_version": "1.2.0",
            "_view_name": "StyleView",
            "description_width": ""
          }
        },
        "16735e3ffdcd4e5c8f054123e4535938": {
          "model_module": "@jupyter-widgets/base",
          "model_name": "LayoutModel",
          "model_module_version": "1.2.0",
          "state": {
            "_model_module": "@jupyter-widgets/base",
            "_model_module_version": "1.2.0",
            "_model_name": "LayoutModel",
            "_view_count": null,
            "_view_module": "@jupyter-widgets/base",
            "_view_module_version": "1.2.0",
            "_view_name": "LayoutView",
            "align_content": null,
            "align_items": null,
            "align_self": null,
            "border": null,
            "bottom": null,
            "display": null,
            "flex": null,
            "flex_flow": null,
            "grid_area": null,
            "grid_auto_columns": null,
            "grid_auto_flow": null,
            "grid_auto_rows": null,
            "grid_column": null,
            "grid_gap": null,
            "grid_row": null,
            "grid_template_areas": null,
            "grid_template_columns": null,
            "grid_template_rows": null,
            "height": null,
            "justify_content": null,
            "justify_items": null,
            "left": null,
            "margin": null,
            "max_height": null,
            "max_width": null,
            "min_height": null,
            "min_width": null,
            "object_fit": null,
            "object_position": null,
            "order": null,
            "overflow": null,
            "overflow_x": null,
            "overflow_y": null,
            "padding": null,
            "right": null,
            "top": null,
            "visibility": null,
            "width": null
          }
        },
        "d7dc42c82e6b463aa56210293a85f222": {
          "model_module": "@jupyter-widgets/controls",
          "model_name": "ProgressStyleModel",
          "model_module_version": "1.5.0",
          "state": {
            "_model_module": "@jupyter-widgets/controls",
            "_model_module_version": "1.5.0",
            "_model_name": "ProgressStyleModel",
            "_view_count": null,
            "_view_module": "@jupyter-widgets/base",
            "_view_module_version": "1.2.0",
            "_view_name": "StyleView",
            "bar_color": null,
            "description_width": ""
          }
        },
        "ffbe6385ac2a4daf978e08f60c78f80b": {
          "model_module": "@jupyter-widgets/base",
          "model_name": "LayoutModel",
          "model_module_version": "1.2.0",
          "state": {
            "_model_module": "@jupyter-widgets/base",
            "_model_module_version": "1.2.0",
            "_model_name": "LayoutModel",
            "_view_count": null,
            "_view_module": "@jupyter-widgets/base",
            "_view_module_version": "1.2.0",
            "_view_name": "LayoutView",
            "align_content": null,
            "align_items": null,
            "align_self": null,
            "border": null,
            "bottom": null,
            "display": null,
            "flex": null,
            "flex_flow": null,
            "grid_area": null,
            "grid_auto_columns": null,
            "grid_auto_flow": null,
            "grid_auto_rows": null,
            "grid_column": null,
            "grid_gap": null,
            "grid_row": null,
            "grid_template_areas": null,
            "grid_template_columns": null,
            "grid_template_rows": null,
            "height": null,
            "justify_content": null,
            "justify_items": null,
            "left": null,
            "margin": null,
            "max_height": null,
            "max_width": null,
            "min_height": null,
            "min_width": null,
            "object_fit": null,
            "object_position": null,
            "order": null,
            "overflow": null,
            "overflow_x": null,
            "overflow_y": null,
            "padding": null,
            "right": null,
            "top": null,
            "visibility": null,
            "width": null
          }
        },
        "a95d8e72168e44f2a0efc4fb197657a1": {
          "model_module": "@jupyter-widgets/controls",
          "model_name": "DescriptionStyleModel",
          "model_module_version": "1.5.0",
          "state": {
            "_model_module": "@jupyter-widgets/controls",
            "_model_module_version": "1.5.0",
            "_model_name": "DescriptionStyleModel",
            "_view_count": null,
            "_view_module": "@jupyter-widgets/base",
            "_view_module_version": "1.2.0",
            "_view_name": "StyleView",
            "description_width": ""
          }
        },
        "47acf94b3735421786a28624d24ecfde": {
          "model_module": "@jupyter-widgets/controls",
          "model_name": "HBoxModel",
          "model_module_version": "1.5.0",
          "state": {
            "_dom_classes": [],
            "_model_module": "@jupyter-widgets/controls",
            "_model_module_version": "1.5.0",
            "_model_name": "HBoxModel",
            "_view_count": null,
            "_view_module": "@jupyter-widgets/controls",
            "_view_module_version": "1.5.0",
            "_view_name": "HBoxView",
            "box_style": "",
            "children": [
              "IPY_MODEL_e51c347da6de4cef829eed6fc151f497",
              "IPY_MODEL_67a2ca333d3e4e8c9eb64ea1a5b8d804",
              "IPY_MODEL_4f0d0b5c390a43b7aad3519b8042e0a4"
            ],
            "layout": "IPY_MODEL_86fe337900be419a846b7bbf8ec675dd"
          }
        },
        "e51c347da6de4cef829eed6fc151f497": {
          "model_module": "@jupyter-widgets/controls",
          "model_name": "HTMLModel",
          "model_module_version": "1.5.0",
          "state": {
            "_dom_classes": [],
            "_model_module": "@jupyter-widgets/controls",
            "_model_module_version": "1.5.0",
            "_model_name": "HTMLModel",
            "_view_count": null,
            "_view_module": "@jupyter-widgets/controls",
            "_view_module_version": "1.5.0",
            "_view_name": "HTMLView",
            "description": "",
            "description_tooltip": null,
            "layout": "IPY_MODEL_b07d4962755743df94804093c571be75",
            "placeholder": "​",
            "style": "IPY_MODEL_9af3da2568c84663ba51f8452a2cd1e5",
            "value": "vocab.txt: 100%"
          }
        },
        "67a2ca333d3e4e8c9eb64ea1a5b8d804": {
          "model_module": "@jupyter-widgets/controls",
          "model_name": "FloatProgressModel",
          "model_module_version": "1.5.0",
          "state": {
            "_dom_classes": [],
            "_model_module": "@jupyter-widgets/controls",
            "_model_module_version": "1.5.0",
            "_model_name": "FloatProgressModel",
            "_view_count": null,
            "_view_module": "@jupyter-widgets/controls",
            "_view_module_version": "1.5.0",
            "_view_name": "ProgressView",
            "bar_style": "success",
            "description": "",
            "description_tooltip": null,
            "layout": "IPY_MODEL_fef25d9784ef403b8fb9eeeff5cbe35a",
            "max": 1198122,
            "min": 0,
            "orientation": "horizontal",
            "style": "IPY_MODEL_3a7c3f7c20db471398ec656263405b87",
            "value": 1198122
          }
        },
        "4f0d0b5c390a43b7aad3519b8042e0a4": {
          "model_module": "@jupyter-widgets/controls",
          "model_name": "HTMLModel",
          "model_module_version": "1.5.0",
          "state": {
            "_dom_classes": [],
            "_model_module": "@jupyter-widgets/controls",
            "_model_module_version": "1.5.0",
            "_model_name": "HTMLModel",
            "_view_count": null,
            "_view_module": "@jupyter-widgets/controls",
            "_view_module_version": "1.5.0",
            "_view_name": "HTMLView",
            "description": "",
            "description_tooltip": null,
            "layout": "IPY_MODEL_63ed7bc7285044dba4dec6df35ee7a64",
            "placeholder": "​",
            "style": "IPY_MODEL_66f4cdf4424745b684e33764e34ab550",
            "value": " 1.20M/1.20M [00:00&lt;00:00, 4.90MB/s]"
          }
        },
        "86fe337900be419a846b7bbf8ec675dd": {
          "model_module": "@jupyter-widgets/base",
          "model_name": "LayoutModel",
          "model_module_version": "1.2.0",
          "state": {
            "_model_module": "@jupyter-widgets/base",
            "_model_module_version": "1.2.0",
            "_model_name": "LayoutModel",
            "_view_count": null,
            "_view_module": "@jupyter-widgets/base",
            "_view_module_version": "1.2.0",
            "_view_name": "LayoutView",
            "align_content": null,
            "align_items": null,
            "align_self": null,
            "border": null,
            "bottom": null,
            "display": null,
            "flex": null,
            "flex_flow": null,
            "grid_area": null,
            "grid_auto_columns": null,
            "grid_auto_flow": null,
            "grid_auto_rows": null,
            "grid_column": null,
            "grid_gap": null,
            "grid_row": null,
            "grid_template_areas": null,
            "grid_template_columns": null,
            "grid_template_rows": null,
            "height": null,
            "justify_content": null,
            "justify_items": null,
            "left": null,
            "margin": null,
            "max_height": null,
            "max_width": null,
            "min_height": null,
            "min_width": null,
            "object_fit": null,
            "object_position": null,
            "order": null,
            "overflow": null,
            "overflow_x": null,
            "overflow_y": null,
            "padding": null,
            "right": null,
            "top": null,
            "visibility": null,
            "width": null
          }
        },
        "b07d4962755743df94804093c571be75": {
          "model_module": "@jupyter-widgets/base",
          "model_name": "LayoutModel",
          "model_module_version": "1.2.0",
          "state": {
            "_model_module": "@jupyter-widgets/base",
            "_model_module_version": "1.2.0",
            "_model_name": "LayoutModel",
            "_view_count": null,
            "_view_module": "@jupyter-widgets/base",
            "_view_module_version": "1.2.0",
            "_view_name": "LayoutView",
            "align_content": null,
            "align_items": null,
            "align_self": null,
            "border": null,
            "bottom": null,
            "display": null,
            "flex": null,
            "flex_flow": null,
            "grid_area": null,
            "grid_auto_columns": null,
            "grid_auto_flow": null,
            "grid_auto_rows": null,
            "grid_column": null,
            "grid_gap": null,
            "grid_row": null,
            "grid_template_areas": null,
            "grid_template_columns": null,
            "grid_template_rows": null,
            "height": null,
            "justify_content": null,
            "justify_items": null,
            "left": null,
            "margin": null,
            "max_height": null,
            "max_width": null,
            "min_height": null,
            "min_width": null,
            "object_fit": null,
            "object_position": null,
            "order": null,
            "overflow": null,
            "overflow_x": null,
            "overflow_y": null,
            "padding": null,
            "right": null,
            "top": null,
            "visibility": null,
            "width": null
          }
        },
        "9af3da2568c84663ba51f8452a2cd1e5": {
          "model_module": "@jupyter-widgets/controls",
          "model_name": "DescriptionStyleModel",
          "model_module_version": "1.5.0",
          "state": {
            "_model_module": "@jupyter-widgets/controls",
            "_model_module_version": "1.5.0",
            "_model_name": "DescriptionStyleModel",
            "_view_count": null,
            "_view_module": "@jupyter-widgets/base",
            "_view_module_version": "1.2.0",
            "_view_name": "StyleView",
            "description_width": ""
          }
        },
        "fef25d9784ef403b8fb9eeeff5cbe35a": {
          "model_module": "@jupyter-widgets/base",
          "model_name": "LayoutModel",
          "model_module_version": "1.2.0",
          "state": {
            "_model_module": "@jupyter-widgets/base",
            "_model_module_version": "1.2.0",
            "_model_name": "LayoutModel",
            "_view_count": null,
            "_view_module": "@jupyter-widgets/base",
            "_view_module_version": "1.2.0",
            "_view_name": "LayoutView",
            "align_content": null,
            "align_items": null,
            "align_self": null,
            "border": null,
            "bottom": null,
            "display": null,
            "flex": null,
            "flex_flow": null,
            "grid_area": null,
            "grid_auto_columns": null,
            "grid_auto_flow": null,
            "grid_auto_rows": null,
            "grid_column": null,
            "grid_gap": null,
            "grid_row": null,
            "grid_template_areas": null,
            "grid_template_columns": null,
            "grid_template_rows": null,
            "height": null,
            "justify_content": null,
            "justify_items": null,
            "left": null,
            "margin": null,
            "max_height": null,
            "max_width": null,
            "min_height": null,
            "min_width": null,
            "object_fit": null,
            "object_position": null,
            "order": null,
            "overflow": null,
            "overflow_x": null,
            "overflow_y": null,
            "padding": null,
            "right": null,
            "top": null,
            "visibility": null,
            "width": null
          }
        },
        "3a7c3f7c20db471398ec656263405b87": {
          "model_module": "@jupyter-widgets/controls",
          "model_name": "ProgressStyleModel",
          "model_module_version": "1.5.0",
          "state": {
            "_model_module": "@jupyter-widgets/controls",
            "_model_module_version": "1.5.0",
            "_model_name": "ProgressStyleModel",
            "_view_count": null,
            "_view_module": "@jupyter-widgets/base",
            "_view_module_version": "1.2.0",
            "_view_name": "StyleView",
            "bar_color": null,
            "description_width": ""
          }
        },
        "63ed7bc7285044dba4dec6df35ee7a64": {
          "model_module": "@jupyter-widgets/base",
          "model_name": "LayoutModel",
          "model_module_version": "1.2.0",
          "state": {
            "_model_module": "@jupyter-widgets/base",
            "_model_module_version": "1.2.0",
            "_model_name": "LayoutModel",
            "_view_count": null,
            "_view_module": "@jupyter-widgets/base",
            "_view_module_version": "1.2.0",
            "_view_name": "LayoutView",
            "align_content": null,
            "align_items": null,
            "align_self": null,
            "border": null,
            "bottom": null,
            "display": null,
            "flex": null,
            "flex_flow": null,
            "grid_area": null,
            "grid_auto_columns": null,
            "grid_auto_flow": null,
            "grid_auto_rows": null,
            "grid_column": null,
            "grid_gap": null,
            "grid_row": null,
            "grid_template_areas": null,
            "grid_template_columns": null,
            "grid_template_rows": null,
            "height": null,
            "justify_content": null,
            "justify_items": null,
            "left": null,
            "margin": null,
            "max_height": null,
            "max_width": null,
            "min_height": null,
            "min_width": null,
            "object_fit": null,
            "object_position": null,
            "order": null,
            "overflow": null,
            "overflow_x": null,
            "overflow_y": null,
            "padding": null,
            "right": null,
            "top": null,
            "visibility": null,
            "width": null
          }
        },
        "66f4cdf4424745b684e33764e34ab550": {
          "model_module": "@jupyter-widgets/controls",
          "model_name": "DescriptionStyleModel",
          "model_module_version": "1.5.0",
          "state": {
            "_model_module": "@jupyter-widgets/controls",
            "_model_module_version": "1.5.0",
            "_model_name": "DescriptionStyleModel",
            "_view_count": null,
            "_view_module": "@jupyter-widgets/base",
            "_view_module_version": "1.2.0",
            "_view_name": "StyleView",
            "description_width": ""
          }
        },
        "3cc7394bd4c14006a8225a17f1d8a946": {
          "model_module": "@jupyter-widgets/controls",
          "model_name": "HBoxModel",
          "model_module_version": "1.5.0",
          "state": {
            "_dom_classes": [],
            "_model_module": "@jupyter-widgets/controls",
            "_model_module_version": "1.5.0",
            "_model_name": "HBoxModel",
            "_view_count": null,
            "_view_module": "@jupyter-widgets/controls",
            "_view_module_version": "1.5.0",
            "_view_name": "HBoxView",
            "box_style": "",
            "children": [
              "IPY_MODEL_7ed891a57deb453295649f383c8e3a9b",
              "IPY_MODEL_ea5a01ecc79846ad8e89810ad678bc32",
              "IPY_MODEL_ef9e170bc85749ca831ccf67088535f8"
            ],
            "layout": "IPY_MODEL_dcf054fb3ac948e1bd172478d37e6d24"
          }
        },
        "7ed891a57deb453295649f383c8e3a9b": {
          "model_module": "@jupyter-widgets/controls",
          "model_name": "HTMLModel",
          "model_module_version": "1.5.0",
          "state": {
            "_dom_classes": [],
            "_model_module": "@jupyter-widgets/controls",
            "_model_module_version": "1.5.0",
            "_model_name": "HTMLModel",
            "_view_count": null,
            "_view_module": "@jupyter-widgets/controls",
            "_view_module_version": "1.5.0",
            "_view_name": "HTMLView",
            "description": "",
            "description_tooltip": null,
            "layout": "IPY_MODEL_7f2f9aa947db469c832dbe3df7056d99",
            "placeholder": "​",
            "style": "IPY_MODEL_58e6addfd80547199ea076a325f53a15",
            "value": "config.json: 100%"
          }
        },
        "ea5a01ecc79846ad8e89810ad678bc32": {
          "model_module": "@jupyter-widgets/controls",
          "model_name": "FloatProgressModel",
          "model_module_version": "1.5.0",
          "state": {
            "_dom_classes": [],
            "_model_module": "@jupyter-widgets/controls",
            "_model_module_version": "1.5.0",
            "_model_name": "FloatProgressModel",
            "_view_count": null,
            "_view_module": "@jupyter-widgets/controls",
            "_view_module_version": "1.5.0",
            "_view_name": "ProgressView",
            "bar_style": "success",
            "description": "",
            "description_tooltip": null,
            "layout": "IPY_MODEL_542cc726098d498b96f29f77dd63ddbc",
            "max": 440,
            "min": 0,
            "orientation": "horizontal",
            "style": "IPY_MODEL_d00b3c08fb894e39bf3e2b75f68a6ba4",
            "value": 440
          }
        },
        "ef9e170bc85749ca831ccf67088535f8": {
          "model_module": "@jupyter-widgets/controls",
          "model_name": "HTMLModel",
          "model_module_version": "1.5.0",
          "state": {
            "_dom_classes": [],
            "_model_module": "@jupyter-widgets/controls",
            "_model_module_version": "1.5.0",
            "_model_name": "HTMLModel",
            "_view_count": null,
            "_view_module": "@jupyter-widgets/controls",
            "_view_module_version": "1.5.0",
            "_view_name": "HTMLView",
            "description": "",
            "description_tooltip": null,
            "layout": "IPY_MODEL_644a3cfc5f124e3c9c223cc425d90ac2",
            "placeholder": "​",
            "style": "IPY_MODEL_b57c9d9cc3f74e8d81e0b1061ecb2433",
            "value": " 440/440 [00:00&lt;00:00, 8.62kB/s]"
          }
        },
        "dcf054fb3ac948e1bd172478d37e6d24": {
          "model_module": "@jupyter-widgets/base",
          "model_name": "LayoutModel",
          "model_module_version": "1.2.0",
          "state": {
            "_model_module": "@jupyter-widgets/base",
            "_model_module_version": "1.2.0",
            "_model_name": "LayoutModel",
            "_view_count": null,
            "_view_module": "@jupyter-widgets/base",
            "_view_module_version": "1.2.0",
            "_view_name": "LayoutView",
            "align_content": null,
            "align_items": null,
            "align_self": null,
            "border": null,
            "bottom": null,
            "display": null,
            "flex": null,
            "flex_flow": null,
            "grid_area": null,
            "grid_auto_columns": null,
            "grid_auto_flow": null,
            "grid_auto_rows": null,
            "grid_column": null,
            "grid_gap": null,
            "grid_row": null,
            "grid_template_areas": null,
            "grid_template_columns": null,
            "grid_template_rows": null,
            "height": null,
            "justify_content": null,
            "justify_items": null,
            "left": null,
            "margin": null,
            "max_height": null,
            "max_width": null,
            "min_height": null,
            "min_width": null,
            "object_fit": null,
            "object_position": null,
            "order": null,
            "overflow": null,
            "overflow_x": null,
            "overflow_y": null,
            "padding": null,
            "right": null,
            "top": null,
            "visibility": null,
            "width": null
          }
        },
        "7f2f9aa947db469c832dbe3df7056d99": {
          "model_module": "@jupyter-widgets/base",
          "model_name": "LayoutModel",
          "model_module_version": "1.2.0",
          "state": {
            "_model_module": "@jupyter-widgets/base",
            "_model_module_version": "1.2.0",
            "_model_name": "LayoutModel",
            "_view_count": null,
            "_view_module": "@jupyter-widgets/base",
            "_view_module_version": "1.2.0",
            "_view_name": "LayoutView",
            "align_content": null,
            "align_items": null,
            "align_self": null,
            "border": null,
            "bottom": null,
            "display": null,
            "flex": null,
            "flex_flow": null,
            "grid_area": null,
            "grid_auto_columns": null,
            "grid_auto_flow": null,
            "grid_auto_rows": null,
            "grid_column": null,
            "grid_gap": null,
            "grid_row": null,
            "grid_template_areas": null,
            "grid_template_columns": null,
            "grid_template_rows": null,
            "height": null,
            "justify_content": null,
            "justify_items": null,
            "left": null,
            "margin": null,
            "max_height": null,
            "max_width": null,
            "min_height": null,
            "min_width": null,
            "object_fit": null,
            "object_position": null,
            "order": null,
            "overflow": null,
            "overflow_x": null,
            "overflow_y": null,
            "padding": null,
            "right": null,
            "top": null,
            "visibility": null,
            "width": null
          }
        },
        "58e6addfd80547199ea076a325f53a15": {
          "model_module": "@jupyter-widgets/controls",
          "model_name": "DescriptionStyleModel",
          "model_module_version": "1.5.0",
          "state": {
            "_model_module": "@jupyter-widgets/controls",
            "_model_module_version": "1.5.0",
            "_model_name": "DescriptionStyleModel",
            "_view_count": null,
            "_view_module": "@jupyter-widgets/base",
            "_view_module_version": "1.2.0",
            "_view_name": "StyleView",
            "description_width": ""
          }
        },
        "542cc726098d498b96f29f77dd63ddbc": {
          "model_module": "@jupyter-widgets/base",
          "model_name": "LayoutModel",
          "model_module_version": "1.2.0",
          "state": {
            "_model_module": "@jupyter-widgets/base",
            "_model_module_version": "1.2.0",
            "_model_name": "LayoutModel",
            "_view_count": null,
            "_view_module": "@jupyter-widgets/base",
            "_view_module_version": "1.2.0",
            "_view_name": "LayoutView",
            "align_content": null,
            "align_items": null,
            "align_self": null,
            "border": null,
            "bottom": null,
            "display": null,
            "flex": null,
            "flex_flow": null,
            "grid_area": null,
            "grid_auto_columns": null,
            "grid_auto_flow": null,
            "grid_auto_rows": null,
            "grid_column": null,
            "grid_gap": null,
            "grid_row": null,
            "grid_template_areas": null,
            "grid_template_columns": null,
            "grid_template_rows": null,
            "height": null,
            "justify_content": null,
            "justify_items": null,
            "left": null,
            "margin": null,
            "max_height": null,
            "max_width": null,
            "min_height": null,
            "min_width": null,
            "object_fit": null,
            "object_position": null,
            "order": null,
            "overflow": null,
            "overflow_x": null,
            "overflow_y": null,
            "padding": null,
            "right": null,
            "top": null,
            "visibility": null,
            "width": null
          }
        },
        "d00b3c08fb894e39bf3e2b75f68a6ba4": {
          "model_module": "@jupyter-widgets/controls",
          "model_name": "ProgressStyleModel",
          "model_module_version": "1.5.0",
          "state": {
            "_model_module": "@jupyter-widgets/controls",
            "_model_module_version": "1.5.0",
            "_model_name": "ProgressStyleModel",
            "_view_count": null,
            "_view_module": "@jupyter-widgets/base",
            "_view_module_version": "1.2.0",
            "_view_name": "StyleView",
            "bar_color": null,
            "description_width": ""
          }
        },
        "644a3cfc5f124e3c9c223cc425d90ac2": {
          "model_module": "@jupyter-widgets/base",
          "model_name": "LayoutModel",
          "model_module_version": "1.2.0",
          "state": {
            "_model_module": "@jupyter-widgets/base",
            "_model_module_version": "1.2.0",
            "_model_name": "LayoutModel",
            "_view_count": null,
            "_view_module": "@jupyter-widgets/base",
            "_view_module_version": "1.2.0",
            "_view_name": "LayoutView",
            "align_content": null,
            "align_items": null,
            "align_self": null,
            "border": null,
            "bottom": null,
            "display": null,
            "flex": null,
            "flex_flow": null,
            "grid_area": null,
            "grid_auto_columns": null,
            "grid_auto_flow": null,
            "grid_auto_rows": null,
            "grid_column": null,
            "grid_gap": null,
            "grid_row": null,
            "grid_template_areas": null,
            "grid_template_columns": null,
            "grid_template_rows": null,
            "height": null,
            "justify_content": null,
            "justify_items": null,
            "left": null,
            "margin": null,
            "max_height": null,
            "max_width": null,
            "min_height": null,
            "min_width": null,
            "object_fit": null,
            "object_position": null,
            "order": null,
            "overflow": null,
            "overflow_x": null,
            "overflow_y": null,
            "padding": null,
            "right": null,
            "top": null,
            "visibility": null,
            "width": null
          }
        },
        "b57c9d9cc3f74e8d81e0b1061ecb2433": {
          "model_module": "@jupyter-widgets/controls",
          "model_name": "DescriptionStyleModel",
          "model_module_version": "1.5.0",
          "state": {
            "_model_module": "@jupyter-widgets/controls",
            "_model_module_version": "1.5.0",
            "_model_name": "DescriptionStyleModel",
            "_view_count": null,
            "_view_module": "@jupyter-widgets/base",
            "_view_module_version": "1.2.0",
            "_view_name": "StyleView",
            "description_width": ""
          }
        },
        "9e21a361ddcd485094e9dd6e9db44f22": {
          "model_module": "@jupyter-widgets/controls",
          "model_name": "HBoxModel",
          "model_module_version": "1.5.0",
          "state": {
            "_dom_classes": [],
            "_model_module": "@jupyter-widgets/controls",
            "_model_module_version": "1.5.0",
            "_model_name": "HBoxModel",
            "_view_count": null,
            "_view_module": "@jupyter-widgets/controls",
            "_view_module_version": "1.5.0",
            "_view_name": "HBoxView",
            "box_style": "",
            "children": [
              "IPY_MODEL_c6c5a0f40b1c4fc292e639c1a381e645",
              "IPY_MODEL_6758873f80de44359ea47aba7e5aa343",
              "IPY_MODEL_76799f471d9c40e5862f9d24673067e5"
            ],
            "layout": "IPY_MODEL_d24fe3386acb482faff6b96b72238d9d"
          }
        },
        "c6c5a0f40b1c4fc292e639c1a381e645": {
          "model_module": "@jupyter-widgets/controls",
          "model_name": "HTMLModel",
          "model_module_version": "1.5.0",
          "state": {
            "_dom_classes": [],
            "_model_module": "@jupyter-widgets/controls",
            "_model_module_version": "1.5.0",
            "_model_name": "HTMLModel",
            "_view_count": null,
            "_view_module": "@jupyter-widgets/controls",
            "_view_module_version": "1.5.0",
            "_view_name": "HTMLView",
            "description": "",
            "description_tooltip": null,
            "layout": "IPY_MODEL_bc43272e0a86454cbc40488f86ddfe95",
            "placeholder": "​",
            "style": "IPY_MODEL_81a5d01c4dac44bf8ca84149c76ab334",
            "value": "persian.kasreh.mdl: 100%"
          }
        },
        "6758873f80de44359ea47aba7e5aa343": {
          "model_module": "@jupyter-widgets/controls",
          "model_name": "FloatProgressModel",
          "model_module_version": "1.5.0",
          "state": {
            "_dom_classes": [],
            "_model_module": "@jupyter-widgets/controls",
            "_model_module_version": "1.5.0",
            "_model_name": "FloatProgressModel",
            "_view_count": null,
            "_view_module": "@jupyter-widgets/controls",
            "_view_module_version": "1.5.0",
            "_view_name": "ProgressView",
            "bar_style": "success",
            "description": "",
            "description_tooltip": null,
            "layout": "IPY_MODEL_a081fe67b5d04eb0bf81e85fed5bb406",
            "max": 10425194,
            "min": 0,
            "orientation": "horizontal",
            "style": "IPY_MODEL_b667db74773645c9a58fe52c1961e65f",
            "value": 10425194
          }
        },
        "76799f471d9c40e5862f9d24673067e5": {
          "model_module": "@jupyter-widgets/controls",
          "model_name": "HTMLModel",
          "model_module_version": "1.5.0",
          "state": {
            "_dom_classes": [],
            "_model_module": "@jupyter-widgets/controls",
            "_model_module_version": "1.5.0",
            "_model_name": "HTMLModel",
            "_view_count": null,
            "_view_module": "@jupyter-widgets/controls",
            "_view_module_version": "1.5.0",
            "_view_name": "HTMLView",
            "description": "",
            "description_tooltip": null,
            "layout": "IPY_MODEL_6b0bd70a375c4a03b022bb9ba07e9d08",
            "placeholder": "​",
            "style": "IPY_MODEL_460cf60af3de4111a84b9498673e409d",
            "value": " 10.4M/10.4M [00:00&lt;00:00, 19.2MB/s]"
          }
        },
        "d24fe3386acb482faff6b96b72238d9d": {
          "model_module": "@jupyter-widgets/base",
          "model_name": "LayoutModel",
          "model_module_version": "1.2.0",
          "state": {
            "_model_module": "@jupyter-widgets/base",
            "_model_module_version": "1.2.0",
            "_model_name": "LayoutModel",
            "_view_count": null,
            "_view_module": "@jupyter-widgets/base",
            "_view_module_version": "1.2.0",
            "_view_name": "LayoutView",
            "align_content": null,
            "align_items": null,
            "align_self": null,
            "border": null,
            "bottom": null,
            "display": null,
            "flex": null,
            "flex_flow": null,
            "grid_area": null,
            "grid_auto_columns": null,
            "grid_auto_flow": null,
            "grid_auto_rows": null,
            "grid_column": null,
            "grid_gap": null,
            "grid_row": null,
            "grid_template_areas": null,
            "grid_template_columns": null,
            "grid_template_rows": null,
            "height": null,
            "justify_content": null,
            "justify_items": null,
            "left": null,
            "margin": null,
            "max_height": null,
            "max_width": null,
            "min_height": null,
            "min_width": null,
            "object_fit": null,
            "object_position": null,
            "order": null,
            "overflow": null,
            "overflow_x": null,
            "overflow_y": null,
            "padding": null,
            "right": null,
            "top": null,
            "visibility": null,
            "width": null
          }
        },
        "bc43272e0a86454cbc40488f86ddfe95": {
          "model_module": "@jupyter-widgets/base",
          "model_name": "LayoutModel",
          "model_module_version": "1.2.0",
          "state": {
            "_model_module": "@jupyter-widgets/base",
            "_model_module_version": "1.2.0",
            "_model_name": "LayoutModel",
            "_view_count": null,
            "_view_module": "@jupyter-widgets/base",
            "_view_module_version": "1.2.0",
            "_view_name": "LayoutView",
            "align_content": null,
            "align_items": null,
            "align_self": null,
            "border": null,
            "bottom": null,
            "display": null,
            "flex": null,
            "flex_flow": null,
            "grid_area": null,
            "grid_auto_columns": null,
            "grid_auto_flow": null,
            "grid_auto_rows": null,
            "grid_column": null,
            "grid_gap": null,
            "grid_row": null,
            "grid_template_areas": null,
            "grid_template_columns": null,
            "grid_template_rows": null,
            "height": null,
            "justify_content": null,
            "justify_items": null,
            "left": null,
            "margin": null,
            "max_height": null,
            "max_width": null,
            "min_height": null,
            "min_width": null,
            "object_fit": null,
            "object_position": null,
            "order": null,
            "overflow": null,
            "overflow_x": null,
            "overflow_y": null,
            "padding": null,
            "right": null,
            "top": null,
            "visibility": null,
            "width": null
          }
        },
        "81a5d01c4dac44bf8ca84149c76ab334": {
          "model_module": "@jupyter-widgets/controls",
          "model_name": "DescriptionStyleModel",
          "model_module_version": "1.5.0",
          "state": {
            "_model_module": "@jupyter-widgets/controls",
            "_model_module_version": "1.5.0",
            "_model_name": "DescriptionStyleModel",
            "_view_count": null,
            "_view_module": "@jupyter-widgets/base",
            "_view_module_version": "1.2.0",
            "_view_name": "StyleView",
            "description_width": ""
          }
        },
        "a081fe67b5d04eb0bf81e85fed5bb406": {
          "model_module": "@jupyter-widgets/base",
          "model_name": "LayoutModel",
          "model_module_version": "1.2.0",
          "state": {
            "_model_module": "@jupyter-widgets/base",
            "_model_module_version": "1.2.0",
            "_model_name": "LayoutModel",
            "_view_count": null,
            "_view_module": "@jupyter-widgets/base",
            "_view_module_version": "1.2.0",
            "_view_name": "LayoutView",
            "align_content": null,
            "align_items": null,
            "align_self": null,
            "border": null,
            "bottom": null,
            "display": null,
            "flex": null,
            "flex_flow": null,
            "grid_area": null,
            "grid_auto_columns": null,
            "grid_auto_flow": null,
            "grid_auto_rows": null,
            "grid_column": null,
            "grid_gap": null,
            "grid_row": null,
            "grid_template_areas": null,
            "grid_template_columns": null,
            "grid_template_rows": null,
            "height": null,
            "justify_content": null,
            "justify_items": null,
            "left": null,
            "margin": null,
            "max_height": null,
            "max_width": null,
            "min_height": null,
            "min_width": null,
            "object_fit": null,
            "object_position": null,
            "order": null,
            "overflow": null,
            "overflow_x": null,
            "overflow_y": null,
            "padding": null,
            "right": null,
            "top": null,
            "visibility": null,
            "width": null
          }
        },
        "b667db74773645c9a58fe52c1961e65f": {
          "model_module": "@jupyter-widgets/controls",
          "model_name": "ProgressStyleModel",
          "model_module_version": "1.5.0",
          "state": {
            "_model_module": "@jupyter-widgets/controls",
            "_model_module_version": "1.5.0",
            "_model_name": "ProgressStyleModel",
            "_view_count": null,
            "_view_module": "@jupyter-widgets/base",
            "_view_module_version": "1.2.0",
            "_view_name": "StyleView",
            "bar_color": null,
            "description_width": ""
          }
        },
        "6b0bd70a375c4a03b022bb9ba07e9d08": {
          "model_module": "@jupyter-widgets/base",
          "model_name": "LayoutModel",
          "model_module_version": "1.2.0",
          "state": {
            "_model_module": "@jupyter-widgets/base",
            "_model_module_version": "1.2.0",
            "_model_name": "LayoutModel",
            "_view_count": null,
            "_view_module": "@jupyter-widgets/base",
            "_view_module_version": "1.2.0",
            "_view_name": "LayoutView",
            "align_content": null,
            "align_items": null,
            "align_self": null,
            "border": null,
            "bottom": null,
            "display": null,
            "flex": null,
            "flex_flow": null,
            "grid_area": null,
            "grid_auto_columns": null,
            "grid_auto_flow": null,
            "grid_auto_rows": null,
            "grid_column": null,
            "grid_gap": null,
            "grid_row": null,
            "grid_template_areas": null,
            "grid_template_columns": null,
            "grid_template_rows": null,
            "height": null,
            "justify_content": null,
            "justify_items": null,
            "left": null,
            "margin": null,
            "max_height": null,
            "max_width": null,
            "min_height": null,
            "min_width": null,
            "object_fit": null,
            "object_position": null,
            "order": null,
            "overflow": null,
            "overflow_x": null,
            "overflow_y": null,
            "padding": null,
            "right": null,
            "top": null,
            "visibility": null,
            "width": null
          }
        },
        "460cf60af3de4111a84b9498673e409d": {
          "model_module": "@jupyter-widgets/controls",
          "model_name": "DescriptionStyleModel",
          "model_module_version": "1.5.0",
          "state": {
            "_model_module": "@jupyter-widgets/controls",
            "_model_module_version": "1.5.0",
            "_model_name": "DescriptionStyleModel",
            "_view_count": null,
            "_view_module": "@jupyter-widgets/base",
            "_view_module_version": "1.2.0",
            "_view_name": "StyleView",
            "description_width": ""
          }
        },
        "6d4ca99aa9b1490ab1e3389ca2314ade": {
          "model_module": "@jupyter-widgets/controls",
          "model_name": "HBoxModel",
          "model_module_version": "1.5.0",
          "state": {
            "_dom_classes": [],
            "_model_module": "@jupyter-widgets/controls",
            "_model_module_version": "1.5.0",
            "_model_name": "HBoxModel",
            "_view_count": null,
            "_view_module": "@jupyter-widgets/controls",
            "_view_module_version": "1.5.0",
            "_view_name": "HBoxView",
            "box_style": "",
            "children": [
              "IPY_MODEL_cceb479c50824cf7bf40393b4ae51baa",
              "IPY_MODEL_33cf36e3174744018657412523f9237e",
              "IPY_MODEL_4bf12746b0b64549b2b47b4c469d8572"
            ],
            "layout": "IPY_MODEL_1aa875da335145858068e4c01c316eb3"
          }
        },
        "cceb479c50824cf7bf40393b4ae51baa": {
          "model_module": "@jupyter-widgets/controls",
          "model_name": "HTMLModel",
          "model_module_version": "1.5.0",
          "state": {
            "_dom_classes": [],
            "_model_module": "@jupyter-widgets/controls",
            "_model_module_version": "1.5.0",
            "_model_name": "HTMLModel",
            "_view_count": null,
            "_view_module": "@jupyter-widgets/controls",
            "_view_module_version": "1.5.0",
            "_view_name": "HTMLView",
            "description": "",
            "description_tooltip": null,
            "layout": "IPY_MODEL_d0de1dcd4aa84121a1448b4629d68d5d",
            "placeholder": "​",
            "style": "IPY_MODEL_e4307262db3f4c70a19bc7e5f5207384",
            "value": "persian.kasreh-vocab.json: 100%"
          }
        },
        "33cf36e3174744018657412523f9237e": {
          "model_module": "@jupyter-widgets/controls",
          "model_name": "FloatProgressModel",
          "model_module_version": "1.5.0",
          "state": {
            "_dom_classes": [],
            "_model_module": "@jupyter-widgets/controls",
            "_model_module_version": "1.5.0",
            "_model_name": "FloatProgressModel",
            "_view_count": null,
            "_view_module": "@jupyter-widgets/controls",
            "_view_module_version": "1.5.0",
            "_view_name": "ProgressView",
            "bar_style": "success",
            "description": "",
            "description_tooltip": null,
            "layout": "IPY_MODEL_9e30ad0eb2114dffb83b5f827a777d89",
            "max": 23,
            "min": 0,
            "orientation": "horizontal",
            "style": "IPY_MODEL_7e816540be0347c0a7cdd8cd8c96c3d9",
            "value": 23
          }
        },
        "4bf12746b0b64549b2b47b4c469d8572": {
          "model_module": "@jupyter-widgets/controls",
          "model_name": "HTMLModel",
          "model_module_version": "1.5.0",
          "state": {
            "_dom_classes": [],
            "_model_module": "@jupyter-widgets/controls",
            "_model_module_version": "1.5.0",
            "_model_name": "HTMLModel",
            "_view_count": null,
            "_view_module": "@jupyter-widgets/controls",
            "_view_module_version": "1.5.0",
            "_view_name": "HTMLView",
            "description": "",
            "description_tooltip": null,
            "layout": "IPY_MODEL_d8a5729d7c9c4f6f8d976495d77932f3",
            "placeholder": "​",
            "style": "IPY_MODEL_c9cc77ea033c4610babb4def857747cb",
            "value": " 23.0/23.0 [00:00&lt;00:00, 497B/s]"
          }
        },
        "1aa875da335145858068e4c01c316eb3": {
          "model_module": "@jupyter-widgets/base",
          "model_name": "LayoutModel",
          "model_module_version": "1.2.0",
          "state": {
            "_model_module": "@jupyter-widgets/base",
            "_model_module_version": "1.2.0",
            "_model_name": "LayoutModel",
            "_view_count": null,
            "_view_module": "@jupyter-widgets/base",
            "_view_module_version": "1.2.0",
            "_view_name": "LayoutView",
            "align_content": null,
            "align_items": null,
            "align_self": null,
            "border": null,
            "bottom": null,
            "display": null,
            "flex": null,
            "flex_flow": null,
            "grid_area": null,
            "grid_auto_columns": null,
            "grid_auto_flow": null,
            "grid_auto_rows": null,
            "grid_column": null,
            "grid_gap": null,
            "grid_row": null,
            "grid_template_areas": null,
            "grid_template_columns": null,
            "grid_template_rows": null,
            "height": null,
            "justify_content": null,
            "justify_items": null,
            "left": null,
            "margin": null,
            "max_height": null,
            "max_width": null,
            "min_height": null,
            "min_width": null,
            "object_fit": null,
            "object_position": null,
            "order": null,
            "overflow": null,
            "overflow_x": null,
            "overflow_y": null,
            "padding": null,
            "right": null,
            "top": null,
            "visibility": null,
            "width": null
          }
        },
        "d0de1dcd4aa84121a1448b4629d68d5d": {
          "model_module": "@jupyter-widgets/base",
          "model_name": "LayoutModel",
          "model_module_version": "1.2.0",
          "state": {
            "_model_module": "@jupyter-widgets/base",
            "_model_module_version": "1.2.0",
            "_model_name": "LayoutModel",
            "_view_count": null,
            "_view_module": "@jupyter-widgets/base",
            "_view_module_version": "1.2.0",
            "_view_name": "LayoutView",
            "align_content": null,
            "align_items": null,
            "align_self": null,
            "border": null,
            "bottom": null,
            "display": null,
            "flex": null,
            "flex_flow": null,
            "grid_area": null,
            "grid_auto_columns": null,
            "grid_auto_flow": null,
            "grid_auto_rows": null,
            "grid_column": null,
            "grid_gap": null,
            "grid_row": null,
            "grid_template_areas": null,
            "grid_template_columns": null,
            "grid_template_rows": null,
            "height": null,
            "justify_content": null,
            "justify_items": null,
            "left": null,
            "margin": null,
            "max_height": null,
            "max_width": null,
            "min_height": null,
            "min_width": null,
            "object_fit": null,
            "object_position": null,
            "order": null,
            "overflow": null,
            "overflow_x": null,
            "overflow_y": null,
            "padding": null,
            "right": null,
            "top": null,
            "visibility": null,
            "width": null
          }
        },
        "e4307262db3f4c70a19bc7e5f5207384": {
          "model_module": "@jupyter-widgets/controls",
          "model_name": "DescriptionStyleModel",
          "model_module_version": "1.5.0",
          "state": {
            "_model_module": "@jupyter-widgets/controls",
            "_model_module_version": "1.5.0",
            "_model_name": "DescriptionStyleModel",
            "_view_count": null,
            "_view_module": "@jupyter-widgets/base",
            "_view_module_version": "1.2.0",
            "_view_name": "StyleView",
            "description_width": ""
          }
        },
        "9e30ad0eb2114dffb83b5f827a777d89": {
          "model_module": "@jupyter-widgets/base",
          "model_name": "LayoutModel",
          "model_module_version": "1.2.0",
          "state": {
            "_model_module": "@jupyter-widgets/base",
            "_model_module_version": "1.2.0",
            "_model_name": "LayoutModel",
            "_view_count": null,
            "_view_module": "@jupyter-widgets/base",
            "_view_module_version": "1.2.0",
            "_view_name": "LayoutView",
            "align_content": null,
            "align_items": null,
            "align_self": null,
            "border": null,
            "bottom": null,
            "display": null,
            "flex": null,
            "flex_flow": null,
            "grid_area": null,
            "grid_auto_columns": null,
            "grid_auto_flow": null,
            "grid_auto_rows": null,
            "grid_column": null,
            "grid_gap": null,
            "grid_row": null,
            "grid_template_areas": null,
            "grid_template_columns": null,
            "grid_template_rows": null,
            "height": null,
            "justify_content": null,
            "justify_items": null,
            "left": null,
            "margin": null,
            "max_height": null,
            "max_width": null,
            "min_height": null,
            "min_width": null,
            "object_fit": null,
            "object_position": null,
            "order": null,
            "overflow": null,
            "overflow_x": null,
            "overflow_y": null,
            "padding": null,
            "right": null,
            "top": null,
            "visibility": null,
            "width": null
          }
        },
        "7e816540be0347c0a7cdd8cd8c96c3d9": {
          "model_module": "@jupyter-widgets/controls",
          "model_name": "ProgressStyleModel",
          "model_module_version": "1.5.0",
          "state": {
            "_model_module": "@jupyter-widgets/controls",
            "_model_module_version": "1.5.0",
            "_model_name": "ProgressStyleModel",
            "_view_count": null,
            "_view_module": "@jupyter-widgets/base",
            "_view_module_version": "1.2.0",
            "_view_name": "StyleView",
            "bar_color": null,
            "description_width": ""
          }
        },
        "d8a5729d7c9c4f6f8d976495d77932f3": {
          "model_module": "@jupyter-widgets/base",
          "model_name": "LayoutModel",
          "model_module_version": "1.2.0",
          "state": {
            "_model_module": "@jupyter-widgets/base",
            "_model_module_version": "1.2.0",
            "_model_name": "LayoutModel",
            "_view_count": null,
            "_view_module": "@jupyter-widgets/base",
            "_view_module_version": "1.2.0",
            "_view_name": "LayoutView",
            "align_content": null,
            "align_items": null,
            "align_self": null,
            "border": null,
            "bottom": null,
            "display": null,
            "flex": null,
            "flex_flow": null,
            "grid_area": null,
            "grid_auto_columns": null,
            "grid_auto_flow": null,
            "grid_auto_rows": null,
            "grid_column": null,
            "grid_gap": null,
            "grid_row": null,
            "grid_template_areas": null,
            "grid_template_columns": null,
            "grid_template_rows": null,
            "height": null,
            "justify_content": null,
            "justify_items": null,
            "left": null,
            "margin": null,
            "max_height": null,
            "max_width": null,
            "min_height": null,
            "min_width": null,
            "object_fit": null,
            "object_position": null,
            "order": null,
            "overflow": null,
            "overflow_x": null,
            "overflow_y": null,
            "padding": null,
            "right": null,
            "top": null,
            "visibility": null,
            "width": null
          }
        },
        "c9cc77ea033c4610babb4def857747cb": {
          "model_module": "@jupyter-widgets/controls",
          "model_name": "DescriptionStyleModel",
          "model_module_version": "1.5.0",
          "state": {
            "_model_module": "@jupyter-widgets/controls",
            "_model_module_version": "1.5.0",
            "_model_name": "DescriptionStyleModel",
            "_view_count": null,
            "_view_module": "@jupyter-widgets/base",
            "_view_module_version": "1.2.0",
            "_view_name": "StyleView",
            "description_width": ""
          }
        },
        "a479761eaba54d78a55e08cc916dd3dc": {
          "model_module": "@jupyter-widgets/controls",
          "model_name": "HBoxModel",
          "model_module_version": "1.5.0",
          "state": {
            "_dom_classes": [],
            "_model_module": "@jupyter-widgets/controls",
            "_model_module_version": "1.5.0",
            "_model_name": "HBoxModel",
            "_view_count": null,
            "_view_module": "@jupyter-widgets/controls",
            "_view_module_version": "1.5.0",
            "_view_name": "HBoxView",
            "box_style": "",
            "children": [
              "IPY_MODEL_a8b0288855b445c2aa57275e5cf87b33",
              "IPY_MODEL_c072a35d605b41eb84fc6b7214cc680f",
              "IPY_MODEL_cbbc64f22db84633ad33025973d8cb22"
            ],
            "layout": "IPY_MODEL_773f530b5bdc4d27b6836354e303626c"
          }
        },
        "a8b0288855b445c2aa57275e5cf87b33": {
          "model_module": "@jupyter-widgets/controls",
          "model_name": "HTMLModel",
          "model_module_version": "1.5.0",
          "state": {
            "_dom_classes": [],
            "_model_module": "@jupyter-widgets/controls",
            "_model_module_version": "1.5.0",
            "_model_name": "HTMLModel",
            "_view_count": null,
            "_view_module": "@jupyter-widgets/controls",
            "_view_module_version": "1.5.0",
            "_view_name": "HTMLView",
            "description": "",
            "description_tooltip": null,
            "layout": "IPY_MODEL_3c118070805e4246876475a171637535",
            "placeholder": "​",
            "style": "IPY_MODEL_849158443e044193bcb39e78b51c3044",
            "value": "persian.sent.mdl: 100%"
          }
        },
        "c072a35d605b41eb84fc6b7214cc680f": {
          "model_module": "@jupyter-widgets/controls",
          "model_name": "FloatProgressModel",
          "model_module_version": "1.5.0",
          "state": {
            "_dom_classes": [],
            "_model_module": "@jupyter-widgets/controls",
            "_model_module_version": "1.5.0",
            "_model_name": "FloatProgressModel",
            "_view_count": null,
            "_view_module": "@jupyter-widgets/controls",
            "_view_module_version": "1.5.0",
            "_view_name": "ProgressView",
            "bar_style": "success",
            "description": "",
            "description_tooltip": null,
            "layout": "IPY_MODEL_4fd508bfb75d4bad889e1a003e293012",
            "max": 10426432,
            "min": 0,
            "orientation": "horizontal",
            "style": "IPY_MODEL_8872a5dbfc6e4687a5c01bdab0278888",
            "value": 10426432
          }
        },
        "cbbc64f22db84633ad33025973d8cb22": {
          "model_module": "@jupyter-widgets/controls",
          "model_name": "HTMLModel",
          "model_module_version": "1.5.0",
          "state": {
            "_dom_classes": [],
            "_model_module": "@jupyter-widgets/controls",
            "_model_module_version": "1.5.0",
            "_model_name": "HTMLModel",
            "_view_count": null,
            "_view_module": "@jupyter-widgets/controls",
            "_view_module_version": "1.5.0",
            "_view_name": "HTMLView",
            "description": "",
            "description_tooltip": null,
            "layout": "IPY_MODEL_09f1539cbbd74d65a80002ca9fbd035a",
            "placeholder": "​",
            "style": "IPY_MODEL_3655fda60cde466a989512300912ef0c",
            "value": " 10.4M/10.4M [00:00&lt;00:00, 26.1MB/s]"
          }
        },
        "773f530b5bdc4d27b6836354e303626c": {
          "model_module": "@jupyter-widgets/base",
          "model_name": "LayoutModel",
          "model_module_version": "1.2.0",
          "state": {
            "_model_module": "@jupyter-widgets/base",
            "_model_module_version": "1.2.0",
            "_model_name": "LayoutModel",
            "_view_count": null,
            "_view_module": "@jupyter-widgets/base",
            "_view_module_version": "1.2.0",
            "_view_name": "LayoutView",
            "align_content": null,
            "align_items": null,
            "align_self": null,
            "border": null,
            "bottom": null,
            "display": null,
            "flex": null,
            "flex_flow": null,
            "grid_area": null,
            "grid_auto_columns": null,
            "grid_auto_flow": null,
            "grid_auto_rows": null,
            "grid_column": null,
            "grid_gap": null,
            "grid_row": null,
            "grid_template_areas": null,
            "grid_template_columns": null,
            "grid_template_rows": null,
            "height": null,
            "justify_content": null,
            "justify_items": null,
            "left": null,
            "margin": null,
            "max_height": null,
            "max_width": null,
            "min_height": null,
            "min_width": null,
            "object_fit": null,
            "object_position": null,
            "order": null,
            "overflow": null,
            "overflow_x": null,
            "overflow_y": null,
            "padding": null,
            "right": null,
            "top": null,
            "visibility": null,
            "width": null
          }
        },
        "3c118070805e4246876475a171637535": {
          "model_module": "@jupyter-widgets/base",
          "model_name": "LayoutModel",
          "model_module_version": "1.2.0",
          "state": {
            "_model_module": "@jupyter-widgets/base",
            "_model_module_version": "1.2.0",
            "_model_name": "LayoutModel",
            "_view_count": null,
            "_view_module": "@jupyter-widgets/base",
            "_view_module_version": "1.2.0",
            "_view_name": "LayoutView",
            "align_content": null,
            "align_items": null,
            "align_self": null,
            "border": null,
            "bottom": null,
            "display": null,
            "flex": null,
            "flex_flow": null,
            "grid_area": null,
            "grid_auto_columns": null,
            "grid_auto_flow": null,
            "grid_auto_rows": null,
            "grid_column": null,
            "grid_gap": null,
            "grid_row": null,
            "grid_template_areas": null,
            "grid_template_columns": null,
            "grid_template_rows": null,
            "height": null,
            "justify_content": null,
            "justify_items": null,
            "left": null,
            "margin": null,
            "max_height": null,
            "max_width": null,
            "min_height": null,
            "min_width": null,
            "object_fit": null,
            "object_position": null,
            "order": null,
            "overflow": null,
            "overflow_x": null,
            "overflow_y": null,
            "padding": null,
            "right": null,
            "top": null,
            "visibility": null,
            "width": null
          }
        },
        "849158443e044193bcb39e78b51c3044": {
          "model_module": "@jupyter-widgets/controls",
          "model_name": "DescriptionStyleModel",
          "model_module_version": "1.5.0",
          "state": {
            "_model_module": "@jupyter-widgets/controls",
            "_model_module_version": "1.5.0",
            "_model_name": "DescriptionStyleModel",
            "_view_count": null,
            "_view_module": "@jupyter-widgets/base",
            "_view_module_version": "1.2.0",
            "_view_name": "StyleView",
            "description_width": ""
          }
        },
        "4fd508bfb75d4bad889e1a003e293012": {
          "model_module": "@jupyter-widgets/base",
          "model_name": "LayoutModel",
          "model_module_version": "1.2.0",
          "state": {
            "_model_module": "@jupyter-widgets/base",
            "_model_module_version": "1.2.0",
            "_model_name": "LayoutModel",
            "_view_count": null,
            "_view_module": "@jupyter-widgets/base",
            "_view_module_version": "1.2.0",
            "_view_name": "LayoutView",
            "align_content": null,
            "align_items": null,
            "align_self": null,
            "border": null,
            "bottom": null,
            "display": null,
            "flex": null,
            "flex_flow": null,
            "grid_area": null,
            "grid_auto_columns": null,
            "grid_auto_flow": null,
            "grid_auto_rows": null,
            "grid_column": null,
            "grid_gap": null,
            "grid_row": null,
            "grid_template_areas": null,
            "grid_template_columns": null,
            "grid_template_rows": null,
            "height": null,
            "justify_content": null,
            "justify_items": null,
            "left": null,
            "margin": null,
            "max_height": null,
            "max_width": null,
            "min_height": null,
            "min_width": null,
            "object_fit": null,
            "object_position": null,
            "order": null,
            "overflow": null,
            "overflow_x": null,
            "overflow_y": null,
            "padding": null,
            "right": null,
            "top": null,
            "visibility": null,
            "width": null
          }
        },
        "8872a5dbfc6e4687a5c01bdab0278888": {
          "model_module": "@jupyter-widgets/controls",
          "model_name": "ProgressStyleModel",
          "model_module_version": "1.5.0",
          "state": {
            "_model_module": "@jupyter-widgets/controls",
            "_model_module_version": "1.5.0",
            "_model_name": "ProgressStyleModel",
            "_view_count": null,
            "_view_module": "@jupyter-widgets/base",
            "_view_module_version": "1.2.0",
            "_view_name": "StyleView",
            "bar_color": null,
            "description_width": ""
          }
        },
        "09f1539cbbd74d65a80002ca9fbd035a": {
          "model_module": "@jupyter-widgets/base",
          "model_name": "LayoutModel",
          "model_module_version": "1.2.0",
          "state": {
            "_model_module": "@jupyter-widgets/base",
            "_model_module_version": "1.2.0",
            "_model_name": "LayoutModel",
            "_view_count": null,
            "_view_module": "@jupyter-widgets/base",
            "_view_module_version": "1.2.0",
            "_view_name": "LayoutView",
            "align_content": null,
            "align_items": null,
            "align_self": null,
            "border": null,
            "bottom": null,
            "display": null,
            "flex": null,
            "flex_flow": null,
            "grid_area": null,
            "grid_auto_columns": null,
            "grid_auto_flow": null,
            "grid_auto_rows": null,
            "grid_column": null,
            "grid_gap": null,
            "grid_row": null,
            "grid_template_areas": null,
            "grid_template_columns": null,
            "grid_template_rows": null,
            "height": null,
            "justify_content": null,
            "justify_items": null,
            "left": null,
            "margin": null,
            "max_height": null,
            "max_width": null,
            "min_height": null,
            "min_width": null,
            "object_fit": null,
            "object_position": null,
            "order": null,
            "overflow": null,
            "overflow_x": null,
            "overflow_y": null,
            "padding": null,
            "right": null,
            "top": null,
            "visibility": null,
            "width": null
          }
        },
        "3655fda60cde466a989512300912ef0c": {
          "model_module": "@jupyter-widgets/controls",
          "model_name": "DescriptionStyleModel",
          "model_module_version": "1.5.0",
          "state": {
            "_model_module": "@jupyter-widgets/controls",
            "_model_module_version": "1.5.0",
            "_model_name": "DescriptionStyleModel",
            "_view_count": null,
            "_view_module": "@jupyter-widgets/base",
            "_view_module_version": "1.2.0",
            "_view_name": "StyleView",
            "description_width": ""
          }
        },
        "26099daeca5042a6a7a8d07e591abd34": {
          "model_module": "@jupyter-widgets/controls",
          "model_name": "HBoxModel",
          "model_module_version": "1.5.0",
          "state": {
            "_dom_classes": [],
            "_model_module": "@jupyter-widgets/controls",
            "_model_module_version": "1.5.0",
            "_model_name": "HBoxModel",
            "_view_count": null,
            "_view_module": "@jupyter-widgets/controls",
            "_view_module_version": "1.5.0",
            "_view_name": "HBoxView",
            "box_style": "",
            "children": [
              "IPY_MODEL_4d7d2b947d6b40cca1f36edace9e2fbf",
              "IPY_MODEL_09ec7cde0e47489f918817e0c79c162f",
              "IPY_MODEL_ab52df5fb2284464b378bcc414749ed1"
            ],
            "layout": "IPY_MODEL_0cd1ac1aefce4ffca3936b3d5069820e"
          }
        },
        "4d7d2b947d6b40cca1f36edace9e2fbf": {
          "model_module": "@jupyter-widgets/controls",
          "model_name": "HTMLModel",
          "model_module_version": "1.5.0",
          "state": {
            "_dom_classes": [],
            "_model_module": "@jupyter-widgets/controls",
            "_model_module_version": "1.5.0",
            "_model_name": "HTMLModel",
            "_view_count": null,
            "_view_module": "@jupyter-widgets/controls",
            "_view_module_version": "1.5.0",
            "_view_name": "HTMLView",
            "description": "",
            "description_tooltip": null,
            "layout": "IPY_MODEL_4aad76fcbe3843b4987dbb4677eb5fad",
            "placeholder": "​",
            "style": "IPY_MODEL_15db452d94834dfbabf2e0ee8c4e960c",
            "value": "config.json: 100%"
          }
        },
        "09ec7cde0e47489f918817e0c79c162f": {
          "model_module": "@jupyter-widgets/controls",
          "model_name": "FloatProgressModel",
          "model_module_version": "1.5.0",
          "state": {
            "_dom_classes": [],
            "_model_module": "@jupyter-widgets/controls",
            "_model_module_version": "1.5.0",
            "_model_name": "FloatProgressModel",
            "_view_count": null,
            "_view_module": "@jupyter-widgets/controls",
            "_view_module_version": "1.5.0",
            "_view_name": "ProgressView",
            "bar_style": "success",
            "description": "",
            "description_tooltip": null,
            "layout": "IPY_MODEL_d16e94dd52194768a48406b791c2664b",
            "max": 841,
            "min": 0,
            "orientation": "horizontal",
            "style": "IPY_MODEL_1e29b4bf7f7b46a8b5847d652416c768",
            "value": 841
          }
        },
        "ab52df5fb2284464b378bcc414749ed1": {
          "model_module": "@jupyter-widgets/controls",
          "model_name": "HTMLModel",
          "model_module_version": "1.5.0",
          "state": {
            "_dom_classes": [],
            "_model_module": "@jupyter-widgets/controls",
            "_model_module_version": "1.5.0",
            "_model_name": "HTMLModel",
            "_view_count": null,
            "_view_module": "@jupyter-widgets/controls",
            "_view_module_version": "1.5.0",
            "_view_name": "HTMLView",
            "description": "",
            "description_tooltip": null,
            "layout": "IPY_MODEL_121cd93b65e644578b00eb9ea9ddcd43",
            "placeholder": "​",
            "style": "IPY_MODEL_31fe16d5dbd64505b14075d6591434b8",
            "value": " 841/841 [00:00&lt;00:00, 42.9kB/s]"
          }
        },
        "0cd1ac1aefce4ffca3936b3d5069820e": {
          "model_module": "@jupyter-widgets/base",
          "model_name": "LayoutModel",
          "model_module_version": "1.2.0",
          "state": {
            "_model_module": "@jupyter-widgets/base",
            "_model_module_version": "1.2.0",
            "_model_name": "LayoutModel",
            "_view_count": null,
            "_view_module": "@jupyter-widgets/base",
            "_view_module_version": "1.2.0",
            "_view_name": "LayoutView",
            "align_content": null,
            "align_items": null,
            "align_self": null,
            "border": null,
            "bottom": null,
            "display": null,
            "flex": null,
            "flex_flow": null,
            "grid_area": null,
            "grid_auto_columns": null,
            "grid_auto_flow": null,
            "grid_auto_rows": null,
            "grid_column": null,
            "grid_gap": null,
            "grid_row": null,
            "grid_template_areas": null,
            "grid_template_columns": null,
            "grid_template_rows": null,
            "height": null,
            "justify_content": null,
            "justify_items": null,
            "left": null,
            "margin": null,
            "max_height": null,
            "max_width": null,
            "min_height": null,
            "min_width": null,
            "object_fit": null,
            "object_position": null,
            "order": null,
            "overflow": null,
            "overflow_x": null,
            "overflow_y": null,
            "padding": null,
            "right": null,
            "top": null,
            "visibility": null,
            "width": null
          }
        },
        "4aad76fcbe3843b4987dbb4677eb5fad": {
          "model_module": "@jupyter-widgets/base",
          "model_name": "LayoutModel",
          "model_module_version": "1.2.0",
          "state": {
            "_model_module": "@jupyter-widgets/base",
            "_model_module_version": "1.2.0",
            "_model_name": "LayoutModel",
            "_view_count": null,
            "_view_module": "@jupyter-widgets/base",
            "_view_module_version": "1.2.0",
            "_view_name": "LayoutView",
            "align_content": null,
            "align_items": null,
            "align_self": null,
            "border": null,
            "bottom": null,
            "display": null,
            "flex": null,
            "flex_flow": null,
            "grid_area": null,
            "grid_auto_columns": null,
            "grid_auto_flow": null,
            "grid_auto_rows": null,
            "grid_column": null,
            "grid_gap": null,
            "grid_row": null,
            "grid_template_areas": null,
            "grid_template_columns": null,
            "grid_template_rows": null,
            "height": null,
            "justify_content": null,
            "justify_items": null,
            "left": null,
            "margin": null,
            "max_height": null,
            "max_width": null,
            "min_height": null,
            "min_width": null,
            "object_fit": null,
            "object_position": null,
            "order": null,
            "overflow": null,
            "overflow_x": null,
            "overflow_y": null,
            "padding": null,
            "right": null,
            "top": null,
            "visibility": null,
            "width": null
          }
        },
        "15db452d94834dfbabf2e0ee8c4e960c": {
          "model_module": "@jupyter-widgets/controls",
          "model_name": "DescriptionStyleModel",
          "model_module_version": "1.5.0",
          "state": {
            "_model_module": "@jupyter-widgets/controls",
            "_model_module_version": "1.5.0",
            "_model_name": "DescriptionStyleModel",
            "_view_count": null,
            "_view_module": "@jupyter-widgets/base",
            "_view_module_version": "1.2.0",
            "_view_name": "StyleView",
            "description_width": ""
          }
        },
        "d16e94dd52194768a48406b791c2664b": {
          "model_module": "@jupyter-widgets/base",
          "model_name": "LayoutModel",
          "model_module_version": "1.2.0",
          "state": {
            "_model_module": "@jupyter-widgets/base",
            "_model_module_version": "1.2.0",
            "_model_name": "LayoutModel",
            "_view_count": null,
            "_view_module": "@jupyter-widgets/base",
            "_view_module_version": "1.2.0",
            "_view_name": "LayoutView",
            "align_content": null,
            "align_items": null,
            "align_self": null,
            "border": null,
            "bottom": null,
            "display": null,
            "flex": null,
            "flex_flow": null,
            "grid_area": null,
            "grid_auto_columns": null,
            "grid_auto_flow": null,
            "grid_auto_rows": null,
            "grid_column": null,
            "grid_gap": null,
            "grid_row": null,
            "grid_template_areas": null,
            "grid_template_columns": null,
            "grid_template_rows": null,
            "height": null,
            "justify_content": null,
            "justify_items": null,
            "left": null,
            "margin": null,
            "max_height": null,
            "max_width": null,
            "min_height": null,
            "min_width": null,
            "object_fit": null,
            "object_position": null,
            "order": null,
            "overflow": null,
            "overflow_x": null,
            "overflow_y": null,
            "padding": null,
            "right": null,
            "top": null,
            "visibility": null,
            "width": null
          }
        },
        "1e29b4bf7f7b46a8b5847d652416c768": {
          "model_module": "@jupyter-widgets/controls",
          "model_name": "ProgressStyleModel",
          "model_module_version": "1.5.0",
          "state": {
            "_model_module": "@jupyter-widgets/controls",
            "_model_module_version": "1.5.0",
            "_model_name": "ProgressStyleModel",
            "_view_count": null,
            "_view_module": "@jupyter-widgets/base",
            "_view_module_version": "1.2.0",
            "_view_name": "StyleView",
            "bar_color": null,
            "description_width": ""
          }
        },
        "121cd93b65e644578b00eb9ea9ddcd43": {
          "model_module": "@jupyter-widgets/base",
          "model_name": "LayoutModel",
          "model_module_version": "1.2.0",
          "state": {
            "_model_module": "@jupyter-widgets/base",
            "_model_module_version": "1.2.0",
            "_model_name": "LayoutModel",
            "_view_count": null,
            "_view_module": "@jupyter-widgets/base",
            "_view_module_version": "1.2.0",
            "_view_name": "LayoutView",
            "align_content": null,
            "align_items": null,
            "align_self": null,
            "border": null,
            "bottom": null,
            "display": null,
            "flex": null,
            "flex_flow": null,
            "grid_area": null,
            "grid_auto_columns": null,
            "grid_auto_flow": null,
            "grid_auto_rows": null,
            "grid_column": null,
            "grid_gap": null,
            "grid_row": null,
            "grid_template_areas": null,
            "grid_template_columns": null,
            "grid_template_rows": null,
            "height": null,
            "justify_content": null,
            "justify_items": null,
            "left": null,
            "margin": null,
            "max_height": null,
            "max_width": null,
            "min_height": null,
            "min_width": null,
            "object_fit": null,
            "object_position": null,
            "order": null,
            "overflow": null,
            "overflow_x": null,
            "overflow_y": null,
            "padding": null,
            "right": null,
            "top": null,
            "visibility": null,
            "width": null
          }
        },
        "31fe16d5dbd64505b14075d6591434b8": {
          "model_module": "@jupyter-widgets/controls",
          "model_name": "DescriptionStyleModel",
          "model_module_version": "1.5.0",
          "state": {
            "_model_module": "@jupyter-widgets/controls",
            "_model_module_version": "1.5.0",
            "_model_name": "DescriptionStyleModel",
            "_view_count": null,
            "_view_module": "@jupyter-widgets/base",
            "_view_module_version": "1.2.0",
            "_view_name": "StyleView",
            "description_width": ""
          }
        },
        "9b0f1700a35b429aa817155d39c802ee": {
          "model_module": "@jupyter-widgets/controls",
          "model_name": "HBoxModel",
          "model_module_version": "1.5.0",
          "state": {
            "_dom_classes": [],
            "_model_module": "@jupyter-widgets/controls",
            "_model_module_version": "1.5.0",
            "_model_name": "HBoxModel",
            "_view_count": null,
            "_view_module": "@jupyter-widgets/controls",
            "_view_module_version": "1.5.0",
            "_view_name": "HBoxView",
            "box_style": "",
            "children": [
              "IPY_MODEL_f8ffcc4a18e44aa383f88dca3dadfe5f",
              "IPY_MODEL_7564082d07ba4d078c2b64bf8feac6ac",
              "IPY_MODEL_ba9d83c50a68441b8604a959dbc547c3"
            ],
            "layout": "IPY_MODEL_bef3af0af4234810a44ffedc609a95f2"
          }
        },
        "f8ffcc4a18e44aa383f88dca3dadfe5f": {
          "model_module": "@jupyter-widgets/controls",
          "model_name": "HTMLModel",
          "model_module_version": "1.5.0",
          "state": {
            "_dom_classes": [],
            "_model_module": "@jupyter-widgets/controls",
            "_model_module_version": "1.5.0",
            "_model_name": "HTMLModel",
            "_view_count": null,
            "_view_module": "@jupyter-widgets/controls",
            "_view_module_version": "1.5.0",
            "_view_name": "HTMLView",
            "description": "",
            "description_tooltip": null,
            "layout": "IPY_MODEL_0cfba1b5245f48e1843049887f0b3289",
            "placeholder": "​",
            "style": "IPY_MODEL_0d96bc35dc81477fb0b062d3562df786",
            "value": "pytorch_model.bin: 100%"
          }
        },
        "7564082d07ba4d078c2b64bf8feac6ac": {
          "model_module": "@jupyter-widgets/controls",
          "model_name": "FloatProgressModel",
          "model_module_version": "1.5.0",
          "state": {
            "_dom_classes": [],
            "_model_module": "@jupyter-widgets/controls",
            "_model_module_version": "1.5.0",
            "_model_name": "FloatProgressModel",
            "_view_count": null,
            "_view_module": "@jupyter-widgets/controls",
            "_view_module_version": "1.5.0",
            "_view_name": "ProgressView",
            "bar_style": "success",
            "description": "",
            "description_tooltip": null,
            "layout": "IPY_MODEL_56bd64f815e8479a802df3f5006e9c9f",
            "max": 1112271561,
            "min": 0,
            "orientation": "horizontal",
            "style": "IPY_MODEL_9e410fe171b24aee9c95af1bf9c91626",
            "value": 1112271561
          }
        },
        "ba9d83c50a68441b8604a959dbc547c3": {
          "model_module": "@jupyter-widgets/controls",
          "model_name": "HTMLModel",
          "model_module_version": "1.5.0",
          "state": {
            "_dom_classes": [],
            "_model_module": "@jupyter-widgets/controls",
            "_model_module_version": "1.5.0",
            "_model_name": "HTMLModel",
            "_view_count": null,
            "_view_module": "@jupyter-widgets/controls",
            "_view_module_version": "1.5.0",
            "_view_name": "HTMLView",
            "description": "",
            "description_tooltip": null,
            "layout": "IPY_MODEL_5f40693f62c24712b15394f83f4d1f88",
            "placeholder": "​",
            "style": "IPY_MODEL_6a4539d6dfc54ca3bf8dbcbe531c3df2",
            "value": " 1.11G/1.11G [00:25&lt;00:00, 27.7MB/s]"
          }
        },
        "bef3af0af4234810a44ffedc609a95f2": {
          "model_module": "@jupyter-widgets/base",
          "model_name": "LayoutModel",
          "model_module_version": "1.2.0",
          "state": {
            "_model_module": "@jupyter-widgets/base",
            "_model_module_version": "1.2.0",
            "_model_name": "LayoutModel",
            "_view_count": null,
            "_view_module": "@jupyter-widgets/base",
            "_view_module_version": "1.2.0",
            "_view_name": "LayoutView",
            "align_content": null,
            "align_items": null,
            "align_self": null,
            "border": null,
            "bottom": null,
            "display": null,
            "flex": null,
            "flex_flow": null,
            "grid_area": null,
            "grid_auto_columns": null,
            "grid_auto_flow": null,
            "grid_auto_rows": null,
            "grid_column": null,
            "grid_gap": null,
            "grid_row": null,
            "grid_template_areas": null,
            "grid_template_columns": null,
            "grid_template_rows": null,
            "height": null,
            "justify_content": null,
            "justify_items": null,
            "left": null,
            "margin": null,
            "max_height": null,
            "max_width": null,
            "min_height": null,
            "min_width": null,
            "object_fit": null,
            "object_position": null,
            "order": null,
            "overflow": null,
            "overflow_x": null,
            "overflow_y": null,
            "padding": null,
            "right": null,
            "top": null,
            "visibility": null,
            "width": null
          }
        },
        "0cfba1b5245f48e1843049887f0b3289": {
          "model_module": "@jupyter-widgets/base",
          "model_name": "LayoutModel",
          "model_module_version": "1.2.0",
          "state": {
            "_model_module": "@jupyter-widgets/base",
            "_model_module_version": "1.2.0",
            "_model_name": "LayoutModel",
            "_view_count": null,
            "_view_module": "@jupyter-widgets/base",
            "_view_module_version": "1.2.0",
            "_view_name": "LayoutView",
            "align_content": null,
            "align_items": null,
            "align_self": null,
            "border": null,
            "bottom": null,
            "display": null,
            "flex": null,
            "flex_flow": null,
            "grid_area": null,
            "grid_auto_columns": null,
            "grid_auto_flow": null,
            "grid_auto_rows": null,
            "grid_column": null,
            "grid_gap": null,
            "grid_row": null,
            "grid_template_areas": null,
            "grid_template_columns": null,
            "grid_template_rows": null,
            "height": null,
            "justify_content": null,
            "justify_items": null,
            "left": null,
            "margin": null,
            "max_height": null,
            "max_width": null,
            "min_height": null,
            "min_width": null,
            "object_fit": null,
            "object_position": null,
            "order": null,
            "overflow": null,
            "overflow_x": null,
            "overflow_y": null,
            "padding": null,
            "right": null,
            "top": null,
            "visibility": null,
            "width": null
          }
        },
        "0d96bc35dc81477fb0b062d3562df786": {
          "model_module": "@jupyter-widgets/controls",
          "model_name": "DescriptionStyleModel",
          "model_module_version": "1.5.0",
          "state": {
            "_model_module": "@jupyter-widgets/controls",
            "_model_module_version": "1.5.0",
            "_model_name": "DescriptionStyleModel",
            "_view_count": null,
            "_view_module": "@jupyter-widgets/base",
            "_view_module_version": "1.2.0",
            "_view_name": "StyleView",
            "description_width": ""
          }
        },
        "56bd64f815e8479a802df3f5006e9c9f": {
          "model_module": "@jupyter-widgets/base",
          "model_name": "LayoutModel",
          "model_module_version": "1.2.0",
          "state": {
            "_model_module": "@jupyter-widgets/base",
            "_model_module_version": "1.2.0",
            "_model_name": "LayoutModel",
            "_view_count": null,
            "_view_module": "@jupyter-widgets/base",
            "_view_module_version": "1.2.0",
            "_view_name": "LayoutView",
            "align_content": null,
            "align_items": null,
            "align_self": null,
            "border": null,
            "bottom": null,
            "display": null,
            "flex": null,
            "flex_flow": null,
            "grid_area": null,
            "grid_auto_columns": null,
            "grid_auto_flow": null,
            "grid_auto_rows": null,
            "grid_column": null,
            "grid_gap": null,
            "grid_row": null,
            "grid_template_areas": null,
            "grid_template_columns": null,
            "grid_template_rows": null,
            "height": null,
            "justify_content": null,
            "justify_items": null,
            "left": null,
            "margin": null,
            "max_height": null,
            "max_width": null,
            "min_height": null,
            "min_width": null,
            "object_fit": null,
            "object_position": null,
            "order": null,
            "overflow": null,
            "overflow_x": null,
            "overflow_y": null,
            "padding": null,
            "right": null,
            "top": null,
            "visibility": null,
            "width": null
          }
        },
        "9e410fe171b24aee9c95af1bf9c91626": {
          "model_module": "@jupyter-widgets/controls",
          "model_name": "ProgressStyleModel",
          "model_module_version": "1.5.0",
          "state": {
            "_model_module": "@jupyter-widgets/controls",
            "_model_module_version": "1.5.0",
            "_model_name": "ProgressStyleModel",
            "_view_count": null,
            "_view_module": "@jupyter-widgets/base",
            "_view_module_version": "1.2.0",
            "_view_name": "StyleView",
            "bar_color": null,
            "description_width": ""
          }
        },
        "5f40693f62c24712b15394f83f4d1f88": {
          "model_module": "@jupyter-widgets/base",
          "model_name": "LayoutModel",
          "model_module_version": "1.2.0",
          "state": {
            "_model_module": "@jupyter-widgets/base",
            "_model_module_version": "1.2.0",
            "_model_name": "LayoutModel",
            "_view_count": null,
            "_view_module": "@jupyter-widgets/base",
            "_view_module_version": "1.2.0",
            "_view_name": "LayoutView",
            "align_content": null,
            "align_items": null,
            "align_self": null,
            "border": null,
            "bottom": null,
            "display": null,
            "flex": null,
            "flex_flow": null,
            "grid_area": null,
            "grid_auto_columns": null,
            "grid_auto_flow": null,
            "grid_auto_rows": null,
            "grid_column": null,
            "grid_gap": null,
            "grid_row": null,
            "grid_template_areas": null,
            "grid_template_columns": null,
            "grid_template_rows": null,
            "height": null,
            "justify_content": null,
            "justify_items": null,
            "left": null,
            "margin": null,
            "max_height": null,
            "max_width": null,
            "min_height": null,
            "min_width": null,
            "object_fit": null,
            "object_position": null,
            "order": null,
            "overflow": null,
            "overflow_x": null,
            "overflow_y": null,
            "padding": null,
            "right": null,
            "top": null,
            "visibility": null,
            "width": null
          }
        },
        "6a4539d6dfc54ca3bf8dbcbe531c3df2": {
          "model_module": "@jupyter-widgets/controls",
          "model_name": "DescriptionStyleModel",
          "model_module_version": "1.5.0",
          "state": {
            "_model_module": "@jupyter-widgets/controls",
            "_model_module_version": "1.5.0",
            "_model_name": "DescriptionStyleModel",
            "_view_count": null,
            "_view_module": "@jupyter-widgets/base",
            "_view_module_version": "1.2.0",
            "_view_name": "StyleView",
            "description_width": ""
          }
        },
        "c580ce7e33e64049aa236a9507a6a9c0": {
          "model_module": "@jupyter-widgets/controls",
          "model_name": "HBoxModel",
          "model_module_version": "1.5.0",
          "state": {
            "_dom_classes": [],
            "_model_module": "@jupyter-widgets/controls",
            "_model_module_version": "1.5.0",
            "_model_name": "HBoxModel",
            "_view_count": null,
            "_view_module": "@jupyter-widgets/controls",
            "_view_module_version": "1.5.0",
            "_view_name": "HBoxView",
            "box_style": "",
            "children": [
              "IPY_MODEL_9ee2995d70c04af9b9d0494cc44b56ab",
              "IPY_MODEL_e1718c542c804430a8da2cfcc0b9acb0",
              "IPY_MODEL_b48c1b8485db4550b8e88cc29de4ce44"
            ],
            "layout": "IPY_MODEL_96cbf558bf1d45cdbd8dd19f71a558ef"
          }
        },
        "9ee2995d70c04af9b9d0494cc44b56ab": {
          "model_module": "@jupyter-widgets/controls",
          "model_name": "HTMLModel",
          "model_module_version": "1.5.0",
          "state": {
            "_dom_classes": [],
            "_model_module": "@jupyter-widgets/controls",
            "_model_module_version": "1.5.0",
            "_model_name": "HTMLModel",
            "_view_count": null,
            "_view_module": "@jupyter-widgets/controls",
            "_view_module_version": "1.5.0",
            "_view_name": "HTMLView",
            "description": "",
            "description_tooltip": null,
            "layout": "IPY_MODEL_3adce62b43c0437ba5e41a71eb8622b7",
            "placeholder": "​",
            "style": "IPY_MODEL_3907e4ac8566419a83c4c08ce99acadb",
            "value": "sentencepiece.bpe.model: 100%"
          }
        },
        "e1718c542c804430a8da2cfcc0b9acb0": {
          "model_module": "@jupyter-widgets/controls",
          "model_name": "FloatProgressModel",
          "model_module_version": "1.5.0",
          "state": {
            "_dom_classes": [],
            "_model_module": "@jupyter-widgets/controls",
            "_model_module_version": "1.5.0",
            "_model_name": "FloatProgressModel",
            "_view_count": null,
            "_view_module": "@jupyter-widgets/controls",
            "_view_module_version": "1.5.0",
            "_view_name": "ProgressView",
            "bar_style": "success",
            "description": "",
            "description_tooltip": null,
            "layout": "IPY_MODEL_5e93e886491f430f82a31e392e434525",
            "max": 5069051,
            "min": 0,
            "orientation": "horizontal",
            "style": "IPY_MODEL_8b577b0a0ad0465e9a345e914fdba4fd",
            "value": 5069051
          }
        },
        "b48c1b8485db4550b8e88cc29de4ce44": {
          "model_module": "@jupyter-widgets/controls",
          "model_name": "HTMLModel",
          "model_module_version": "1.5.0",
          "state": {
            "_dom_classes": [],
            "_model_module": "@jupyter-widgets/controls",
            "_model_module_version": "1.5.0",
            "_model_name": "HTMLModel",
            "_view_count": null,
            "_view_module": "@jupyter-widgets/controls",
            "_view_module_version": "1.5.0",
            "_view_name": "HTMLView",
            "description": "",
            "description_tooltip": null,
            "layout": "IPY_MODEL_e1735cbfe59e4451b3e2e207ef2072f4",
            "placeholder": "​",
            "style": "IPY_MODEL_4fc7dc456592436db76b2aecc409156c",
            "value": " 5.07M/5.07M [00:00&lt;00:00, 15.3MB/s]"
          }
        },
        "96cbf558bf1d45cdbd8dd19f71a558ef": {
          "model_module": "@jupyter-widgets/base",
          "model_name": "LayoutModel",
          "model_module_version": "1.2.0",
          "state": {
            "_model_module": "@jupyter-widgets/base",
            "_model_module_version": "1.2.0",
            "_model_name": "LayoutModel",
            "_view_count": null,
            "_view_module": "@jupyter-widgets/base",
            "_view_module_version": "1.2.0",
            "_view_name": "LayoutView",
            "align_content": null,
            "align_items": null,
            "align_self": null,
            "border": null,
            "bottom": null,
            "display": null,
            "flex": null,
            "flex_flow": null,
            "grid_area": null,
            "grid_auto_columns": null,
            "grid_auto_flow": null,
            "grid_auto_rows": null,
            "grid_column": null,
            "grid_gap": null,
            "grid_row": null,
            "grid_template_areas": null,
            "grid_template_columns": null,
            "grid_template_rows": null,
            "height": null,
            "justify_content": null,
            "justify_items": null,
            "left": null,
            "margin": null,
            "max_height": null,
            "max_width": null,
            "min_height": null,
            "min_width": null,
            "object_fit": null,
            "object_position": null,
            "order": null,
            "overflow": null,
            "overflow_x": null,
            "overflow_y": null,
            "padding": null,
            "right": null,
            "top": null,
            "visibility": null,
            "width": null
          }
        },
        "3adce62b43c0437ba5e41a71eb8622b7": {
          "model_module": "@jupyter-widgets/base",
          "model_name": "LayoutModel",
          "model_module_version": "1.2.0",
          "state": {
            "_model_module": "@jupyter-widgets/base",
            "_model_module_version": "1.2.0",
            "_model_name": "LayoutModel",
            "_view_count": null,
            "_view_module": "@jupyter-widgets/base",
            "_view_module_version": "1.2.0",
            "_view_name": "LayoutView",
            "align_content": null,
            "align_items": null,
            "align_self": null,
            "border": null,
            "bottom": null,
            "display": null,
            "flex": null,
            "flex_flow": null,
            "grid_area": null,
            "grid_auto_columns": null,
            "grid_auto_flow": null,
            "grid_auto_rows": null,
            "grid_column": null,
            "grid_gap": null,
            "grid_row": null,
            "grid_template_areas": null,
            "grid_template_columns": null,
            "grid_template_rows": null,
            "height": null,
            "justify_content": null,
            "justify_items": null,
            "left": null,
            "margin": null,
            "max_height": null,
            "max_width": null,
            "min_height": null,
            "min_width": null,
            "object_fit": null,
            "object_position": null,
            "order": null,
            "overflow": null,
            "overflow_x": null,
            "overflow_y": null,
            "padding": null,
            "right": null,
            "top": null,
            "visibility": null,
            "width": null
          }
        },
        "3907e4ac8566419a83c4c08ce99acadb": {
          "model_module": "@jupyter-widgets/controls",
          "model_name": "DescriptionStyleModel",
          "model_module_version": "1.5.0",
          "state": {
            "_model_module": "@jupyter-widgets/controls",
            "_model_module_version": "1.5.0",
            "_model_name": "DescriptionStyleModel",
            "_view_count": null,
            "_view_module": "@jupyter-widgets/base",
            "_view_module_version": "1.2.0",
            "_view_name": "StyleView",
            "description_width": ""
          }
        },
        "5e93e886491f430f82a31e392e434525": {
          "model_module": "@jupyter-widgets/base",
          "model_name": "LayoutModel",
          "model_module_version": "1.2.0",
          "state": {
            "_model_module": "@jupyter-widgets/base",
            "_model_module_version": "1.2.0",
            "_model_name": "LayoutModel",
            "_view_count": null,
            "_view_module": "@jupyter-widgets/base",
            "_view_module_version": "1.2.0",
            "_view_name": "LayoutView",
            "align_content": null,
            "align_items": null,
            "align_self": null,
            "border": null,
            "bottom": null,
            "display": null,
            "flex": null,
            "flex_flow": null,
            "grid_area": null,
            "grid_auto_columns": null,
            "grid_auto_flow": null,
            "grid_auto_rows": null,
            "grid_column": null,
            "grid_gap": null,
            "grid_row": null,
            "grid_template_areas": null,
            "grid_template_columns": null,
            "grid_template_rows": null,
            "height": null,
            "justify_content": null,
            "justify_items": null,
            "left": null,
            "margin": null,
            "max_height": null,
            "max_width": null,
            "min_height": null,
            "min_width": null,
            "object_fit": null,
            "object_position": null,
            "order": null,
            "overflow": null,
            "overflow_x": null,
            "overflow_y": null,
            "padding": null,
            "right": null,
            "top": null,
            "visibility": null,
            "width": null
          }
        },
        "8b577b0a0ad0465e9a345e914fdba4fd": {
          "model_module": "@jupyter-widgets/controls",
          "model_name": "ProgressStyleModel",
          "model_module_version": "1.5.0",
          "state": {
            "_model_module": "@jupyter-widgets/controls",
            "_model_module_version": "1.5.0",
            "_model_name": "ProgressStyleModel",
            "_view_count": null,
            "_view_module": "@jupyter-widgets/base",
            "_view_module_version": "1.2.0",
            "_view_name": "StyleView",
            "bar_color": null,
            "description_width": ""
          }
        },
        "e1735cbfe59e4451b3e2e207ef2072f4": {
          "model_module": "@jupyter-widgets/base",
          "model_name": "LayoutModel",
          "model_module_version": "1.2.0",
          "state": {
            "_model_module": "@jupyter-widgets/base",
            "_model_module_version": "1.2.0",
            "_model_name": "LayoutModel",
            "_view_count": null,
            "_view_module": "@jupyter-widgets/base",
            "_view_module_version": "1.2.0",
            "_view_name": "LayoutView",
            "align_content": null,
            "align_items": null,
            "align_self": null,
            "border": null,
            "bottom": null,
            "display": null,
            "flex": null,
            "flex_flow": null,
            "grid_area": null,
            "grid_auto_columns": null,
            "grid_auto_flow": null,
            "grid_auto_rows": null,
            "grid_column": null,
            "grid_gap": null,
            "grid_row": null,
            "grid_template_areas": null,
            "grid_template_columns": null,
            "grid_template_rows": null,
            "height": null,
            "justify_content": null,
            "justify_items": null,
            "left": null,
            "margin": null,
            "max_height": null,
            "max_width": null,
            "min_height": null,
            "min_width": null,
            "object_fit": null,
            "object_position": null,
            "order": null,
            "overflow": null,
            "overflow_x": null,
            "overflow_y": null,
            "padding": null,
            "right": null,
            "top": null,
            "visibility": null,
            "width": null
          }
        },
        "4fc7dc456592436db76b2aecc409156c": {
          "model_module": "@jupyter-widgets/controls",
          "model_name": "DescriptionStyleModel",
          "model_module_version": "1.5.0",
          "state": {
            "_model_module": "@jupyter-widgets/controls",
            "_model_module_version": "1.5.0",
            "_model_name": "DescriptionStyleModel",
            "_view_count": null,
            "_view_module": "@jupyter-widgets/base",
            "_view_module_version": "1.2.0",
            "_view_name": "StyleView",
            "description_width": ""
          }
        },
        "e35b78852ac0463ba81d2a8a945c37cb": {
          "model_module": "@jupyter-widgets/controls",
          "model_name": "HBoxModel",
          "model_module_version": "1.5.0",
          "state": {
            "_dom_classes": [],
            "_model_module": "@jupyter-widgets/controls",
            "_model_module_version": "1.5.0",
            "_model_name": "HBoxModel",
            "_view_count": null,
            "_view_module": "@jupyter-widgets/controls",
            "_view_module_version": "1.5.0",
            "_view_name": "HBoxView",
            "box_style": "",
            "children": [
              "IPY_MODEL_0f7d9bbef04f42c68196768d0ea3bb11",
              "IPY_MODEL_5941a0627d224dd0a626bb15582841ae",
              "IPY_MODEL_2e0069b593654b28ae7e9ac843508ec2"
            ],
            "layout": "IPY_MODEL_2711d08810a4412b9aaaf28c8bd7da83"
          }
        },
        "0f7d9bbef04f42c68196768d0ea3bb11": {
          "model_module": "@jupyter-widgets/controls",
          "model_name": "HTMLModel",
          "model_module_version": "1.5.0",
          "state": {
            "_dom_classes": [],
            "_model_module": "@jupyter-widgets/controls",
            "_model_module_version": "1.5.0",
            "_model_name": "HTMLModel",
            "_view_count": null,
            "_view_module": "@jupyter-widgets/controls",
            "_view_module_version": "1.5.0",
            "_view_name": "HTMLView",
            "description": "",
            "description_tooltip": null,
            "layout": "IPY_MODEL_0a666364642b4660836f952a6f2e8270",
            "placeholder": "​",
            "style": "IPY_MODEL_17d8732a67e54f1997b48e95ea125c4e",
            "value": "special_tokens_map.json: 100%"
          }
        },
        "5941a0627d224dd0a626bb15582841ae": {
          "model_module": "@jupyter-widgets/controls",
          "model_name": "FloatProgressModel",
          "model_module_version": "1.5.0",
          "state": {
            "_dom_classes": [],
            "_model_module": "@jupyter-widgets/controls",
            "_model_module_version": "1.5.0",
            "_model_name": "FloatProgressModel",
            "_view_count": null,
            "_view_module": "@jupyter-widgets/controls",
            "_view_module_version": "1.5.0",
            "_view_name": "ProgressView",
            "bar_style": "success",
            "description": "",
            "description_tooltip": null,
            "layout": "IPY_MODEL_f310e8938f1842fe9296b3c4fd1a7338",
            "max": 150,
            "min": 0,
            "orientation": "horizontal",
            "style": "IPY_MODEL_217303e40ccf4b39ae0e6d687c2f4683",
            "value": 150
          }
        },
        "2e0069b593654b28ae7e9ac843508ec2": {
          "model_module": "@jupyter-widgets/controls",
          "model_name": "HTMLModel",
          "model_module_version": "1.5.0",
          "state": {
            "_dom_classes": [],
            "_model_module": "@jupyter-widgets/controls",
            "_model_module_version": "1.5.0",
            "_model_name": "HTMLModel",
            "_view_count": null,
            "_view_module": "@jupyter-widgets/controls",
            "_view_module_version": "1.5.0",
            "_view_name": "HTMLView",
            "description": "",
            "description_tooltip": null,
            "layout": "IPY_MODEL_940363e0165649aab8488172e65ccff3",
            "placeholder": "​",
            "style": "IPY_MODEL_c25262c43f084470b9fdba428424c634",
            "value": " 150/150 [00:00&lt;00:00, 10.6kB/s]"
          }
        },
        "2711d08810a4412b9aaaf28c8bd7da83": {
          "model_module": "@jupyter-widgets/base",
          "model_name": "LayoutModel",
          "model_module_version": "1.2.0",
          "state": {
            "_model_module": "@jupyter-widgets/base",
            "_model_module_version": "1.2.0",
            "_model_name": "LayoutModel",
            "_view_count": null,
            "_view_module": "@jupyter-widgets/base",
            "_view_module_version": "1.2.0",
            "_view_name": "LayoutView",
            "align_content": null,
            "align_items": null,
            "align_self": null,
            "border": null,
            "bottom": null,
            "display": null,
            "flex": null,
            "flex_flow": null,
            "grid_area": null,
            "grid_auto_columns": null,
            "grid_auto_flow": null,
            "grid_auto_rows": null,
            "grid_column": null,
            "grid_gap": null,
            "grid_row": null,
            "grid_template_areas": null,
            "grid_template_columns": null,
            "grid_template_rows": null,
            "height": null,
            "justify_content": null,
            "justify_items": null,
            "left": null,
            "margin": null,
            "max_height": null,
            "max_width": null,
            "min_height": null,
            "min_width": null,
            "object_fit": null,
            "object_position": null,
            "order": null,
            "overflow": null,
            "overflow_x": null,
            "overflow_y": null,
            "padding": null,
            "right": null,
            "top": null,
            "visibility": null,
            "width": null
          }
        },
        "0a666364642b4660836f952a6f2e8270": {
          "model_module": "@jupyter-widgets/base",
          "model_name": "LayoutModel",
          "model_module_version": "1.2.0",
          "state": {
            "_model_module": "@jupyter-widgets/base",
            "_model_module_version": "1.2.0",
            "_model_name": "LayoutModel",
            "_view_count": null,
            "_view_module": "@jupyter-widgets/base",
            "_view_module_version": "1.2.0",
            "_view_name": "LayoutView",
            "align_content": null,
            "align_items": null,
            "align_self": null,
            "border": null,
            "bottom": null,
            "display": null,
            "flex": null,
            "flex_flow": null,
            "grid_area": null,
            "grid_auto_columns": null,
            "grid_auto_flow": null,
            "grid_auto_rows": null,
            "grid_column": null,
            "grid_gap": null,
            "grid_row": null,
            "grid_template_areas": null,
            "grid_template_columns": null,
            "grid_template_rows": null,
            "height": null,
            "justify_content": null,
            "justify_items": null,
            "left": null,
            "margin": null,
            "max_height": null,
            "max_width": null,
            "min_height": null,
            "min_width": null,
            "object_fit": null,
            "object_position": null,
            "order": null,
            "overflow": null,
            "overflow_x": null,
            "overflow_y": null,
            "padding": null,
            "right": null,
            "top": null,
            "visibility": null,
            "width": null
          }
        },
        "17d8732a67e54f1997b48e95ea125c4e": {
          "model_module": "@jupyter-widgets/controls",
          "model_name": "DescriptionStyleModel",
          "model_module_version": "1.5.0",
          "state": {
            "_model_module": "@jupyter-widgets/controls",
            "_model_module_version": "1.5.0",
            "_model_name": "DescriptionStyleModel",
            "_view_count": null,
            "_view_module": "@jupyter-widgets/base",
            "_view_module_version": "1.2.0",
            "_view_name": "StyleView",
            "description_width": ""
          }
        },
        "f310e8938f1842fe9296b3c4fd1a7338": {
          "model_module": "@jupyter-widgets/base",
          "model_name": "LayoutModel",
          "model_module_version": "1.2.0",
          "state": {
            "_model_module": "@jupyter-widgets/base",
            "_model_module_version": "1.2.0",
            "_model_name": "LayoutModel",
            "_view_count": null,
            "_view_module": "@jupyter-widgets/base",
            "_view_module_version": "1.2.0",
            "_view_name": "LayoutView",
            "align_content": null,
            "align_items": null,
            "align_self": null,
            "border": null,
            "bottom": null,
            "display": null,
            "flex": null,
            "flex_flow": null,
            "grid_area": null,
            "grid_auto_columns": null,
            "grid_auto_flow": null,
            "grid_auto_rows": null,
            "grid_column": null,
            "grid_gap": null,
            "grid_row": null,
            "grid_template_areas": null,
            "grid_template_columns": null,
            "grid_template_rows": null,
            "height": null,
            "justify_content": null,
            "justify_items": null,
            "left": null,
            "margin": null,
            "max_height": null,
            "max_width": null,
            "min_height": null,
            "min_width": null,
            "object_fit": null,
            "object_position": null,
            "order": null,
            "overflow": null,
            "overflow_x": null,
            "overflow_y": null,
            "padding": null,
            "right": null,
            "top": null,
            "visibility": null,
            "width": null
          }
        },
        "217303e40ccf4b39ae0e6d687c2f4683": {
          "model_module": "@jupyter-widgets/controls",
          "model_name": "ProgressStyleModel",
          "model_module_version": "1.5.0",
          "state": {
            "_model_module": "@jupyter-widgets/controls",
            "_model_module_version": "1.5.0",
            "_model_name": "ProgressStyleModel",
            "_view_count": null,
            "_view_module": "@jupyter-widgets/base",
            "_view_module_version": "1.2.0",
            "_view_name": "StyleView",
            "bar_color": null,
            "description_width": ""
          }
        },
        "940363e0165649aab8488172e65ccff3": {
          "model_module": "@jupyter-widgets/base",
          "model_name": "LayoutModel",
          "model_module_version": "1.2.0",
          "state": {
            "_model_module": "@jupyter-widgets/base",
            "_model_module_version": "1.2.0",
            "_model_name": "LayoutModel",
            "_view_count": null,
            "_view_module": "@jupyter-widgets/base",
            "_view_module_version": "1.2.0",
            "_view_name": "LayoutView",
            "align_content": null,
            "align_items": null,
            "align_self": null,
            "border": null,
            "bottom": null,
            "display": null,
            "flex": null,
            "flex_flow": null,
            "grid_area": null,
            "grid_auto_columns": null,
            "grid_auto_flow": null,
            "grid_auto_rows": null,
            "grid_column": null,
            "grid_gap": null,
            "grid_row": null,
            "grid_template_areas": null,
            "grid_template_columns": null,
            "grid_template_rows": null,
            "height": null,
            "justify_content": null,
            "justify_items": null,
            "left": null,
            "margin": null,
            "max_height": null,
            "max_width": null,
            "min_height": null,
            "min_width": null,
            "object_fit": null,
            "object_position": null,
            "order": null,
            "overflow": null,
            "overflow_x": null,
            "overflow_y": null,
            "padding": null,
            "right": null,
            "top": null,
            "visibility": null,
            "width": null
          }
        },
        "c25262c43f084470b9fdba428424c634": {
          "model_module": "@jupyter-widgets/controls",
          "model_name": "DescriptionStyleModel",
          "model_module_version": "1.5.0",
          "state": {
            "_model_module": "@jupyter-widgets/controls",
            "_model_module_version": "1.5.0",
            "_model_name": "DescriptionStyleModel",
            "_view_count": null,
            "_view_module": "@jupyter-widgets/base",
            "_view_module_version": "1.2.0",
            "_view_name": "StyleView",
            "description_width": ""
          }
        }
      }
    }
  },
  "nbformat": 4,
  "nbformat_minor": 0
}